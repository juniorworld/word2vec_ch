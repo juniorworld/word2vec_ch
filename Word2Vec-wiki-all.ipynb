{
 "cells": [
  {
   "cell_type": "code",
   "execution_count": 131,
   "metadata": {},
   "outputs": [],
   "source": [
    "import pandas as pd"
   ]
  },
  {
   "cell_type": "code",
   "execution_count": 22,
   "metadata": {},
   "outputs": [],
   "source": [
    "train = open(\"wiki_texts_tokenized.txt\", \"r\")"
   ]
  },
  {
   "cell_type": "code",
   "execution_count": 23,
   "metadata": {
    "scrolled": true
   },
   "outputs": [
    {
     "name": "stdout",
     "output_type": "stream",
     "text": [
      "39473\n",
      "欧几里得 #西元前 世纪 希腊 数学家 #现在 认为 几何 #此画 拉斐尔 作品 #雅典 学院 #数学 #利用 符号语言 研究 数量 #结构 #变化 以及 空间 概念 一门 学科 #某种 角度看 属于 形式 科学 一种 #数学 透过 抽象化 逻辑推理 使用 #计数 #计算 #数学家 拓展 这些 概念 #数学 基本概念 完善 #古埃及 #古希腊 那里 更为 严谨 处理 #那时 开始 #数学 发展 持续 不断 小幅 进展 #世纪 文艺复兴 时期 #致使 数学 加速 发展 #直至 今日 #今日 #数学 使用 不同 领域 #包括 科学 #工程 #医学 经济学 #有时 激起 数学 发现 #导致 全新 学科 发展 #数学家 研究 纯数学 #就是 数学 本身 实质性 内容 #不以 任何 实际 应用 目标 #虽然 许多 研究 纯数学 开始 #过程 发现 许多 应用 #词源 #西方 语言 #数学 #词源 自于 古希腊 #其有 #学习 #学问 #科学 #数学 研究 #即使 语源 #形容词 #意思 #学习 有关 #用功 #用来 #数学 #英语 表面 复数 形式 #法语 表面 复数 形式 #可溯 拉丁文 中性 复数 #西塞罗 译自 希腊文 复数 #此一 希腊语 亚里士多德 拿来 #万物 #概念 #汉字 表示 #数学 #一词 大约 产生 中国 宋元 时期 #多指 象数 之学 #有时 含有 今天 数学 意义 #例如 #秦九韶 #数学 九章 #永乐 大典 #数书 九章 #宋代 周密 #辛杂识 ##数学 大略 #数学 通轨 #明代 柯尚 #数学 #清代 杜知 耕着 #数学 拾遗 #清代 丁取忠 #直到 #经过 中国 数学 名词 审查 委员会 研究 #算学 #数学 #两词 使用 状况 #确认 #数学 #表示 今天 意义 数学 含义 #历史 #奇普 #印加帝国 时所 使用 计数 工具 #玛雅 数字 #数学 有着 久远 历史 #中国 古代 六艺 之一 #数学 一词 西方 希腊语 词源 #mathematik #意思 #学问 基础 #源于 #thema #科学 #知识 #学问 #时间 长短 抽象 数量 关系 #比如 时间 单位 #季节 #算术 #加减乘除 #自然而然 产生 #历史 许多 不同 记数 系统 #最初 历史记录 时候 #了解 数字 关系 #为了 测量 土地 #以及 为了 预测 天文 事件 形成 #结构 #空间 时间 方面 研究 ##世纪 #算术 #微积分 概念 此时 形成 #随着 数学 转向 形式化 #从古至今 #数学 一直 不断 延展 #科学 丰富 相互作用 #两者 发展 受惠 彼此 #在历史上 有着 许多 数学 发现 #并且 直至 今日 不断 地有 发现 #mikhail #sevryuk #期刊 所说 #数学 评论 创刊 年份 #现已 超过 一百九十 万份 #而且 每年 增加 超过 七万 五千 #形成 #纯数学 应用 数学 美学 #牛顿 #微积分 发明者 之一 #每当 涉及 数量 #结构 #空间 变化 方面 困难 问题 #往往 拓展 数学 研究 范畴 #开始 #数学 运用 可见 贸易 #土地 测量 之后 天文学 #今日 #数学 本身 给出 许多 问题 #牛顿 莱布尼兹 微积分 发明者 #费曼 发明 费曼 路径 积分 #这是 推理 物理 洞察 二者 产物 #今日 理论 引申 出新 数学 #一些 数学 生成 领域 有关 #用来 解答 领域 问题 #可以 成为 一般 数学 概念 #即使 #最纯 #数学 通常 实际 用途 #此一 非比寻常 事实 #诺贝尔 物理 奖得主 维格纳 称为 #如同 大多数 研究 领域 #主要 分歧 纯数学 应用 数学 #应用 数学 #分成 两大 领域 #并且 变成 它们 自身 学科 #统计学 电脑 科学 #许多 数学家 谈论 数学 #优美 #其内 美学 及美 #简单 #一般化 #美的 一种 #另外 包括 巧妙 证明 #或者 加快 计算 数值 方法 #快速 傅立叶 变换 #德菲 #哈罗德 #哈代 #一个 数学家 自白 #符号 #语言 精确性 #现代 符号 #此一 图像 产生 #cos #arccos #sin #arcsin #cos #世纪 发明 出来 #在此之前 #数学 文字 形式 书写 出来 #这种 形式 限制 数学 发展 #初学者 却常 对此 感到 怯步 #极度 压缩 #少量 符号 包含 大量 讯息 #如同 音乐 符号 一般 #现今 数学 符号 明确 语法 #并且 有效 讯息 编码 #这是 其他 书写 方式 难以 做到 #符号化 形式化 使得 数学 迅速 发展 #数学 语言 初学者 而言 感到 困难 #困恼 初学者 #开放 #数学 有着 特别 意思 #数学 术语 包括 ##可积性 #专有名词 #数学 需要 日常用语 精确性 #严谨 #现实 应用 #定理 #希腊人 期许 仔细 论证 #牛顿 时代 #使用 方法 严谨 #牛顿 为了 解决问题 定义 #今日 #大量 计算 难以 验证 #证明 很难说 足够 严谨 #公理 传统 思想 中是 #不证 自明 真理 #这种 想法 问题 #形式 #公理 只是 一串 符号 #依据 哥德尔 完备 定理 #尽管如此 #意义 #数学 作为 科学 #卡尔 #弗里德里希 #高斯 #卡尔 #弗里德里希 #高斯 数学 #科学 皇后 #拉丁 原文 #以及 德语 #对应 #科学 #单字 意思 知识 #领域 #实际上 #科学 #认为 科学 物理 世界 #数学 #至少 纯数学 #不会 一门 科学 #爱因斯坦 如此 描述 #数学 定律 现实 有关 #它们 确定 #它们 越是 确定 的话 #它们 现实 不会 有关 #因此 不是 卡尔 #波普尔 定义 科学 ##年代 #波普尔 推断 #大部份 数学 定律 #物理 生物学 一样 #假设 演绎 #现在 看起来 接近 #然而 #其他 思想家 #如较 卡托斯 #观点 某些 科学 领域 #理论物理 #公理 尝试 符合 现实 数学 #事实上 #理论 物理学家 齐曼 #john #ziman #认为 科学 一种 公众 知识 #因此 包含 数学 #任何 情况 #减轻 数学 使用 科学 方法 缺点 #史蒂芬 #沃尔夫 勒姆 ##一种 科学 #提出 #数学家 对此 态度 一致 #因此 基本上 哲学家 #低估 美学 方面 重要性 #创造 #艺术 #或是 #发现 #科学 #争议 #大学 院系 划分 常见 #科学 数学系 #实际上 #细节 分开 #数学 领域 #有如 反映 中国 算盘 一般 #如上所述 #了解 数字 关系 #测量 土地 预测 天文 事件 #四种 需要 大致 数量 #结构 #空间 变化 #算术 #代数 #几何 分析 #数学 广泛 领域 相关 #除了 上述 主要 关注 之外 #逻辑 #集合论 #基础 #不同 科学 经验 数学 #应用 数学 #近代 不确定性 严格 研究 #基础 哲学 #为了 阐明 数学 基础 #研究 此一 架构 结果 #本身 而言 #现代 逻辑 分成 递归论 #模型 证明 #千禧年 大奖 难题 ##############数学 逻辑 #集合论 #范畴 #纯粹 数学 #数量 #数量 研究 起于 #孪生 质数 猜想 哥德巴赫猜想 #当数系 更进一步 发展 #整数 视为 有理数 子集 #有理数 包含 实数 #连续 实数 表示 #实数 可以 进一步 广义 化成 复数 #自然数 可以 推广 超限 #形式化 计数 无限 概念 #一个 研究 领域 大小 #阿列 夫数 ############自然数 #整数 #有理数 #实数 #复数 #结构 #这些 物件 结构 性质 探讨 于群 #####抽象 系统 #该些 物件 事实上 就是 这样 系统 #代数 领域 #一个 重要 概念 #广义 化至 向量 空间 向量 #它于 线性代数 研究 #数量 #结构 空间 #变化 #纯粹 数学 #研究 抽象 结构 理论 #结构 #布尔 巴基 学派 认为 #三种 基本 抽象 结构 #代数 结构 #结构 #偏序 #全序 #拓扑 结构 #邻域 #极限 #连通性 #维数 ################数论 #群论 #图论 #理论 #空间 #空间 研究 源自 几何 #尤其 欧几里得 几何 #三角学 结合 空间 及数 #包含 有着 勾股定理 #欧几里得 几何 #拓扑学 #空间 解析几何 #结合 空间 概念 #有着 拓扑 研究 #结合 结构 空间 #李群 用来 研究 空间 #结构 变化 #许多 分支 #包含 存在 已久 庞加莱 猜想 #以及 争议 四色 定理 #庞加莱 猜想 #确认 俄罗斯 数学家 格里 戈里 #佩雷尔曼 证明 #四色 定理 #由凯 尼斯 #阿佩尔 沃夫冈 #哈肯 电脑 证明 #从来 没有 人力 验证 ##################几何 #三角学 #微分 几何 #拓扑学 ###分形 ###碎形 #测度论 #变化 #微积分 更为 研究 变化 有利 工具 #函数 诞生 #描述 变化 核心 概念 #而复 分析 复数 等价 领域 #黎曼 猜想 #数学 基本 未决 问题 之一 #便是 复分析 描述 #泛函 分析 注重 函数 #一般 无限 #空间 #微分方程 研究 #######微积分 #向量分析 #微分方程 #动力系统 #混沌 理论 #复分析 #离散数学 #包含 计算 理论 #计算 复杂性 理论 资讯 理论 #包含 现知 有力 模型 #图灵机 #尽管 电脑 硬体 快速 进步 #最后 #因此 压缩 概念 #作为 相对 领域 #离散数学 许多 基本 未解 问题 #其中 有名 #np 问题 #千禧年 大奖 难题 之一 #一般 相信 问题 解答 否定 ###############组合 数学 #计算 理论 #密码学 #图论 #应用 数学 #工商业 及其 领域 现实 问题 #应用 数学 重要 领域 统计学 #分析 预测 #大部份 实验 #比较 觉得 合作 团体 一份 #数值 分析 研究 什么 计算方法 ##gravitation #space #source ##数学 物理 ###数学 流体力学 ##composite #trapezoidal #rule #illustration #small ##数值 分析 ##maximum #boxed ##最佳化 ##two #red #dice ##概率论 ##oldfaithful ##统计学 ##market #data #index #nya #on #utc ##计量 金融 ##arbitrary #gametree #solved ####赛局 理论 ###博弈论 ##front #pareto ##数理经济学 ##signal #transduction #pathways ####生物 数学 ##linear #programming #example #graph ###作业 研究 ##simple #feedback #control #loop ##控制论 #数学 奖项 #菲尔 奖牌 正面 #数学 通常 其他 科学 奖项 分开 #数学 有名 奖为 菲尔 兹奖 #创立 #四年 颁奖 一次 #通常 认为 数学 诺贝尔奖 #创立 #两者 颁奖 特定 工作 主题 ##问题 #称为 希尔伯特 #问题 #德国 数学家 大卫 #希尔伯特 提出 #一新 七个 重要 问题 #称为 千禧年 大奖 难题 #发表 #当中 只有 一个 问题 #黎曼 猜想 #希尔伯特 问题 重复 #菲尔 兹奖 #四年 颁奖 一次 #卓越贡献 年轻 数学家 #每次 最多四人 得奖 #得奖者 元旦 未满 四十岁 #年轻 数学家 可以 获得 最大 奖项 #加拿大 数学家 约翰 #查尔斯 #菲尔 要求 设立 #菲尔 视为 #数学 #诺贝尔奖 #沃尔夫 #沃尔夫 基金会 颁发 #基金会 #以色列 创立 #开始 颁奖 #创始人 里卡多 #沃尔夫 外交家 #实业家 慈善家 #阿贝尔 #每年 颁发 一次 #为了 纪念 #挪威 数学家 尼尔斯 #亨利 #阿贝尔 二百 周年 诞辰 #挪威政府 宣布 开始 颁发 此种 奖金 #奖金 数额 大致 诺贝尔奖 相近 #挪威政府 拨款 #挪威克朗 作为 启动资金 #扩大 数学 影响 #参见 #数学 哲学 #数学 游戏 #数学家 列表 #教育 #算经十书 #数学 竞赛 #数学题 ##参考书目 #benson #donald #the #moment #of #proof #mathematical #epiphanies #oxford #university #press #usa #new #ed #edition #december #isbn #boyer #carl #history #of #mathematics #wiley #edition #march #isbn #concise #history #of #mathematics #from #the #concept #of #number #to #contemporary #mathematics #courant #and #robbins #what #is #mathematics #an #elementary #approach #to #ideas #and #methods #oxford #university #press #usa #edition #july #isbn #davis #philip #and #hersh #reuben #the #mathematical #experience #mariner #books #reprint #edition #january #isbn #gentle #introduction #to #the #world #of #mathematics #eves #howard #an #introduction #to #the #history #of #mathematics #sixth #edition #saunders #isbn #gullberg #jan #mathematics #from #the #birth #of #numbers #norton #company #st #edition #october #isbn #an #encyclopedic #overview #of #mathematics #presented #in #clear #simple #language #hazewinkel #michiel #ed #数学 百科全书 #kluwer #academic #publishers #translated #and #expanded #version #of #soviet #mathematics #encyclopedia #in #ten #expensive #volumes #the #most #complete #and #authoritative #work #available #also #in #paperback #and #on #cd #rom #and #online #jourdain #philip #the #nature #of #mathematics #in #the #world #of #mathematics #james #newman #editor #dover #isbn #kline #morris #mathematical #thought #from #ancient #to #modern #times #oxford #university #press #usa #paperback #edition #march #isbn #牛津 英语词典 #second #edition #ed #john #simpson #and #edmund #weiner #clarendon #press #isbn #the #oxford #dictionary #of #english #etymology #reprint #isbn #pappas #theoni #the #joy #of #mathematics #wide #world #publishing #revised #edition #june #isbn #peterson #ivars #mathematical #tourist #new #and #updated #snapshots #of #modern #mathematics #owl #books #isbn #参考 网址 #rusin #dave #the #mathematical #atlas #英文版 #现代 数学 漫游 #weisstein #eric #world #of #mathematics #一个 在线 数学 百科全书 #planet #math #一个 在线 数学 百科全书 #使用 gfdl #允许 维基百科 交换 条目 #mathforge #一个 包含 数学 #物理 #epistemath #数学知识 #香港科技大学 #数学网 #一个 数学史 为主 网站 #怎样 研习 纯数学 #统计学 #本科 基础 研究 课程 参考书目 #数学 文化 #主要 面向 大学生 #大学老师 研究生 #以及 中学老师 学生 #数学 学习 资源 #互联网 数学 学习 资源 教学 视频 #英汉 对照 数学 用语 #archive #英汉 对照 数学 用语 #albany #bureau #of #bilingual #education #see #profile #at #archive \n",
      "\n"
     ]
    }
   ],
   "source": [
    "train_text=train.readlines()\n",
    "print len(train_text)\n",
    "print train_text[0]\n",
    "##Seen lots of noises in the sentences."
   ]
  },
  {
   "cell_type": "markdown",
   "metadata": {},
   "source": [
    "# Preprocessing"
   ]
  },
  {
   "cell_type": "markdown",
   "metadata": {},
   "source": [
    "## 1. Remove repeating Pound Sign"
   ]
  },
  {
   "cell_type": "code",
   "execution_count": 24,
   "metadata": {},
   "outputs": [],
   "source": [
    "import re"
   ]
  },
  {
   "cell_type": "code",
   "execution_count": 32,
   "metadata": {},
   "outputs": [],
   "source": [
    "train_text=[re.sub('#*#','#',line) for line in train_text]"
   ]
  },
  {
   "cell_type": "code",
   "execution_count": 33,
   "metadata": {
    "scrolled": true
   },
   "outputs": [
    {
     "name": "stdout",
     "output_type": "stream",
     "text": [
      "欧几里得 #西元前 世纪 希腊 数学家 #现在 认为 几何 #此画 拉斐尔 作品 #雅典 学院 #数学 #利用 符号语言 研究 数量 #结构 #变化 以及 空间 概念 一门 学科 #某种 角度看 属于 形式 科学 一种 #数学 透过 抽象化 逻辑推理 使用 #计数 #计算 #数学家 拓展 这些 概念 #数学 基本概念 完善 #古埃及 #古希腊 那里 更为 严谨 处理 #那时 开始 #数学 发展 持续 不断 小幅 进展 #世纪 文艺复兴 时期 #致使 数学 加速 发展 #直至 今日 #今日 #数学 使用 不同 领域 #包括 科学 #工程 #医学 经济学 #有时 激起 数学 发现 #导致 全新 学科 发展 #数学家 研究 纯数学 #就是 数学 本身 实质性 内容 #不以 任何 实际 应用 目标 #虽然 许多 研究 纯数学 开始 #过程 发现 许多 应用 #词源 #西方 语言 #数学 #词源 自于 古希腊 #其有 #学习 #学问 #科学 #数学 研究 #即使 语源 #形容词 #意思 #学习 有关 #用功 #用来 #数学 #英语 表面 复数 形式 #法语 表面 复数 形式 #可溯 拉丁文 中性 复数 #西塞罗 译自 希腊文 复数 #此一 希腊语 亚里士多德 拿来 #万物 #概念 #汉字 表示 #数学 #一词 大约 产生 中国 宋元 时期 #多指 象数 之学 #有时 含有 今天 数学 意义 #例如 #秦九韶 #数学 九章 #永乐 大典 #数书 九章 #宋代 周密 #辛杂识 #数学 大略 #数学 通轨 #明代 柯尚 #数学 #清代 杜知 耕着 #数学 拾遗 #清代 丁取忠 #直到 #经过 中国 数学 名词 审查 委员会 研究 #算学 #数学 #两词 使用 状况 #确认 #数学 #表示 今天 意义 数学 含义 #历史 #奇普 #印加帝国 时所 使用 计数 工具 #玛雅 数字 #数学 有着 久远 历史 #中国 古代 六艺 之一 #数学 一词 西方 希腊语 词源 #mathematik #意思 #学问 基础 #源于 #thema #科学 #知识 #学问 #时间 长短 抽象 数量 关系 #比如 时间 单位 #季节 #算术 #加减乘除 #自然而然 产生 #历史 许多 不同 记数 系统 #最初 历史记录 时候 #了解 数字 关系 #为了 测量 土地 #以及 为了 预测 天文 事件 形成 #结构 #空间 时间 方面 研究 #世纪 #算术 #微积分 概念 此时 形成 #随着 数学 转向 形式化 #从古至今 #数学 一直 不断 延展 #科学 丰富 相互作用 #两者 发展 受惠 彼此 #在历史上 有着 许多 数学 发现 #并且 直至 今日 不断 地有 发现 #mikhail #sevryuk #期刊 所说 #数学 评论 创刊 年份 #现已 超过 一百九十 万份 #而且 每年 增加 超过 七万 五千 #形成 #纯数学 应用 数学 美学 #牛顿 #微积分 发明者 之一 #每当 涉及 数量 #结构 #空间 变化 方面 困难 问题 #往往 拓展 数学 研究 范畴 #开始 #数学 运用 可见 贸易 #土地 测量 之后 天文学 #今日 #数学 本身 给出 许多 问题 #牛顿 莱布尼兹 微积分 发明者 #费曼 发明 费曼 路径 积分 #这是 推理 物理 洞察 二者 产物 #今日 理论 引申 出新 数学 #一些 数学 生成 领域 有关 #用来 解答 领域 问题 #可以 成为 一般 数学 概念 #即使 #最纯 #数学 通常 实际 用途 #此一 非比寻常 事实 #诺贝尔 物理 奖得主 维格纳 称为 #如同 大多数 研究 领域 #主要 分歧 纯数学 应用 数学 #应用 数学 #分成 两大 领域 #并且 变成 它们 自身 学科 #统计学 电脑 科学 #许多 数学家 谈论 数学 #优美 #其内 美学 及美 #简单 #一般化 #美的 一种 #另外 包括 巧妙 证明 #或者 加快 计算 数值 方法 #快速 傅立叶 变换 #德菲 #哈罗德 #哈代 #一个 数学家 自白 #符号 #语言 精确性 #现代 符号 #此一 图像 产生 #cos #arccos #sin #arcsin #cos #世纪 发明 出来 #在此之前 #数学 文字 形式 书写 出来 #这种 形式 限制 数学 发展 #初学者 却常 对此 感到 怯步 #极度 压缩 #少量 符号 包含 大量 讯息 #如同 音乐 符号 一般 #现今 数学 符号 明确 语法 #并且 有效 讯息 编码 #这是 其他 书写 方式 难以 做到 #符号化 形式化 使得 数学 迅速 发展 #数学 语言 初学者 而言 感到 困难 #困恼 初学者 #开放 #数学 有着 特别 意思 #数学 术语 包括 #可积性 #专有名词 #数学 需要 日常用语 精确性 #严谨 #现实 应用 #定理 #希腊人 期许 仔细 论证 #牛顿 时代 #使用 方法 严谨 #牛顿 为了 解决问题 定义 #今日 #大量 计算 难以 验证 #证明 很难说 足够 严谨 #公理 传统 思想 中是 #不证 自明 真理 #这种 想法 问题 #形式 #公理 只是 一串 符号 #依据 哥德尔 完备 定理 #尽管如此 #意义 #数学 作为 科学 #卡尔 #弗里德里希 #高斯 #卡尔 #弗里德里希 #高斯 数学 #科学 皇后 #拉丁 原文 #以及 德语 #对应 #科学 #单字 意思 知识 #领域 #实际上 #科学 #认为 科学 物理 世界 #数学 #至少 纯数学 #不会 一门 科学 #爱因斯坦 如此 描述 #数学 定律 现实 有关 #它们 确定 #它们 越是 确定 的话 #它们 现实 不会 有关 #因此 不是 卡尔 #波普尔 定义 科学 #年代 #波普尔 推断 #大部份 数学 定律 #物理 生物学 一样 #假设 演绎 #现在 看起来 接近 #然而 #其他 思想家 #如较 卡托斯 #观点 某些 科学 领域 #理论物理 #公理 尝试 符合 现实 数学 #事实上 #理论 物理学家 齐曼 #john #ziman #认为 科学 一种 公众 知识 #因此 包含 数学 #任何 情况 #减轻 数学 使用 科学 方法 缺点 #史蒂芬 #沃尔夫 勒姆 #一种 科学 #提出 #数学家 对此 态度 一致 #因此 基本上 哲学家 #低估 美学 方面 重要性 #创造 #艺术 #或是 #发现 #科学 #争议 #大学 院系 划分 常见 #科学 数学系 #实际上 #细节 分开 #数学 领域 #有如 反映 中国 算盘 一般 #如上所述 #了解 数字 关系 #测量 土地 预测 天文 事件 #四种 需要 大致 数量 #结构 #空间 变化 #算术 #代数 #几何 分析 #数学 广泛 领域 相关 #除了 上述 主要 关注 之外 #逻辑 #集合论 #基础 #不同 科学 经验 数学 #应用 数学 #近代 不确定性 严格 研究 #基础 哲学 #为了 阐明 数学 基础 #研究 此一 架构 结果 #本身 而言 #现代 逻辑 分成 递归论 #模型 证明 #千禧年 大奖 难题 #数学 逻辑 #集合论 #范畴 #纯粹 数学 #数量 #数量 研究 起于 #孪生 质数 猜想 哥德巴赫猜想 #当数系 更进一步 发展 #整数 视为 有理数 子集 #有理数 包含 实数 #连续 实数 表示 #实数 可以 进一步 广义 化成 复数 #自然数 可以 推广 超限 #形式化 计数 无限 概念 #一个 研究 领域 大小 #阿列 夫数 #自然数 #整数 #有理数 #实数 #复数 #结构 #这些 物件 结构 性质 探讨 于群 #抽象 系统 #该些 物件 事实上 就是 这样 系统 #代数 领域 #一个 重要 概念 #广义 化至 向量 空间 向量 #它于 线性代数 研究 #数量 #结构 空间 #变化 #纯粹 数学 #研究 抽象 结构 理论 #结构 #布尔 巴基 学派 认为 #三种 基本 抽象 结构 #代数 结构 #结构 #偏序 #全序 #拓扑 结构 #邻域 #极限 #连通性 #维数 #数论 #群论 #图论 #理论 #空间 #空间 研究 源自 几何 #尤其 欧几里得 几何 #三角学 结合 空间 及数 #包含 有着 勾股定理 #欧几里得 几何 #拓扑学 #空间 解析几何 #结合 空间 概念 #有着 拓扑 研究 #结合 结构 空间 #李群 用来 研究 空间 #结构 变化 #许多 分支 #包含 存在 已久 庞加莱 猜想 #以及 争议 四色 定理 #庞加莱 猜想 #确认 俄罗斯 数学家 格里 戈里 #佩雷尔曼 证明 #四色 定理 #由凯 尼斯 #阿佩尔 沃夫冈 #哈肯 电脑 证明 #从来 没有 人力 验证 #几何 #三角学 #微分 几何 #拓扑学 #分形 #碎形 #测度论 #变化 #微积分 更为 研究 变化 有利 工具 #函数 诞生 #描述 变化 核心 概念 #而复 分析 复数 等价 领域 #黎曼 猜想 #数学 基本 未决 问题 之一 #便是 复分析 描述 #泛函 分析 注重 函数 #一般 无限 #空间 #微分方程 研究 #微积分 #向量分析 #微分方程 #动力系统 #混沌 理论 #复分析 #离散数学 #包含 计算 理论 #计算 复杂性 理论 资讯 理论 #包含 现知 有力 模型 #图灵机 #尽管 电脑 硬体 快速 进步 #最后 #因此 压缩 概念 #作为 相对 领域 #离散数学 许多 基本 未解 问题 #其中 有名 #np 问题 #千禧年 大奖 难题 之一 #一般 相信 问题 解答 否定 #组合 数学 #计算 理论 #密码学 #图论 #应用 数学 #工商业 及其 领域 现实 问题 #应用 数学 重要 领域 统计学 #分析 预测 #大部份 实验 #比较 觉得 合作 团体 一份 #数值 分析 研究 什么 计算方法 #gravitation #space #source #数学 物理 #数学 流体力学 #composite #trapezoidal #rule #illustration #small #数值 分析 #maximum #boxed #最佳化 #two #red #dice #概率论 #oldfaithful #统计学 #market #data #index #nya #on #utc #计量 金融 #arbitrary #gametree #solved #赛局 理论 #博弈论 #front #pareto #数理经济学 #signal #transduction #pathways #生物 数学 #linear #programming #example #graph #作业 研究 #simple #feedback #control #loop #控制论 #数学 奖项 #菲尔 奖牌 正面 #数学 通常 其他 科学 奖项 分开 #数学 有名 奖为 菲尔 兹奖 #创立 #四年 颁奖 一次 #通常 认为 数学 诺贝尔奖 #创立 #两者 颁奖 特定 工作 主题 #问题 #称为 希尔伯特 #问题 #德国 数学家 大卫 #希尔伯特 提出 #一新 七个 重要 问题 #称为 千禧年 大奖 难题 #发表 #当中 只有 一个 问题 #黎曼 猜想 #希尔伯特 问题 重复 #菲尔 兹奖 #四年 颁奖 一次 #卓越贡献 年轻 数学家 #每次 最多四人 得奖 #得奖者 元旦 未满 四十岁 #年轻 数学家 可以 获得 最大 奖项 #加拿大 数学家 约翰 #查尔斯 #菲尔 要求 设立 #菲尔 视为 #数学 #诺贝尔奖 #沃尔夫 #沃尔夫 基金会 颁发 #基金会 #以色列 创立 #开始 颁奖 #创始人 里卡多 #沃尔夫 外交家 #实业家 慈善家 #阿贝尔 #每年 颁发 一次 #为了 纪念 #挪威 数学家 尼尔斯 #亨利 #阿贝尔 二百 周年 诞辰 #挪威政府 宣布 开始 颁发 此种 奖金 #奖金 数额 大致 诺贝尔奖 相近 #挪威政府 拨款 #挪威克朗 作为 启动资金 #扩大 数学 影响 #参见 #数学 哲学 #数学 游戏 #数学家 列表 #教育 #算经十书 #数学 竞赛 #数学题 #参考书目 #benson #donald #the #moment #of #proof #mathematical #epiphanies #oxford #university #press #usa #new #ed #edition #december #isbn #boyer #carl #history #of #mathematics #wiley #edition #march #isbn #concise #history #of #mathematics #from #the #concept #of #number #to #contemporary #mathematics #courant #and #robbins #what #is #mathematics #an #elementary #approach #to #ideas #and #methods #oxford #university #press #usa #edition #july #isbn #davis #philip #and #hersh #reuben #the #mathematical #experience #mariner #books #reprint #edition #january #isbn #gentle #introduction #to #the #world #of #mathematics #eves #howard #an #introduction #to #the #history #of #mathematics #sixth #edition #saunders #isbn #gullberg #jan #mathematics #from #the #birth #of #numbers #norton #company #st #edition #october #isbn #an #encyclopedic #overview #of #mathematics #presented #in #clear #simple #language #hazewinkel #michiel #ed #数学 百科全书 #kluwer #academic #publishers #translated #and #expanded #version #of #soviet #mathematics #encyclopedia #in #ten #expensive #volumes #the #most #complete #and #authoritative #work #available #also #in #paperback #and #on #cd #rom #and #online #jourdain #philip #the #nature #of #mathematics #in #the #world #of #mathematics #james #newman #editor #dover #isbn #kline #morris #mathematical #thought #from #ancient #to #modern #times #oxford #university #press #usa #paperback #edition #march #isbn #牛津 英语词典 #second #edition #ed #john #simpson #and #edmund #weiner #clarendon #press #isbn #the #oxford #dictionary #of #english #etymology #reprint #isbn #pappas #theoni #the #joy #of #mathematics #wide #world #publishing #revised #edition #june #isbn #peterson #ivars #mathematical #tourist #new #and #updated #snapshots #of #modern #mathematics #owl #books #isbn #参考 网址 #rusin #dave #the #mathematical #atlas #英文版 #现代 数学 漫游 #weisstein #eric #world #of #mathematics #一个 在线 数学 百科全书 #planet #math #一个 在线 数学 百科全书 #使用 gfdl #允许 维基百科 交换 条目 #mathforge #一个 包含 数学 #物理 #epistemath #数学知识 #香港科技大学 #数学网 #一个 数学史 为主 网站 #怎样 研习 纯数学 #统计学 #本科 基础 研究 课程 参考书目 #数学 文化 #主要 面向 大学生 #大学老师 研究生 #以及 中学老师 学生 #数学 学习 资源 #互联网 数学 学习 资源 教学 视频 #英汉 对照 数学 用语 #archive #英汉 对照 数学 用语 #albany #bureau #of #bilingual #education #see #profile #at #archive \n",
      "\n"
     ]
    }
   ],
   "source": [
    "print train_text[0]"
   ]
  },
  {
   "cell_type": "markdown",
   "metadata": {},
   "source": [
    "## 2. Remove English Chars"
   ]
  },
  {
   "cell_type": "code",
   "execution_count": 40,
   "metadata": {},
   "outputs": [],
   "source": [
    "train_text=[re.sub('#[a-zA-Z]* ','',line) for line in train_text]"
   ]
  },
  {
   "cell_type": "code",
   "execution_count": 41,
   "metadata": {
    "scrolled": true
   },
   "outputs": [
    {
     "name": "stdout",
     "output_type": "stream",
     "text": [
      "欧几里得 #西元前 世纪 希腊 数学家 #现在 认为 几何 #此画 拉斐尔 作品 #雅典 学院 #数学 #利用 符号语言 研究 数量 #结构 #变化 以及 空间 概念 一门 学科 #某种 角度看 属于 形式 科学 一种 #数学 透过 抽象化 逻辑推理 使用 #计数 #计算 #数学家 拓展 这些 概念 #数学 基本概念 完善 #古埃及 #古希腊 那里 更为 严谨 处理 #那时 开始 #数学 发展 持续 不断 小幅 进展 #世纪 文艺复兴 时期 #致使 数学 加速 发展 #直至 今日 #今日 #数学 使用 不同 领域 #包括 科学 #工程 #医学 经济学 #有时 激起 数学 发现 #导致 全新 学科 发展 #数学家 研究 纯数学 #就是 数学 本身 实质性 内容 #不以 任何 实际 应用 目标 #虽然 许多 研究 纯数学 开始 #过程 发现 许多 应用 #词源 #西方 语言 #数学 #词源 自于 古希腊 #其有 #学习 #学问 #科学 #数学 研究 #即使 语源 #形容词 #意思 #学习 有关 #用功 #用来 #数学 #英语 表面 复数 形式 #法语 表面 复数 形式 #可溯 拉丁文 中性 复数 #西塞罗 译自 希腊文 复数 #此一 希腊语 亚里士多德 拿来 #万物 #概念 #汉字 表示 #数学 #一词 大约 产生 中国 宋元 时期 #多指 象数 之学 #有时 含有 今天 数学 意义 #例如 #秦九韶 #数学 九章 #永乐 大典 #数书 九章 #宋代 周密 #辛杂识 #数学 大略 #数学 通轨 #明代 柯尚 #数学 #清代 杜知 耕着 #数学 拾遗 #清代 丁取忠 #直到 #经过 中国 数学 名词 审查 委员会 研究 #算学 #数学 #两词 使用 状况 #确认 #数学 #表示 今天 意义 数学 含义 #历史 #奇普 #印加帝国 时所 使用 计数 工具 #玛雅 数字 #数学 有着 久远 历史 #中国 古代 六艺 之一 #数学 一词 西方 希腊语 词源 #意思 #学问 基础 #源于 #科学 #知识 #学问 #时间 长短 抽象 数量 关系 #比如 时间 单位 #季节 #算术 #加减乘除 #自然而然 产生 #历史 许多 不同 记数 系统 #最初 历史记录 时候 #了解 数字 关系 #为了 测量 土地 #以及 为了 预测 天文 事件 形成 #结构 #空间 时间 方面 研究 #世纪 #算术 #微积分 概念 此时 形成 #随着 数学 转向 形式化 #从古至今 #数学 一直 不断 延展 #科学 丰富 相互作用 #两者 发展 受惠 彼此 #在历史上 有着 许多 数学 发现 #并且 直至 今日 不断 地有 发现 #期刊 所说 #数学 评论 创刊 年份 #现已 超过 一百九十 万份 #而且 每年 增加 超过 七万 五千 #形成 #纯数学 应用 数学 美学 #牛顿 #微积分 发明者 之一 #每当 涉及 数量 #结构 #空间 变化 方面 困难 问题 #往往 拓展 数学 研究 范畴 #开始 #数学 运用 可见 贸易 #土地 测量 之后 天文学 #今日 #数学 本身 给出 许多 问题 #牛顿 莱布尼兹 微积分 发明者 #费曼 发明 费曼 路径 积分 #这是 推理 物理 洞察 二者 产物 #今日 理论 引申 出新 数学 #一些 数学 生成 领域 有关 #用来 解答 领域 问题 #可以 成为 一般 数学 概念 #即使 #最纯 #数学 通常 实际 用途 #此一 非比寻常 事实 #诺贝尔 物理 奖得主 维格纳 称为 #如同 大多数 研究 领域 #主要 分歧 纯数学 应用 数学 #应用 数学 #分成 两大 领域 #并且 变成 它们 自身 学科 #统计学 电脑 科学 #许多 数学家 谈论 数学 #优美 #其内 美学 及美 #简单 #一般化 #美的 一种 #另外 包括 巧妙 证明 #或者 加快 计算 数值 方法 #快速 傅立叶 变换 #德菲 #哈罗德 #哈代 #一个 数学家 自白 #符号 #语言 精确性 #现代 符号 #此一 图像 产生 #世纪 发明 出来 #在此之前 #数学 文字 形式 书写 出来 #这种 形式 限制 数学 发展 #初学者 却常 对此 感到 怯步 #极度 压缩 #少量 符号 包含 大量 讯息 #如同 音乐 符号 一般 #现今 数学 符号 明确 语法 #并且 有效 讯息 编码 #这是 其他 书写 方式 难以 做到 #符号化 形式化 使得 数学 迅速 发展 #数学 语言 初学者 而言 感到 困难 #困恼 初学者 #开放 #数学 有着 特别 意思 #数学 术语 包括 #可积性 #专有名词 #数学 需要 日常用语 精确性 #严谨 #现实 应用 #定理 #希腊人 期许 仔细 论证 #牛顿 时代 #使用 方法 严谨 #牛顿 为了 解决问题 定义 #今日 #大量 计算 难以 验证 #证明 很难说 足够 严谨 #公理 传统 思想 中是 #不证 自明 真理 #这种 想法 问题 #形式 #公理 只是 一串 符号 #依据 哥德尔 完备 定理 #尽管如此 #意义 #数学 作为 科学 #卡尔 #弗里德里希 #高斯 #卡尔 #弗里德里希 #高斯 数学 #科学 皇后 #拉丁 原文 #以及 德语 #对应 #科学 #单字 意思 知识 #领域 #实际上 #科学 #认为 科学 物理 世界 #数学 #至少 纯数学 #不会 一门 科学 #爱因斯坦 如此 描述 #数学 定律 现实 有关 #它们 确定 #它们 越是 确定 的话 #它们 现实 不会 有关 #因此 不是 卡尔 #波普尔 定义 科学 #年代 #波普尔 推断 #大部份 数学 定律 #物理 生物学 一样 #假设 演绎 #现在 看起来 接近 #然而 #其他 思想家 #如较 卡托斯 #观点 某些 科学 领域 #理论物理 #公理 尝试 符合 现实 数学 #事实上 #理论 物理学家 齐曼 #认为 科学 一种 公众 知识 #因此 包含 数学 #任何 情况 #减轻 数学 使用 科学 方法 缺点 #史蒂芬 #沃尔夫 勒姆 #一种 科学 #提出 #数学家 对此 态度 一致 #因此 基本上 哲学家 #低估 美学 方面 重要性 #创造 #艺术 #或是 #发现 #科学 #争议 #大学 院系 划分 常见 #科学 数学系 #实际上 #细节 分开 #数学 领域 #有如 反映 中国 算盘 一般 #如上所述 #了解 数字 关系 #测量 土地 预测 天文 事件 #四种 需要 大致 数量 #结构 #空间 变化 #算术 #代数 #几何 分析 #数学 广泛 领域 相关 #除了 上述 主要 关注 之外 #逻辑 #集合论 #基础 #不同 科学 经验 数学 #应用 数学 #近代 不确定性 严格 研究 #基础 哲学 #为了 阐明 数学 基础 #研究 此一 架构 结果 #本身 而言 #现代 逻辑 分成 递归论 #模型 证明 #千禧年 大奖 难题 #数学 逻辑 #集合论 #范畴 #纯粹 数学 #数量 #数量 研究 起于 #孪生 质数 猜想 哥德巴赫猜想 #当数系 更进一步 发展 #整数 视为 有理数 子集 #有理数 包含 实数 #连续 实数 表示 #实数 可以 进一步 广义 化成 复数 #自然数 可以 推广 超限 #形式化 计数 无限 概念 #一个 研究 领域 大小 #阿列 夫数 #自然数 #整数 #有理数 #实数 #复数 #结构 #这些 物件 结构 性质 探讨 于群 #抽象 系统 #该些 物件 事实上 就是 这样 系统 #代数 领域 #一个 重要 概念 #广义 化至 向量 空间 向量 #它于 线性代数 研究 #数量 #结构 空间 #变化 #纯粹 数学 #研究 抽象 结构 理论 #结构 #布尔 巴基 学派 认为 #三种 基本 抽象 结构 #代数 结构 #结构 #偏序 #全序 #拓扑 结构 #邻域 #极限 #连通性 #维数 #数论 #群论 #图论 #理论 #空间 #空间 研究 源自 几何 #尤其 欧几里得 几何 #三角学 结合 空间 及数 #包含 有着 勾股定理 #欧几里得 几何 #拓扑学 #空间 解析几何 #结合 空间 概念 #有着 拓扑 研究 #结合 结构 空间 #李群 用来 研究 空间 #结构 变化 #许多 分支 #包含 存在 已久 庞加莱 猜想 #以及 争议 四色 定理 #庞加莱 猜想 #确认 俄罗斯 数学家 格里 戈里 #佩雷尔曼 证明 #四色 定理 #由凯 尼斯 #阿佩尔 沃夫冈 #哈肯 电脑 证明 #从来 没有 人力 验证 #几何 #三角学 #微分 几何 #拓扑学 #分形 #碎形 #测度论 #变化 #微积分 更为 研究 变化 有利 工具 #函数 诞生 #描述 变化 核心 概念 #而复 分析 复数 等价 领域 #黎曼 猜想 #数学 基本 未决 问题 之一 #便是 复分析 描述 #泛函 分析 注重 函数 #一般 无限 #空间 #微分方程 研究 #微积分 #向量分析 #微分方程 #动力系统 #混沌 理论 #复分析 #离散数学 #包含 计算 理论 #计算 复杂性 理论 资讯 理论 #包含 现知 有力 模型 #图灵机 #尽管 电脑 硬体 快速 进步 #最后 #因此 压缩 概念 #作为 相对 领域 #离散数学 许多 基本 未解 问题 #其中 有名 问题 #千禧年 大奖 难题 之一 #一般 相信 问题 解答 否定 #组合 数学 #计算 理论 #密码学 #图论 #应用 数学 #工商业 及其 领域 现实 问题 #应用 数学 重要 领域 统计学 #分析 预测 #大部份 实验 #比较 觉得 合作 团体 一份 #数值 分析 研究 什么 计算方法 #数学 物理 #数学 流体力学 #数值 分析 #最佳化 #概率论 #统计学 #计量 金融 #赛局 理论 #博弈论 #数理经济学 #生物 数学 #作业 研究 #控制论 #数学 奖项 #菲尔 奖牌 正面 #数学 通常 其他 科学 奖项 分开 #数学 有名 奖为 菲尔 兹奖 #创立 #四年 颁奖 一次 #通常 认为 数学 诺贝尔奖 #创立 #两者 颁奖 特定 工作 主题 #问题 #称为 希尔伯特 #问题 #德国 数学家 大卫 #希尔伯特 提出 #一新 七个 重要 问题 #称为 千禧年 大奖 难题 #发表 #当中 只有 一个 问题 #黎曼 猜想 #希尔伯特 问题 重复 #菲尔 兹奖 #四年 颁奖 一次 #卓越贡献 年轻 数学家 #每次 最多四人 得奖 #得奖者 元旦 未满 四十岁 #年轻 数学家 可以 获得 最大 奖项 #加拿大 数学家 约翰 #查尔斯 #菲尔 要求 设立 #菲尔 视为 #数学 #诺贝尔奖 #沃尔夫 #沃尔夫 基金会 颁发 #基金会 #以色列 创立 #开始 颁奖 #创始人 里卡多 #沃尔夫 外交家 #实业家 慈善家 #阿贝尔 #每年 颁发 一次 #为了 纪念 #挪威 数学家 尼尔斯 #亨利 #阿贝尔 二百 周年 诞辰 #挪威政府 宣布 开始 颁发 此种 奖金 #奖金 数额 大致 诺贝尔奖 相近 #挪威政府 拨款 #挪威克朗 作为 启动资金 #扩大 数学 影响 #参见 #数学 哲学 #数学 游戏 #数学家 列表 #教育 #算经十书 #数学 竞赛 #数学题 #参考书目 #数学 百科全书 #牛津 英语词典 #参考 网址 #英文版 #现代 数学 漫游 #一个 在线 数学 百科全书 #一个 在线 数学 百科全书 #使用 gfdl #允许 维基百科 交换 条目 #一个 包含 数学 #物理 #数学知识 #香港科技大学 #数学网 #一个 数学史 为主 网站 #怎样 研习 纯数学 #统计学 #本科 基础 研究 课程 参考书目 #数学 文化 #主要 面向 大学生 #大学老师 研究生 #以及 中学老师 学生 #数学 学习 资源 #互联网 数学 学习 资源 教学 视频 #英汉 对照 数学 用语 #英汉 对照 数学 用语 \n",
      "\n"
     ]
    }
   ],
   "source": [
    "print train_text[0]"
   ]
  },
  {
   "cell_type": "markdown",
   "metadata": {},
   "source": [
    "## 3. Clean tags"
   ]
  },
  {
   "cell_type": "code",
   "execution_count": 12,
   "metadata": {},
   "outputs": [],
   "source": [
    "from bs4 import BeautifulSoup as bs"
   ]
  },
  {
   "cell_type": "code",
   "execution_count": 15,
   "metadata": {
    "collapsed": true
   },
   "outputs": [
    {
     "name": "stdout",
     "output_type": "stream",
     "text": [
      "\"With all this stuff going down at the moment with MJ i've started listening to his music, watching the odd documentary here and there, watched The Wiz and watched Moonwalker again. Maybe i just want to get a certain insight into this guy who i thought was really cool in the eighties just to maybe make up my mind whether he is guilty or innocent. Moonwalker is part biography, part feature film which i remember going to see at the cinema when it was originally released. Some of it has subtle messages about MJ's feeling towards the press and also the obvious message of drugs are bad m'kay.Visually impressive but of course this is all about Michael Jackson so unless you remotely like MJ in anyway then you are going to hate this and find it boring. Some may call MJ an egotist for consenting to the making of this movie BUT MJ and most of his fans would say that he made it for the fans which if true is really nice of him.The actual feature film bit when it finally starts is only on for 20 minutes or so excluding the Smooth Criminal sequence and Joe Pesci is convincing as a psychopathic all powerful drug lord. Why he wants MJ dead so bad is beyond me. Because MJ overheard his plans? Nah, Joe Pesci's character ranted that he wanted people to know it is he who is supplying drugs etc so i dunno, maybe he just hates MJ's music.Lots of cool things in this like MJ turning into a car and a robot and the whole Speed Demon sequence. Also, the director must have had the patience of a saint when it came to filming the kiddy Bad sequence as usually directors hate working with one kid let alone a whole bunch of them performing a complex dance scene.Bottom line, this movie is for people who like MJ on one level or another (which i think is most people). If not, then stay away. It does try and give off a wholesome message and ironically MJ's bestest buddy in this movie is a girl! Michael Jackson is truly one of the most talented people ever to grace this planet but is he guilty? Well, with all the attention i've gave this subject....hmmm well i don't know because people can be different behind closed doors, i know this for a fact. He is either an extremely nice but stupid guy or one of the most sickest liars. I hope he is not the latter.\"\n"
     ]
    }
   ],
   "source": [
    "example1 = bs(train[\"review\"][0])\n",
    "print example1.get_text() #Remove all tabs and markups"
   ]
  },
  {
   "cell_type": "markdown",
   "metadata": {},
   "source": [
    "## 4. Clean numbers"
   ]
  },
  {
   "cell_type": "code",
   "execution_count": 14,
   "metadata": {
    "collapsed": true
   },
   "outputs": [
    {
     "name": "stdout",
     "output_type": "stream",
     "text": [
      " With all this stuff going down at the moment with MJ i ve started listening to his music  watching the odd documentary here and there  watched The Wiz and watched Moonwalker again  Maybe i just want to get a certain insight into this guy who i thought was really cool in the eighties just to maybe make up my mind whether he is guilty or innocent  Moonwalker is part biography  part feature film which i remember going to see at the cinema when it was originally released  Some of it has subtle messages about MJ s feeling towards the press and also the obvious message of drugs are bad m kay Visually impressive but of course this is all about Michael Jackson so unless you remotely like MJ in anyway then you are going to hate this and find it boring  Some may call MJ an egotist for consenting to the making of this movie BUT MJ and most of his fans would say that he made it for the fans which if true is really nice of him The actual feature film bit when it finally starts is only on for    minutes or so excluding the Smooth Criminal sequence and Joe Pesci is convincing as a psychopathic all powerful drug lord  Why he wants MJ dead so bad is beyond me  Because MJ overheard his plans  Nah  Joe Pesci s character ranted that he wanted people to know it is he who is supplying drugs etc so i dunno  maybe he just hates MJ s music Lots of cool things in this like MJ turning into a car and a robot and the whole Speed Demon sequence  Also  the director must have had the patience of a saint when it came to filming the kiddy Bad sequence as usually directors hate working with one kid let alone a whole bunch of them performing a complex dance scene Bottom line  this movie is for people who like MJ on one level or another  which i think is most people   If not  then stay away  It does try and give off a wholesome message and ironically MJ s bestest buddy in this movie is a girl  Michael Jackson is truly one of the most talented people ever to grace this planet but is he guilty  Well  with all the attention i ve gave this subject    hmmm well i don t know because people can be different behind closed doors  i know this for a fact  He is either an extremely nice but stupid guy or one of the most sickest liars  I hope he is not the latter  \n"
     ]
    }
   ],
   "source": [
    "letters_only = re.sub(\"[^a-zA-Z]\",\" \",example1.get_text() )  # The text to search\n",
    "print letters_only"
   ]
  },
  {
   "cell_type": "markdown",
   "metadata": {},
   "source": [
    "## 5. Uniform lower and upper cases"
   ]
  },
  {
   "cell_type": "code",
   "execution_count": 16,
   "metadata": {},
   "outputs": [],
   "source": [
    "lower_case = letters_only.lower()        # Convert to lower case\n",
    "words = lower_case.split()               # Split into words"
   ]
  },
  {
   "cell_type": "code",
   "execution_count": 27,
   "metadata": {},
   "outputs": [],
   "source": [
    "word_count_dic = {x:words.count(x) for x in words}"
   ]
  },
  {
   "cell_type": "markdown",
   "metadata": {},
   "source": [
    "## 6. Stopwords"
   ]
  },
  {
   "cell_type": "code",
   "execution_count": 5,
   "metadata": {},
   "outputs": [],
   "source": [
    "import nltk"
   ]
  },
  {
   "cell_type": "code",
   "execution_count": 6,
   "metadata": {
    "collapsed": true
   },
   "outputs": [
    {
     "name": "stdout",
     "output_type": "stream",
     "text": [
      "[u'i', u'me', u'my', u'myself', u'we', u'our', u'ours', u'ourselves', u'you', u'your', u'yours', u'yourself', u'yourselves', u'he', u'him', u'his', u'himself', u'she', u'her', u'hers', u'herself', u'it', u'its', u'itself', u'they', u'them', u'their', u'theirs', u'themselves', u'what', u'which', u'who', u'whom', u'this', u'that', u'these', u'those', u'am', u'is', u'are', u'was', u'were', u'be', u'been', u'being', u'have', u'has', u'had', u'having', u'do', u'does', u'did', u'doing', u'a', u'an', u'the', u'and', u'but', u'if', u'or', u'because', u'as', u'until', u'while', u'of', u'at', u'by', u'for', u'with', u'about', u'against', u'between', u'into', u'through', u'during', u'before', u'after', u'above', u'below', u'to', u'from', u'up', u'down', u'in', u'out', u'on', u'off', u'over', u'under', u'again', u'further', u'then', u'once', u'here', u'there', u'when', u'where', u'why', u'how', u'all', u'any', u'both', u'each', u'few', u'more', u'most', u'other', u'some', u'such', u'no', u'nor', u'not', u'only', u'own', u'same', u'so', u'than', u'too', u'very', u's', u't', u'can', u'will', u'just', u'don', u'should', u'now', u'd', u'll', u'm', u'o', u're', u've', u'y', u'ain', u'aren', u'couldn', u'didn', u'doesn', u'hadn', u'hasn', u'haven', u'isn', u'ma', u'mightn', u'mustn', u'needn', u'shan', u'shouldn', u'wasn', u'weren', u'won', u'wouldn']\n"
     ]
    }
   ],
   "source": [
    "from nltk.corpus import stopwords\n",
    "print stopwords.words(\"english\") "
   ]
  },
  {
   "cell_type": "markdown",
   "metadata": {},
   "source": [
    "## 4. Compile into a function"
   ]
  },
  {
   "cell_type": "code",
   "execution_count": 20,
   "metadata": {},
   "outputs": [],
   "source": [
    "tokenizer = nltk.data.load('tokenizers/punkt/english.pickle')\n",
    "def article_to_sentences(article, tokenizer, remove_stopwords=False):\n",
    "    sentences=[]\n",
    "    rev=bs(article.strip()).get_text()\n",
    "    letter_only=re.sub(\"[^a-zA-Z]\",\" \",rev)\n",
    "    lower_case=letter_only.lower()\n",
    "    raw_sentences=tokenizer.tokenize(lower_case)\n",
    "    for sentence in raw_sentences:\n",
    "        if len(sentence)>1:\n",
    "            words=sentence.split()\n",
    "            if remove_stopwords:\n",
    "                words=[x for x in words if x not in stopwords.words('english')]\n",
    "            sentences.append(words)\n",
    "    return sentences"
   ]
  },
  {
   "cell_type": "markdown",
   "metadata": {},
   "source": [
    "# Train model"
   ]
  },
  {
   "cell_type": "code",
   "execution_count": 42,
   "metadata": {},
   "outputs": [
    {
     "name": "stderr",
     "output_type": "stream",
     "text": [
      "c:\\python27\\lib\\site-packages\\gensim\\utils.py:860: UserWarning: detected Windows; aliasing chunkize to chunkize_serial\n",
      "  warnings.warn(\"detected Windows; aliasing chunkize to chunkize_serial\")\n",
      "2017-11-26 15:10:06,055 : INFO : 'pattern' package not found; tag filters are not available for English\n"
     ]
    }
   ],
   "source": [
    "import logging\n",
    "logging.basicConfig(format='%(asctime)s : %(levelname)s : %(message)s',\\\n",
    "    level=logging.INFO)\n",
    "\n",
    "from gensim.models import word2vec"
   ]
  },
  {
   "cell_type": "code",
   "execution_count": 68,
   "metadata": {},
   "outputs": [],
   "source": [
    "#divide sentences by tokenizer\n",
    "def divide_sentences_review(train,tokenizer):\n",
    "    sentences=[]\n",
    "    num_reviews=len(train['review'])\n",
    "    print 'divide reviews into sentences' #word2vec requires input to be a set of sentences as lits of words.\n",
    "    for i in range(num_reviews):\n",
    "        sentences += article_to_sentences(train['review'][i],tokenizer)\n",
    "        if((i+1)%1000 == 0):\n",
    "            print \"Review %d th\" % (i+1)\n",
    "    return sentences"
   ]
  },
  {
   "cell_type": "code",
   "execution_count": 89,
   "metadata": {},
   "outputs": [],
   "source": [
    "def divide_sentences(train):\n",
    "    sentences=[]\n",
    "    num_articles=len(train)\n",
    "    print 'divide articles into sentences...' #word2vec requires input to be a set of sentences as lits of words.\n",
    "    for i in range(num_articles):\n",
    "        for sentence in train[i].split('#'):\n",
    "            if len(sentence)>1:\n",
    "                sentences.append(sentence.split())\n",
    "        if((i+1)%1000 == 0):\n",
    "            print \"Review %d th\" % (i+1)\n",
    "    return sentences"
   ]
  },
  {
   "cell_type": "code",
   "execution_count": 84,
   "metadata": {},
   "outputs": [],
   "source": [
    "def train_model(sentences,window_size,model_name):\n",
    "    print \"Training model...\"\n",
    "    model = word2vec.Word2Vec(sentences, workers=4, \\\n",
    "                size=300, min_count = 10, \\\n",
    "                window = window_size, sample = 0.003)\n",
    "    model.save(model_name)\n",
    "    return model"
   ]
  },
  {
   "cell_type": "markdown",
   "metadata": {},
   "source": [
    "# Use model"
   ]
  },
  {
   "cell_type": "code",
   "execution_count": 90,
   "metadata": {
    "scrolled": true
   },
   "outputs": [
    {
     "name": "stdout",
     "output_type": "stream",
     "text": [
      "divide articles into sentences...\n",
      "Review 1000 th\n",
      "Review 2000 th\n",
      "Review 3000 th\n",
      "Review 4000 th\n",
      "Review 5000 th\n",
      "Review 6000 th\n",
      "Review 7000 th\n",
      "Review 8000 th\n",
      "Review 9000 th\n",
      "Review 10000 th\n",
      "Review 11000 th\n",
      "Review 12000 th\n",
      "Review 13000 th\n",
      "Review 14000 th\n",
      "Review 15000 th\n",
      "Review 16000 th\n",
      "Review 17000 th\n",
      "Review 18000 th\n",
      "Review 19000 th\n",
      "Review 20000 th\n",
      "Review 21000 th\n",
      "Review 22000 th\n",
      "Review 23000 th\n",
      "Review 24000 th\n",
      "Review 25000 th\n",
      "Review 26000 th\n",
      "Review 27000 th\n",
      "Review 28000 th\n",
      "Review 29000 th\n",
      "Review 30000 th\n",
      "Review 31000 th\n",
      "Review 32000 th\n",
      "Review 33000 th\n",
      "Review 34000 th\n",
      "Review 35000 th\n",
      "Review 36000 th\n",
      "Review 37000 th\n",
      "Review 38000 th\n",
      "Review 39000 th\n"
     ]
    }
   ],
   "source": [
    "sentences=divide_sentences(train_text)"
   ]
  },
  {
   "cell_type": "code",
   "execution_count": 92,
   "metadata": {},
   "outputs": [
    {
     "name": "stdout",
     "output_type": "stream",
     "text": [
      "西元前\n"
     ]
    }
   ],
   "source": [
    "print sentences[1][0]"
   ]
  },
  {
   "cell_type": "code",
   "execution_count": 103,
   "metadata": {
    "scrolled": true
   },
   "outputs": [
    {
     "name": "stderr",
     "output_type": "stream",
     "text": [
      "2017-11-26 16:01:03,604 : INFO : collecting all words and their counts\n",
      "2017-11-26 16:01:03,605 : INFO : PROGRESS: at sentence #0, processed 0 words, keeping 0 word types\n",
      "2017-11-26 16:01:03,617 : INFO : PROGRESS: at sentence #10000, processed 26130 words, keeping 6967 word types\n",
      "2017-11-26 16:01:03,627 : INFO : PROGRESS: at sentence #20000, processed 51330 words, keeping 13497 word types\n",
      "2017-11-26 16:01:03,635 : INFO : PROGRESS: at sentence #30000, processed 74522 words, keeping 19810 word types\n",
      "2017-11-26 16:01:03,647 : INFO : PROGRESS: at sentence #40000, processed 99571 words, keeping 24528 word types\n",
      "2017-11-26 16:01:03,660 : INFO : PROGRESS: at sentence #50000, processed 121940 words, keeping 28434 word types\n",
      "2017-11-26 16:01:03,667 : INFO : PROGRESS: at sentence #60000, processed 142515 words, keeping 32541 word types\n",
      "2017-11-26 16:01:03,680 : INFO : PROGRESS: at sentence #70000, processed 162404 words, keeping 36429 word types\n",
      "2017-11-26 16:01:03,690 : INFO : PROGRESS: at sentence #80000, processed 183867 words, keeping 39975 word types\n",
      "2017-11-26 16:01:03,703 : INFO : PROGRESS: at sentence #90000, processed 206605 words, keeping 43145 word types\n",
      "2017-11-26 16:01:03,717 : INFO : PROGRESS: at sentence #100000, processed 231216 words, keeping 46548 word types\n",
      "2017-11-26 16:01:03,726 : INFO : PROGRESS: at sentence #110000, processed 255745 words, keeping 49636 word types\n",
      "2017-11-26 16:01:03,740 : INFO : PROGRESS: at sentence #120000, processed 280224 words, keeping 52463 word types\n",
      "2017-11-26 16:01:03,750 : INFO : PROGRESS: at sentence #130000, processed 304739 words, keeping 55770 word types\n",
      "2017-11-26 16:01:03,763 : INFO : PROGRESS: at sentence #140000, processed 328725 words, keeping 59438 word types\n",
      "2017-11-26 16:01:03,772 : INFO : PROGRESS: at sentence #150000, processed 349459 words, keeping 62494 word types\n",
      "2017-11-26 16:01:03,780 : INFO : PROGRESS: at sentence #160000, processed 373226 words, keeping 65837 word types\n",
      "2017-11-26 16:01:03,793 : INFO : PROGRESS: at sentence #170000, processed 399516 words, keeping 69737 word types\n",
      "2017-11-26 16:01:03,803 : INFO : PROGRESS: at sentence #180000, processed 424919 words, keeping 73085 word types\n"
     ]
    },
    {
     "name": "stdout",
     "output_type": "stream",
     "text": [
      "Training model...\n"
     ]
    },
    {
     "name": "stderr",
     "output_type": "stream",
     "text": [
      "2017-11-26 16:01:03,815 : INFO : PROGRESS: at sentence #190000, processed 450053 words, keeping 75266 word types\n",
      "2017-11-26 16:01:03,825 : INFO : PROGRESS: at sentence #200000, processed 473693 words, keeping 78406 word types\n",
      "2017-11-26 16:01:03,838 : INFO : PROGRESS: at sentence #210000, processed 493896 words, keeping 79684 word types\n",
      "2017-11-26 16:01:03,846 : INFO : PROGRESS: at sentence #220000, processed 513604 words, keeping 80750 word types\n",
      "2017-11-26 16:01:03,858 : INFO : PROGRESS: at sentence #230000, processed 538292 words, keeping 83267 word types\n",
      "2017-11-26 16:01:03,872 : INFO : PROGRESS: at sentence #240000, processed 562919 words, keeping 85191 word types\n",
      "2017-11-26 16:01:03,887 : INFO : PROGRESS: at sentence #250000, processed 587063 words, keeping 87545 word types\n",
      "2017-11-26 16:01:03,898 : INFO : PROGRESS: at sentence #260000, processed 611689 words, keeping 90405 word types\n",
      "2017-11-26 16:01:03,911 : INFO : PROGRESS: at sentence #270000, processed 634736 words, keeping 92328 word types\n",
      "2017-11-26 16:01:03,924 : INFO : PROGRESS: at sentence #280000, processed 659055 words, keeping 94402 word types\n",
      "2017-11-26 16:01:03,934 : INFO : PROGRESS: at sentence #290000, processed 684159 words, keeping 96350 word types\n",
      "2017-11-26 16:01:03,947 : INFO : PROGRESS: at sentence #300000, processed 706776 words, keeping 98211 word types\n",
      "2017-11-26 16:01:03,959 : INFO : PROGRESS: at sentence #310000, processed 730786 words, keeping 100549 word types\n",
      "2017-11-26 16:01:03,970 : INFO : PROGRESS: at sentence #320000, processed 755415 words, keeping 102602 word types\n",
      "2017-11-26 16:01:03,982 : INFO : PROGRESS: at sentence #330000, processed 778920 words, keeping 104883 word types\n",
      "2017-11-26 16:01:03,996 : INFO : PROGRESS: at sentence #340000, processed 803815 words, keeping 107297 word types\n",
      "2017-11-26 16:01:04,006 : INFO : PROGRESS: at sentence #350000, processed 827393 words, keeping 109032 word types\n",
      "2017-11-26 16:01:04,017 : INFO : PROGRESS: at sentence #360000, processed 851395 words, keeping 110740 word types\n",
      "2017-11-26 16:01:04,028 : INFO : PROGRESS: at sentence #370000, processed 872220 words, keeping 112562 word types\n",
      "2017-11-26 16:01:04,039 : INFO : PROGRESS: at sentence #380000, processed 897244 words, keeping 114543 word types\n",
      "2017-11-26 16:01:04,051 : INFO : PROGRESS: at sentence #390000, processed 917228 words, keeping 116544 word types\n",
      "2017-11-26 16:01:04,062 : INFO : PROGRESS: at sentence #400000, processed 940985 words, keeping 118314 word types\n",
      "2017-11-26 16:01:04,072 : INFO : PROGRESS: at sentence #410000, processed 966318 words, keeping 119791 word types\n",
      "2017-11-26 16:01:04,082 : INFO : PROGRESS: at sentence #420000, processed 989940 words, keeping 121671 word types\n",
      "2017-11-26 16:01:04,094 : INFO : PROGRESS: at sentence #430000, processed 1011628 words, keeping 124581 word types\n",
      "2017-11-26 16:01:04,105 : INFO : PROGRESS: at sentence #440000, processed 1033356 words, keeping 126625 word types\n",
      "2017-11-26 16:01:04,118 : INFO : PROGRESS: at sentence #450000, processed 1057082 words, keeping 128406 word types\n",
      "2017-11-26 16:01:04,131 : INFO : PROGRESS: at sentence #460000, processed 1081038 words, keeping 130659 word types\n",
      "2017-11-26 16:01:04,141 : INFO : PROGRESS: at sentence #470000, processed 1103529 words, keeping 133165 word types\n",
      "2017-11-26 16:01:04,154 : INFO : PROGRESS: at sentence #480000, processed 1127925 words, keeping 135107 word types\n",
      "2017-11-26 16:01:04,164 : INFO : PROGRESS: at sentence #490000, processed 1151562 words, keeping 136921 word types\n",
      "2017-11-26 16:01:04,177 : INFO : PROGRESS: at sentence #500000, processed 1175737 words, keeping 139417 word types\n",
      "2017-11-26 16:01:04,187 : INFO : PROGRESS: at sentence #510000, processed 1200217 words, keeping 141010 word types\n",
      "2017-11-26 16:01:04,200 : INFO : PROGRESS: at sentence #520000, processed 1223987 words, keeping 142344 word types\n",
      "2017-11-26 16:01:04,210 : INFO : PROGRESS: at sentence #530000, processed 1247270 words, keeping 143785 word types\n",
      "2017-11-26 16:01:04,221 : INFO : PROGRESS: at sentence #540000, processed 1272059 words, keeping 145376 word types\n",
      "2017-11-26 16:01:04,234 : INFO : PROGRESS: at sentence #550000, processed 1294670 words, keeping 147413 word types\n",
      "2017-11-26 16:01:04,244 : INFO : PROGRESS: at sentence #560000, processed 1317523 words, keeping 148980 word types\n",
      "2017-11-26 16:01:04,255 : INFO : PROGRESS: at sentence #570000, processed 1338783 words, keeping 150337 word types\n",
      "2017-11-26 16:01:04,266 : INFO : PROGRESS: at sentence #580000, processed 1361005 words, keeping 151838 word types\n",
      "2017-11-26 16:01:04,280 : INFO : PROGRESS: at sentence #590000, processed 1385000 words, keeping 153885 word types\n",
      "2017-11-26 16:01:04,293 : INFO : PROGRESS: at sentence #600000, processed 1408084 words, keeping 155445 word types\n",
      "2017-11-26 16:01:04,305 : INFO : PROGRESS: at sentence #610000, processed 1430011 words, keeping 157276 word types\n",
      "2017-11-26 16:01:04,318 : INFO : PROGRESS: at sentence #620000, processed 1452893 words, keeping 159042 word types\n",
      "2017-11-26 16:01:04,328 : INFO : PROGRESS: at sentence #630000, processed 1476156 words, keeping 160396 word types\n",
      "2017-11-26 16:01:04,338 : INFO : PROGRESS: at sentence #640000, processed 1499073 words, keeping 161871 word types\n",
      "2017-11-26 16:01:04,351 : INFO : PROGRESS: at sentence #650000, processed 1520478 words, keeping 163429 word types\n",
      "2017-11-26 16:01:04,365 : INFO : PROGRESS: at sentence #660000, processed 1544878 words, keeping 164722 word types\n",
      "2017-11-26 16:01:04,378 : INFO : PROGRESS: at sentence #670000, processed 1568347 words, keeping 166591 word types\n",
      "2017-11-26 16:01:04,388 : INFO : PROGRESS: at sentence #680000, processed 1591898 words, keeping 167981 word types\n",
      "2017-11-26 16:01:04,401 : INFO : PROGRESS: at sentence #690000, processed 1613663 words, keeping 169690 word types\n",
      "2017-11-26 16:01:04,414 : INFO : PROGRESS: at sentence #700000, processed 1638902 words, keeping 171228 word types\n",
      "2017-11-26 16:01:04,430 : INFO : PROGRESS: at sentence #710000, processed 1661889 words, keeping 172705 word types\n",
      "2017-11-26 16:01:04,443 : INFO : PROGRESS: at sentence #720000, processed 1684688 words, keeping 173748 word types\n",
      "2017-11-26 16:01:04,469 : INFO : PROGRESS: at sentence #730000, processed 1709573 words, keeping 175667 word types\n",
      "2017-11-26 16:01:04,483 : INFO : PROGRESS: at sentence #740000, processed 1735746 words, keeping 177287 word types\n",
      "2017-11-26 16:01:04,493 : INFO : PROGRESS: at sentence #750000, processed 1758714 words, keeping 178986 word types\n",
      "2017-11-26 16:01:04,503 : INFO : PROGRESS: at sentence #760000, processed 1781722 words, keeping 180559 word types\n",
      "2017-11-26 16:01:04,516 : INFO : PROGRESS: at sentence #770000, processed 1804593 words, keeping 181978 word types\n",
      "2017-11-26 16:01:04,526 : INFO : PROGRESS: at sentence #780000, processed 1826107 words, keeping 184552 word types\n",
      "2017-11-26 16:01:04,539 : INFO : PROGRESS: at sentence #790000, processed 1850303 words, keeping 186059 word types\n",
      "2017-11-26 16:01:04,551 : INFO : PROGRESS: at sentence #800000, processed 1873931 words, keeping 187983 word types\n",
      "2017-11-26 16:01:04,562 : INFO : PROGRESS: at sentence #810000, processed 1898226 words, keeping 189177 word types\n",
      "2017-11-26 16:01:04,573 : INFO : PROGRESS: at sentence #820000, processed 1920867 words, keeping 190975 word types\n",
      "2017-11-26 16:01:04,585 : INFO : PROGRESS: at sentence #830000, processed 1943498 words, keeping 193204 word types\n",
      "2017-11-26 16:01:04,598 : INFO : PROGRESS: at sentence #840000, processed 1968151 words, keeping 194787 word types\n",
      "2017-11-26 16:01:04,608 : INFO : PROGRESS: at sentence #850000, processed 1992007 words, keeping 195885 word types\n",
      "2017-11-26 16:01:04,621 : INFO : PROGRESS: at sentence #860000, processed 2015165 words, keeping 197190 word types\n",
      "2017-11-26 16:01:04,631 : INFO : PROGRESS: at sentence #870000, processed 2039706 words, keeping 198631 word types\n",
      "2017-11-26 16:01:04,642 : INFO : PROGRESS: at sentence #880000, processed 2063453 words, keeping 199914 word types\n",
      "2017-11-26 16:01:04,655 : INFO : PROGRESS: at sentence #890000, processed 2086012 words, keeping 201754 word types\n",
      "2017-11-26 16:01:04,665 : INFO : PROGRESS: at sentence #900000, processed 2109730 words, keeping 203254 word types\n"
     ]
    },
    {
     "name": "stderr",
     "output_type": "stream",
     "text": [
      "2017-11-26 16:01:04,677 : INFO : PROGRESS: at sentence #910000, processed 2133975 words, keeping 205078 word types\n",
      "2017-11-26 16:01:04,687 : INFO : PROGRESS: at sentence #920000, processed 2156835 words, keeping 206702 word types\n",
      "2017-11-26 16:01:04,700 : INFO : PROGRESS: at sentence #930000, processed 2179964 words, keeping 208191 word types\n",
      "2017-11-26 16:01:04,710 : INFO : PROGRESS: at sentence #940000, processed 2201729 words, keeping 209317 word types\n",
      "2017-11-26 16:01:04,721 : INFO : PROGRESS: at sentence #950000, processed 2226621 words, keeping 210362 word types\n",
      "2017-11-26 16:01:04,734 : INFO : PROGRESS: at sentence #960000, processed 2246647 words, keeping 213375 word types\n",
      "2017-11-26 16:01:04,746 : INFO : PROGRESS: at sentence #970000, processed 2269619 words, keeping 215126 word types\n",
      "2017-11-26 16:01:04,756 : INFO : PROGRESS: at sentence #980000, processed 2294537 words, keeping 216527 word types\n",
      "2017-11-26 16:01:04,767 : INFO : PROGRESS: at sentence #990000, processed 2318364 words, keeping 217795 word types\n",
      "2017-11-26 16:01:04,779 : INFO : PROGRESS: at sentence #1000000, processed 2340317 words, keeping 219129 word types\n",
      "2017-11-26 16:01:04,792 : INFO : PROGRESS: at sentence #1010000, processed 2363008 words, keeping 220589 word types\n",
      "2017-11-26 16:01:04,803 : INFO : PROGRESS: at sentence #1020000, processed 2387087 words, keeping 222440 word types\n",
      "2017-11-26 16:01:04,815 : INFO : PROGRESS: at sentence #1030000, processed 2410801 words, keeping 224311 word types\n",
      "2017-11-26 16:01:04,828 : INFO : PROGRESS: at sentence #1040000, processed 2434972 words, keeping 225162 word types\n",
      "2017-11-26 16:01:04,838 : INFO : PROGRESS: at sentence #1050000, processed 2456751 words, keeping 226475 word types\n",
      "2017-11-26 16:01:04,848 : INFO : PROGRESS: at sentence #1060000, processed 2479752 words, keeping 227491 word types\n",
      "2017-11-26 16:01:04,861 : INFO : PROGRESS: at sentence #1070000, processed 2504932 words, keeping 228399 word types\n",
      "2017-11-26 16:01:04,874 : INFO : PROGRESS: at sentence #1080000, processed 2529691 words, keeping 229680 word types\n",
      "2017-11-26 16:01:04,885 : INFO : PROGRESS: at sentence #1090000, processed 2554857 words, keeping 231427 word types\n",
      "2017-11-26 16:01:04,901 : INFO : PROGRESS: at sentence #1100000, processed 2581565 words, keeping 232286 word types\n",
      "2017-11-26 16:01:04,911 : INFO : PROGRESS: at sentence #1110000, processed 2603659 words, keeping 233475 word types\n",
      "2017-11-26 16:01:04,924 : INFO : PROGRESS: at sentence #1120000, processed 2626018 words, keeping 234887 word types\n",
      "2017-11-26 16:01:04,934 : INFO : PROGRESS: at sentence #1130000, processed 2646836 words, keeping 236267 word types\n",
      "2017-11-26 16:01:04,944 : INFO : PROGRESS: at sentence #1140000, processed 2670180 words, keeping 238018 word types\n",
      "2017-11-26 16:01:04,956 : INFO : PROGRESS: at sentence #1150000, processed 2693812 words, keeping 238983 word types\n",
      "2017-11-26 16:01:04,967 : INFO : PROGRESS: at sentence #1160000, processed 2714893 words, keeping 240310 word types\n",
      "2017-11-26 16:01:04,980 : INFO : PROGRESS: at sentence #1170000, processed 2739498 words, keeping 241784 word types\n",
      "2017-11-26 16:01:04,993 : INFO : PROGRESS: at sentence #1180000, processed 2762615 words, keeping 243570 word types\n",
      "2017-11-26 16:01:05,005 : INFO : PROGRESS: at sentence #1190000, processed 2783887 words, keeping 246105 word types\n",
      "2017-11-26 16:01:05,017 : INFO : PROGRESS: at sentence #1200000, processed 2806973 words, keeping 247572 word types\n",
      "2017-11-26 16:01:05,029 : INFO : PROGRESS: at sentence #1210000, processed 2830113 words, keeping 249021 word types\n",
      "2017-11-26 16:01:05,040 : INFO : PROGRESS: at sentence #1220000, processed 2855202 words, keeping 250078 word types\n",
      "2017-11-26 16:01:05,055 : INFO : PROGRESS: at sentence #1230000, processed 2879811 words, keeping 251353 word types\n",
      "2017-11-26 16:01:05,065 : INFO : PROGRESS: at sentence #1240000, processed 2904037 words, keeping 252457 word types\n",
      "2017-11-26 16:01:05,076 : INFO : PROGRESS: at sentence #1250000, processed 2926254 words, keeping 254090 word types\n",
      "2017-11-26 16:01:05,088 : INFO : PROGRESS: at sentence #1260000, processed 2950778 words, keeping 255339 word types\n",
      "2017-11-26 16:01:05,098 : INFO : PROGRESS: at sentence #1270000, processed 2974245 words, keeping 256424 word types\n",
      "2017-11-26 16:01:05,109 : INFO : PROGRESS: at sentence #1280000, processed 2997025 words, keeping 257467 word types\n",
      "2017-11-26 16:01:05,122 : INFO : PROGRESS: at sentence #1290000, processed 3022431 words, keeping 258612 word types\n",
      "2017-11-26 16:01:05,134 : INFO : PROGRESS: at sentence #1300000, processed 3045955 words, keeping 260013 word types\n",
      "2017-11-26 16:01:05,147 : INFO : PROGRESS: at sentence #1310000, processed 3067260 words, keeping 261210 word types\n",
      "2017-11-26 16:01:05,157 : INFO : PROGRESS: at sentence #1320000, processed 3088029 words, keeping 262624 word types\n",
      "2017-11-26 16:01:05,170 : INFO : PROGRESS: at sentence #1330000, processed 3110068 words, keeping 263811 word types\n",
      "2017-11-26 16:01:05,180 : INFO : PROGRESS: at sentence #1340000, processed 3132548 words, keeping 264826 word types\n",
      "2017-11-26 16:01:05,190 : INFO : PROGRESS: at sentence #1350000, processed 3156073 words, keeping 266318 word types\n",
      "2017-11-26 16:01:05,203 : INFO : PROGRESS: at sentence #1360000, processed 3178857 words, keeping 268155 word types\n",
      "2017-11-26 16:01:05,213 : INFO : PROGRESS: at sentence #1370000, processed 3199973 words, keeping 269371 word types\n",
      "2017-11-26 16:01:05,223 : INFO : PROGRESS: at sentence #1380000, processed 3223508 words, keeping 270590 word types\n",
      "2017-11-26 16:01:05,234 : INFO : PROGRESS: at sentence #1390000, processed 3243480 words, keeping 271531 word types\n",
      "2017-11-26 16:01:05,246 : INFO : PROGRESS: at sentence #1400000, processed 3268385 words, keeping 273049 word types\n",
      "2017-11-26 16:01:05,259 : INFO : PROGRESS: at sentence #1410000, processed 3291664 words, keeping 274530 word types\n",
      "2017-11-26 16:01:05,267 : INFO : PROGRESS: at sentence #1420000, processed 3311113 words, keeping 276288 word types\n",
      "2017-11-26 16:01:05,279 : INFO : PROGRESS: at sentence #1430000, processed 3334051 words, keeping 277543 word types\n",
      "2017-11-26 16:01:05,289 : INFO : PROGRESS: at sentence #1440000, processed 3357964 words, keeping 279337 word types\n",
      "2017-11-26 16:01:05,301 : INFO : PROGRESS: at sentence #1450000, processed 3381133 words, keeping 280527 word types\n",
      "2017-11-26 16:01:05,309 : INFO : PROGRESS: at sentence #1460000, processed 3399277 words, keeping 281454 word types\n",
      "2017-11-26 16:01:05,319 : INFO : PROGRESS: at sentence #1470000, processed 3421576 words, keeping 282792 word types\n",
      "2017-11-26 16:01:05,332 : INFO : PROGRESS: at sentence #1480000, processed 3443589 words, keeping 284540 word types\n",
      "2017-11-26 16:01:05,344 : INFO : PROGRESS: at sentence #1490000, processed 3466543 words, keeping 285882 word types\n",
      "2017-11-26 16:01:05,355 : INFO : PROGRESS: at sentence #1500000, processed 3493123 words, keeping 287026 word types\n",
      "2017-11-26 16:01:05,365 : INFO : PROGRESS: at sentence #1510000, processed 3514208 words, keeping 288494 word types\n",
      "2017-11-26 16:01:05,378 : INFO : PROGRESS: at sentence #1520000, processed 3538992 words, keeping 289463 word types\n",
      "2017-11-26 16:01:05,388 : INFO : PROGRESS: at sentence #1530000, processed 3557784 words, keeping 291296 word types\n",
      "2017-11-26 16:01:05,401 : INFO : PROGRESS: at sentence #1540000, processed 3579233 words, keeping 292395 word types\n",
      "2017-11-26 16:01:05,413 : INFO : PROGRESS: at sentence #1550000, processed 3603540 words, keeping 293960 word types\n",
      "2017-11-26 16:01:05,424 : INFO : PROGRESS: at sentence #1560000, processed 3626229 words, keeping 295201 word types\n",
      "2017-11-26 16:01:05,434 : INFO : PROGRESS: at sentence #1570000, processed 3648199 words, keeping 296455 word types\n",
      "2017-11-26 16:01:05,447 : INFO : PROGRESS: at sentence #1580000, processed 3672739 words, keeping 297570 word types\n",
      "2017-11-26 16:01:05,457 : INFO : PROGRESS: at sentence #1590000, processed 3696135 words, keeping 298567 word types\n",
      "2017-11-26 16:01:05,467 : INFO : PROGRESS: at sentence #1600000, processed 3719709 words, keeping 299568 word types\n",
      "2017-11-26 16:01:05,479 : INFO : PROGRESS: at sentence #1610000, processed 3743682 words, keeping 300589 word types\n"
     ]
    },
    {
     "name": "stderr",
     "output_type": "stream",
     "text": [
      "2017-11-26 16:01:05,490 : INFO : PROGRESS: at sentence #1620000, processed 3767094 words, keeping 302118 word types\n",
      "2017-11-26 16:01:05,505 : INFO : PROGRESS: at sentence #1630000, processed 3790389 words, keeping 303509 word types\n",
      "2017-11-26 16:01:05,513 : INFO : PROGRESS: at sentence #1640000, processed 3813060 words, keeping 304856 word types\n",
      "2017-11-26 16:01:05,526 : INFO : PROGRESS: at sentence #1650000, processed 3836699 words, keeping 306166 word types\n",
      "2017-11-26 16:01:05,536 : INFO : PROGRESS: at sentence #1660000, processed 3860447 words, keeping 307101 word types\n",
      "2017-11-26 16:01:05,549 : INFO : PROGRESS: at sentence #1670000, processed 3886599 words, keeping 308070 word types\n",
      "2017-11-26 16:01:05,559 : INFO : PROGRESS: at sentence #1680000, processed 3908896 words, keeping 309161 word types\n",
      "2017-11-26 16:01:05,571 : INFO : PROGRESS: at sentence #1690000, processed 3934138 words, keeping 310146 word types\n",
      "2017-11-26 16:01:05,585 : INFO : PROGRESS: at sentence #1700000, processed 3959327 words, keeping 311139 word types\n",
      "2017-11-26 16:01:05,595 : INFO : PROGRESS: at sentence #1710000, processed 3983604 words, keeping 312503 word types\n",
      "2017-11-26 16:01:05,607 : INFO : PROGRESS: at sentence #1720000, processed 4007934 words, keeping 313491 word types\n",
      "2017-11-26 16:01:05,618 : INFO : PROGRESS: at sentence #1730000, processed 4029275 words, keeping 314627 word types\n",
      "2017-11-26 16:01:05,628 : INFO : PROGRESS: at sentence #1740000, processed 4052039 words, keeping 315893 word types\n",
      "2017-11-26 16:01:05,640 : INFO : PROGRESS: at sentence #1750000, processed 4077006 words, keeping 317058 word types\n",
      "2017-11-26 16:01:05,651 : INFO : PROGRESS: at sentence #1760000, processed 4101108 words, keeping 318040 word types\n",
      "2017-11-26 16:01:05,664 : INFO : PROGRESS: at sentence #1770000, processed 4125137 words, keeping 319145 word types\n",
      "2017-11-26 16:01:05,676 : INFO : PROGRESS: at sentence #1780000, processed 4147270 words, keeping 320329 word types\n",
      "2017-11-26 16:01:05,688 : INFO : PROGRESS: at sentence #1790000, processed 4171232 words, keeping 321632 word types\n",
      "2017-11-26 16:01:05,700 : INFO : PROGRESS: at sentence #1800000, processed 4196197 words, keeping 322815 word types\n",
      "2017-11-26 16:01:05,710 : INFO : PROGRESS: at sentence #1810000, processed 4219510 words, keeping 323839 word types\n",
      "2017-11-26 16:01:05,721 : INFO : PROGRESS: at sentence #1820000, processed 4243804 words, keeping 324710 word types\n",
      "2017-11-26 16:01:05,732 : INFO : PROGRESS: at sentence #1830000, processed 4265856 words, keeping 325541 word types\n",
      "2017-11-26 16:01:05,746 : INFO : PROGRESS: at sentence #1840000, processed 4290984 words, keeping 326586 word types\n",
      "2017-11-26 16:01:05,756 : INFO : PROGRESS: at sentence #1850000, processed 4312173 words, keeping 327624 word types\n",
      "2017-11-26 16:01:05,769 : INFO : PROGRESS: at sentence #1860000, processed 4336178 words, keeping 328371 word types\n",
      "2017-11-26 16:01:05,782 : INFO : PROGRESS: at sentence #1870000, processed 4360132 words, keeping 329247 word types\n",
      "2017-11-26 16:01:05,793 : INFO : PROGRESS: at sentence #1880000, processed 4384278 words, keeping 330764 word types\n",
      "2017-11-26 16:01:05,805 : INFO : PROGRESS: at sentence #1890000, processed 4407881 words, keeping 331760 word types\n",
      "2017-11-26 16:01:05,818 : INFO : PROGRESS: at sentence #1900000, processed 4432537 words, keeping 333118 word types\n",
      "2017-11-26 16:01:05,828 : INFO : PROGRESS: at sentence #1910000, processed 4454106 words, keeping 335068 word types\n",
      "2017-11-26 16:01:05,839 : INFO : PROGRESS: at sentence #1920000, processed 4477953 words, keeping 336186 word types\n",
      "2017-11-26 16:01:05,851 : INFO : PROGRESS: at sentence #1930000, processed 4500765 words, keeping 337524 word types\n",
      "2017-11-26 16:01:05,862 : INFO : PROGRESS: at sentence #1940000, processed 4524382 words, keeping 338422 word types\n",
      "2017-11-26 16:01:05,875 : INFO : PROGRESS: at sentence #1950000, processed 4546826 words, keeping 339518 word types\n",
      "2017-11-26 16:01:05,884 : INFO : PROGRESS: at sentence #1960000, processed 4569895 words, keeping 340785 word types\n",
      "2017-11-26 16:01:05,898 : INFO : PROGRESS: at sentence #1970000, processed 4595839 words, keeping 341640 word types\n",
      "2017-11-26 16:01:05,907 : INFO : PROGRESS: at sentence #1980000, processed 4620191 words, keeping 342564 word types\n",
      "2017-11-26 16:01:05,918 : INFO : PROGRESS: at sentence #1990000, processed 4642022 words, keeping 343685 word types\n",
      "2017-11-26 16:01:05,930 : INFO : PROGRESS: at sentence #2000000, processed 4664972 words, keeping 344607 word types\n",
      "2017-11-26 16:01:05,943 : INFO : PROGRESS: at sentence #2010000, processed 4689153 words, keeping 345653 word types\n",
      "2017-11-26 16:01:05,956 : INFO : PROGRESS: at sentence #2020000, processed 4713168 words, keeping 346925 word types\n",
      "2017-11-26 16:01:05,967 : INFO : PROGRESS: at sentence #2030000, processed 4737219 words, keeping 347871 word types\n",
      "2017-11-26 16:01:05,980 : INFO : PROGRESS: at sentence #2040000, processed 4759415 words, keeping 348894 word types\n",
      "2017-11-26 16:01:06,010 : INFO : PROGRESS: at sentence #2050000, processed 4782161 words, keeping 349935 word types\n",
      "2017-11-26 16:01:06,019 : INFO : PROGRESS: at sentence #2060000, processed 4804269 words, keeping 350948 word types\n",
      "2017-11-26 16:01:06,029 : INFO : PROGRESS: at sentence #2070000, processed 4828978 words, keeping 351976 word types\n",
      "2017-11-26 16:01:06,039 : INFO : PROGRESS: at sentence #2080000, processed 4849517 words, keeping 354044 word types\n",
      "2017-11-26 16:01:06,052 : INFO : PROGRESS: at sentence #2090000, processed 4870877 words, keeping 354832 word types\n",
      "2017-11-26 16:01:06,063 : INFO : PROGRESS: at sentence #2100000, processed 4893457 words, keeping 355685 word types\n",
      "2017-11-26 16:01:06,075 : INFO : PROGRESS: at sentence #2110000, processed 4916808 words, keeping 356785 word types\n",
      "2017-11-26 16:01:06,085 : INFO : PROGRESS: at sentence #2120000, processed 4940049 words, keeping 357761 word types\n",
      "2017-11-26 16:01:06,096 : INFO : PROGRESS: at sentence #2130000, processed 4961740 words, keeping 359637 word types\n",
      "2017-11-26 16:01:06,109 : INFO : PROGRESS: at sentence #2140000, processed 4984381 words, keeping 361190 word types\n",
      "2017-11-26 16:01:06,121 : INFO : PROGRESS: at sentence #2150000, processed 5007453 words, keeping 362094 word types\n",
      "2017-11-26 16:01:06,132 : INFO : PROGRESS: at sentence #2160000, processed 5030715 words, keeping 363435 word types\n",
      "2017-11-26 16:01:06,144 : INFO : PROGRESS: at sentence #2170000, processed 5053981 words, keeping 364331 word types\n",
      "2017-11-26 16:01:06,154 : INFO : PROGRESS: at sentence #2180000, processed 5076369 words, keeping 365133 word types\n",
      "2017-11-26 16:01:06,164 : INFO : PROGRESS: at sentence #2190000, processed 5097679 words, keeping 366341 word types\n",
      "2017-11-26 16:01:06,176 : INFO : PROGRESS: at sentence #2200000, processed 5118883 words, keeping 367489 word types\n",
      "2017-11-26 16:01:06,187 : INFO : PROGRESS: at sentence #2210000, processed 5142651 words, keeping 368411 word types\n",
      "2017-11-26 16:01:06,197 : INFO : PROGRESS: at sentence #2220000, processed 5166606 words, keeping 369254 word types\n",
      "2017-11-26 16:01:06,209 : INFO : PROGRESS: at sentence #2230000, processed 5189988 words, keeping 370303 word types\n",
      "2017-11-26 16:01:06,217 : INFO : PROGRESS: at sentence #2240000, processed 5210420 words, keeping 371283 word types\n",
      "2017-11-26 16:01:06,229 : INFO : PROGRESS: at sentence #2250000, processed 5234671 words, keeping 372477 word types\n",
      "2017-11-26 16:01:06,239 : INFO : PROGRESS: at sentence #2260000, processed 5257170 words, keeping 373477 word types\n",
      "2017-11-26 16:01:06,253 : INFO : PROGRESS: at sentence #2270000, processed 5280833 words, keeping 374156 word types\n",
      "2017-11-26 16:01:06,266 : INFO : PROGRESS: at sentence #2280000, processed 5304930 words, keeping 375435 word types\n",
      "2017-11-26 16:01:06,278 : INFO : PROGRESS: at sentence #2290000, processed 5329943 words, keeping 376803 word types\n",
      "2017-11-26 16:01:06,286 : INFO : PROGRESS: at sentence #2300000, processed 5354343 words, keeping 377558 word types\n",
      "2017-11-26 16:01:06,299 : INFO : PROGRESS: at sentence #2310000, processed 5378465 words, keeping 378562 word types\n",
      "2017-11-26 16:01:06,306 : INFO : PROGRESS: at sentence #2320000, processed 5402519 words, keeping 379483 word types\n"
     ]
    },
    {
     "name": "stderr",
     "output_type": "stream",
     "text": [
      "2017-11-26 16:01:06,321 : INFO : PROGRESS: at sentence #2330000, processed 5426828 words, keeping 380822 word types\n",
      "2017-11-26 16:01:06,332 : INFO : PROGRESS: at sentence #2340000, processed 5451353 words, keeping 381756 word types\n",
      "2017-11-26 16:01:06,345 : INFO : PROGRESS: at sentence #2350000, processed 5475053 words, keeping 382787 word types\n",
      "2017-11-26 16:01:06,355 : INFO : PROGRESS: at sentence #2360000, processed 5497797 words, keeping 383657 word types\n",
      "2017-11-26 16:01:06,365 : INFO : PROGRESS: at sentence #2370000, processed 5521705 words, keeping 385011 word types\n",
      "2017-11-26 16:01:06,378 : INFO : PROGRESS: at sentence #2380000, processed 5544657 words, keeping 386083 word types\n",
      "2017-11-26 16:01:06,385 : INFO : PROGRESS: at sentence #2390000, processed 5566996 words, keeping 386826 word types\n",
      "2017-11-26 16:01:06,398 : INFO : PROGRESS: at sentence #2400000, processed 5592558 words, keeping 387556 word types\n",
      "2017-11-26 16:01:06,411 : INFO : PROGRESS: at sentence #2410000, processed 5615450 words, keeping 388362 word types\n",
      "2017-11-26 16:01:06,421 : INFO : PROGRESS: at sentence #2420000, processed 5638144 words, keeping 389159 word types\n",
      "2017-11-26 16:01:06,434 : INFO : PROGRESS: at sentence #2430000, processed 5660847 words, keeping 390077 word types\n",
      "2017-11-26 16:01:06,444 : INFO : PROGRESS: at sentence #2440000, processed 5683258 words, keeping 391104 word types\n",
      "2017-11-26 16:01:06,456 : INFO : PROGRESS: at sentence #2450000, processed 5706864 words, keeping 392343 word types\n",
      "2017-11-26 16:01:06,469 : INFO : PROGRESS: at sentence #2460000, processed 5729757 words, keeping 393625 word types\n",
      "2017-11-26 16:01:06,480 : INFO : PROGRESS: at sentence #2470000, processed 5754340 words, keeping 394627 word types\n",
      "2017-11-26 16:01:06,493 : INFO : PROGRESS: at sentence #2480000, processed 5777979 words, keeping 395421 word types\n",
      "2017-11-26 16:01:06,503 : INFO : PROGRESS: at sentence #2490000, processed 5800179 words, keeping 397080 word types\n",
      "2017-11-26 16:01:06,515 : INFO : PROGRESS: at sentence #2500000, processed 5823158 words, keeping 397976 word types\n",
      "2017-11-26 16:01:06,526 : INFO : PROGRESS: at sentence #2510000, processed 5846750 words, keeping 398576 word types\n",
      "2017-11-26 16:01:06,536 : INFO : PROGRESS: at sentence #2520000, processed 5870119 words, keeping 399244 word types\n",
      "2017-11-26 16:01:06,548 : INFO : PROGRESS: at sentence #2530000, processed 5893062 words, keeping 399993 word types\n",
      "2017-11-26 16:01:06,559 : INFO : PROGRESS: at sentence #2540000, processed 5917780 words, keeping 400887 word types\n",
      "2017-11-26 16:01:06,569 : INFO : PROGRESS: at sentence #2550000, processed 5941815 words, keeping 402337 word types\n",
      "2017-11-26 16:01:06,579 : INFO : PROGRESS: at sentence #2560000, processed 5963194 words, keeping 403252 word types\n",
      "2017-11-26 16:01:06,592 : INFO : PROGRESS: at sentence #2570000, processed 5986957 words, keeping 404223 word types\n",
      "2017-11-26 16:01:06,601 : INFO : PROGRESS: at sentence #2580000, processed 6008033 words, keeping 405537 word types\n",
      "2017-11-26 16:01:06,612 : INFO : PROGRESS: at sentence #2590000, processed 6030487 words, keeping 406737 word types\n",
      "2017-11-26 16:01:06,625 : INFO : PROGRESS: at sentence #2600000, processed 6056130 words, keeping 407543 word types\n",
      "2017-11-26 16:01:06,635 : INFO : PROGRESS: at sentence #2610000, processed 6080810 words, keeping 408788 word types\n",
      "2017-11-26 16:01:06,648 : INFO : PROGRESS: at sentence #2620000, processed 6105524 words, keeping 409962 word types\n",
      "2017-11-26 16:01:06,660 : INFO : PROGRESS: at sentence #2630000, processed 6130563 words, keeping 410832 word types\n",
      "2017-11-26 16:01:06,671 : INFO : PROGRESS: at sentence #2640000, processed 6155373 words, keeping 411798 word types\n",
      "2017-11-26 16:01:06,686 : INFO : PROGRESS: at sentence #2650000, processed 6180972 words, keeping 412505 word types\n",
      "2017-11-26 16:01:06,694 : INFO : PROGRESS: at sentence #2660000, processed 6203891 words, keeping 413437 word types\n",
      "2017-11-26 16:01:06,707 : INFO : PROGRESS: at sentence #2670000, processed 6227858 words, keeping 414388 word types\n",
      "2017-11-26 16:01:06,719 : INFO : PROGRESS: at sentence #2680000, processed 6250834 words, keeping 415244 word types\n",
      "2017-11-26 16:01:06,730 : INFO : PROGRESS: at sentence #2690000, processed 6274299 words, keeping 416128 word types\n",
      "2017-11-26 16:01:06,744 : INFO : PROGRESS: at sentence #2700000, processed 6298502 words, keeping 416944 word types\n",
      "2017-11-26 16:01:06,755 : INFO : PROGRESS: at sentence #2710000, processed 6322384 words, keeping 417660 word types\n",
      "2017-11-26 16:01:06,767 : INFO : PROGRESS: at sentence #2720000, processed 6345069 words, keeping 418607 word types\n",
      "2017-11-26 16:01:06,779 : INFO : PROGRESS: at sentence #2730000, processed 6364449 words, keeping 419427 word types\n",
      "2017-11-26 16:01:06,789 : INFO : PROGRESS: at sentence #2740000, processed 6387511 words, keeping 420294 word types\n",
      "2017-11-26 16:01:06,799 : INFO : PROGRESS: at sentence #2750000, processed 6411121 words, keeping 421068 word types\n",
      "2017-11-26 16:01:06,812 : INFO : PROGRESS: at sentence #2760000, processed 6434396 words, keeping 421641 word types\n",
      "2017-11-26 16:01:06,825 : INFO : PROGRESS: at sentence #2770000, processed 6459085 words, keeping 422423 word types\n",
      "2017-11-26 16:01:06,834 : INFO : PROGRESS: at sentence #2780000, processed 6483237 words, keeping 423246 word types\n",
      "2017-11-26 16:01:06,848 : INFO : PROGRESS: at sentence #2790000, processed 6507478 words, keeping 424034 word types\n",
      "2017-11-26 16:01:06,858 : INFO : PROGRESS: at sentence #2800000, processed 6529455 words, keeping 425135 word types\n",
      "2017-11-26 16:01:06,871 : INFO : PROGRESS: at sentence #2810000, processed 6552963 words, keeping 426112 word types\n",
      "2017-11-26 16:01:06,884 : INFO : PROGRESS: at sentence #2820000, processed 6575756 words, keeping 426964 word types\n",
      "2017-11-26 16:01:06,894 : INFO : PROGRESS: at sentence #2830000, processed 6598578 words, keeping 427768 word types\n",
      "2017-11-26 16:01:06,905 : INFO : PROGRESS: at sentence #2840000, processed 6622632 words, keeping 428730 word types\n",
      "2017-11-26 16:01:06,917 : INFO : PROGRESS: at sentence #2850000, processed 6645258 words, keeping 429539 word types\n",
      "2017-11-26 16:01:06,928 : INFO : PROGRESS: at sentence #2860000, processed 6668844 words, keeping 430238 word types\n",
      "2017-11-26 16:01:06,938 : INFO : PROGRESS: at sentence #2870000, processed 6691695 words, keeping 431014 word types\n",
      "2017-11-26 16:01:06,951 : INFO : PROGRESS: at sentence #2880000, processed 6717321 words, keeping 431850 word types\n",
      "2017-11-26 16:01:06,966 : INFO : PROGRESS: at sentence #2890000, processed 6739668 words, keeping 433479 word types\n",
      "2017-11-26 16:01:06,973 : INFO : PROGRESS: at sentence #2900000, processed 6760818 words, keeping 434379 word types\n",
      "2017-11-26 16:01:06,986 : INFO : PROGRESS: at sentence #2910000, processed 6784391 words, keeping 435242 word types\n",
      "2017-11-26 16:01:06,996 : INFO : PROGRESS: at sentence #2920000, processed 6806732 words, keeping 436228 word types\n",
      "2017-11-26 16:01:07,009 : INFO : PROGRESS: at sentence #2930000, processed 6830447 words, keeping 436999 word types\n",
      "2017-11-26 16:01:07,019 : INFO : PROGRESS: at sentence #2940000, processed 6853366 words, keeping 437963 word types\n",
      "2017-11-26 16:01:07,029 : INFO : PROGRESS: at sentence #2950000, processed 6874065 words, keeping 438875 word types\n",
      "2017-11-26 16:01:07,039 : INFO : PROGRESS: at sentence #2960000, processed 6896338 words, keeping 439639 word types\n",
      "2017-11-26 16:01:07,049 : INFO : PROGRESS: at sentence #2970000, processed 6919210 words, keeping 440503 word types\n",
      "2017-11-26 16:01:07,062 : INFO : PROGRESS: at sentence #2980000, processed 6942066 words, keeping 441619 word types\n",
      "2017-11-26 16:01:07,071 : INFO : PROGRESS: at sentence #2990000, processed 6963959 words, keeping 442711 word types\n",
      "2017-11-26 16:01:07,082 : INFO : PROGRESS: at sentence #3000000, processed 6985991 words, keeping 443554 word types\n",
      "2017-11-26 16:01:07,096 : INFO : PROGRESS: at sentence #3010000, processed 7012251 words, keeping 444201 word types\n",
      "2017-11-26 16:01:07,108 : INFO : PROGRESS: at sentence #3020000, processed 7036691 words, keeping 445008 word types\n",
      "2017-11-26 16:01:07,121 : INFO : PROGRESS: at sentence #3030000, processed 7059181 words, keeping 445853 word types\n"
     ]
    },
    {
     "name": "stderr",
     "output_type": "stream",
     "text": [
      "2017-11-26 16:01:07,134 : INFO : PROGRESS: at sentence #3040000, processed 7082024 words, keeping 446892 word types\n",
      "2017-11-26 16:01:07,144 : INFO : PROGRESS: at sentence #3050000, processed 7104885 words, keeping 447870 word types\n",
      "2017-11-26 16:01:07,154 : INFO : PROGRESS: at sentence #3060000, processed 7127766 words, keeping 448677 word types\n",
      "2017-11-26 16:01:07,164 : INFO : PROGRESS: at sentence #3070000, processed 7150830 words, keeping 449735 word types\n",
      "2017-11-26 16:01:07,174 : INFO : PROGRESS: at sentence #3080000, processed 7172798 words, keeping 450357 word types\n",
      "2017-11-26 16:01:07,187 : INFO : PROGRESS: at sentence #3090000, processed 7196057 words, keeping 450836 word types\n",
      "2017-11-26 16:01:07,200 : INFO : PROGRESS: at sentence #3100000, processed 7218418 words, keeping 451980 word types\n",
      "2017-11-26 16:01:07,211 : INFO : PROGRESS: at sentence #3110000, processed 7242737 words, keeping 453000 word types\n",
      "2017-11-26 16:01:07,223 : INFO : PROGRESS: at sentence #3120000, processed 7266566 words, keeping 453647 word types\n",
      "2017-11-26 16:01:07,234 : INFO : PROGRESS: at sentence #3130000, processed 7290793 words, keeping 454944 word types\n",
      "2017-11-26 16:01:07,247 : INFO : PROGRESS: at sentence #3140000, processed 7314470 words, keeping 455793 word types\n",
      "2017-11-26 16:01:07,262 : INFO : PROGRESS: at sentence #3150000, processed 7337081 words, keeping 456582 word types\n",
      "2017-11-26 16:01:07,270 : INFO : PROGRESS: at sentence #3160000, processed 7361671 words, keeping 457246 word types\n",
      "2017-11-26 16:01:07,282 : INFO : PROGRESS: at sentence #3170000, processed 7385575 words, keeping 458010 word types\n",
      "2017-11-26 16:01:07,295 : INFO : PROGRESS: at sentence #3180000, processed 7411651 words, keeping 459001 word types\n",
      "2017-11-26 16:01:07,305 : INFO : PROGRESS: at sentence #3190000, processed 7436727 words, keeping 459829 word types\n",
      "2017-11-26 16:01:07,316 : INFO : PROGRESS: at sentence #3200000, processed 7461516 words, keeping 460747 word types\n",
      "2017-11-26 16:01:07,331 : INFO : PROGRESS: at sentence #3210000, processed 7483832 words, keeping 461807 word types\n",
      "2017-11-26 16:01:07,342 : INFO : PROGRESS: at sentence #3220000, processed 7507473 words, keeping 462937 word types\n",
      "2017-11-26 16:01:07,355 : INFO : PROGRESS: at sentence #3230000, processed 7531898 words, keeping 463885 word types\n",
      "2017-11-26 16:01:07,368 : INFO : PROGRESS: at sentence #3240000, processed 7556315 words, keeping 464859 word types\n",
      "2017-11-26 16:01:07,380 : INFO : PROGRESS: at sentence #3250000, processed 7581540 words, keeping 465476 word types\n",
      "2017-11-26 16:01:07,391 : INFO : PROGRESS: at sentence #3260000, processed 7606697 words, keeping 466442 word types\n",
      "2017-11-26 16:01:07,403 : INFO : PROGRESS: at sentence #3270000, processed 7630099 words, keeping 467250 word types\n",
      "2017-11-26 16:01:07,418 : INFO : PROGRESS: at sentence #3280000, processed 7654956 words, keeping 467984 word types\n",
      "2017-11-26 16:01:07,428 : INFO : PROGRESS: at sentence #3290000, processed 7676584 words, keeping 468790 word types\n",
      "2017-11-26 16:01:07,438 : INFO : PROGRESS: at sentence #3300000, processed 7700335 words, keeping 469548 word types\n",
      "2017-11-26 16:01:07,451 : INFO : PROGRESS: at sentence #3310000, processed 7724549 words, keeping 470505 word types\n",
      "2017-11-26 16:01:07,463 : INFO : PROGRESS: at sentence #3320000, processed 7746441 words, keeping 471220 word types\n",
      "2017-11-26 16:01:07,473 : INFO : PROGRESS: at sentence #3330000, processed 7768808 words, keeping 472401 word types\n",
      "2017-11-26 16:01:07,486 : INFO : PROGRESS: at sentence #3340000, processed 7791593 words, keeping 473365 word types\n",
      "2017-11-26 16:01:07,494 : INFO : PROGRESS: at sentence #3350000, processed 7809573 words, keeping 474023 word types\n",
      "2017-11-26 16:01:07,506 : INFO : PROGRESS: at sentence #3360000, processed 7833626 words, keeping 474908 word types\n",
      "2017-11-26 16:01:07,516 : INFO : PROGRESS: at sentence #3370000, processed 7858125 words, keeping 475769 word types\n",
      "2017-11-26 16:01:07,530 : INFO : PROGRESS: at sentence #3380000, processed 7880519 words, keeping 476402 word types\n",
      "2017-11-26 16:01:07,543 : INFO : PROGRESS: at sentence #3390000, processed 7904394 words, keeping 477125 word types\n",
      "2017-11-26 16:01:07,552 : INFO : PROGRESS: at sentence #3400000, processed 7928526 words, keeping 477758 word types\n",
      "2017-11-26 16:01:07,565 : INFO : PROGRESS: at sentence #3410000, processed 7951012 words, keeping 478528 word types\n",
      "2017-11-26 16:01:07,573 : INFO : PROGRESS: at sentence #3420000, processed 7973916 words, keeping 479671 word types\n",
      "2017-11-26 16:01:07,588 : INFO : PROGRESS: at sentence #3430000, processed 7998217 words, keeping 480512 word types\n",
      "2017-11-26 16:01:07,601 : INFO : PROGRESS: at sentence #3440000, processed 8023068 words, keeping 481086 word types\n",
      "2017-11-26 16:01:07,612 : INFO : PROGRESS: at sentence #3450000, processed 8046329 words, keeping 481663 word types\n",
      "2017-11-26 16:01:07,625 : INFO : PROGRESS: at sentence #3460000, processed 8070751 words, keeping 482455 word types\n",
      "2017-11-26 16:01:07,637 : INFO : PROGRESS: at sentence #3470000, processed 8094062 words, keeping 483523 word types\n",
      "2017-11-26 16:01:07,650 : INFO : PROGRESS: at sentence #3480000, processed 8117422 words, keeping 484411 word types\n",
      "2017-11-26 16:01:07,663 : INFO : PROGRESS: at sentence #3490000, processed 8141348 words, keeping 485064 word types\n",
      "2017-11-26 16:01:07,673 : INFO : PROGRESS: at sentence #3500000, processed 8166101 words, keeping 486083 word types\n",
      "2017-11-26 16:01:07,684 : INFO : PROGRESS: at sentence #3510000, processed 8190957 words, keeping 486792 word types\n",
      "2017-11-26 16:01:07,696 : INFO : PROGRESS: at sentence #3520000, processed 8216357 words, keeping 487823 word types\n",
      "2017-11-26 16:01:07,706 : INFO : PROGRESS: at sentence #3530000, processed 8240228 words, keeping 488670 word types\n",
      "2017-11-26 16:01:07,719 : INFO : PROGRESS: at sentence #3540000, processed 8265304 words, keeping 489415 word types\n",
      "2017-11-26 16:01:07,730 : INFO : PROGRESS: at sentence #3550000, processed 8290506 words, keeping 490394 word types\n",
      "2017-11-26 16:01:07,742 : INFO : PROGRESS: at sentence #3560000, processed 8312690 words, keeping 491265 word types\n",
      "2017-11-26 16:01:07,753 : INFO : PROGRESS: at sentence #3570000, processed 8335354 words, keeping 492042 word types\n",
      "2017-11-26 16:01:07,766 : INFO : PROGRESS: at sentence #3580000, processed 8358110 words, keeping 493015 word types\n",
      "2017-11-26 16:01:07,775 : INFO : PROGRESS: at sentence #3590000, processed 8381199 words, keeping 493985 word types\n",
      "2017-11-26 16:01:07,786 : INFO : PROGRESS: at sentence #3600000, processed 8405198 words, keeping 494701 word types\n",
      "2017-11-26 16:01:07,798 : INFO : PROGRESS: at sentence #3610000, processed 8428559 words, keeping 495318 word types\n",
      "2017-11-26 16:01:07,808 : INFO : PROGRESS: at sentence #3620000, processed 8449844 words, keeping 496119 word types\n",
      "2017-11-26 16:01:07,819 : INFO : PROGRESS: at sentence #3630000, processed 8473808 words, keeping 497034 word types\n",
      "2017-11-26 16:01:07,829 : INFO : PROGRESS: at sentence #3640000, processed 8497585 words, keeping 497873 word types\n",
      "2017-11-26 16:01:07,842 : INFO : PROGRESS: at sentence #3650000, processed 8518210 words, keeping 498834 word types\n",
      "2017-11-26 16:01:07,851 : INFO : PROGRESS: at sentence #3660000, processed 8541282 words, keeping 499722 word types\n",
      "2017-11-26 16:01:07,864 : INFO : PROGRESS: at sentence #3670000, processed 8565219 words, keeping 500348 word types\n",
      "2017-11-26 16:01:07,875 : INFO : PROGRESS: at sentence #3680000, processed 8589104 words, keeping 501650 word types\n",
      "2017-11-26 16:01:07,885 : INFO : PROGRESS: at sentence #3690000, processed 8613534 words, keeping 502435 word types\n",
      "2017-11-26 16:01:07,897 : INFO : PROGRESS: at sentence #3700000, processed 8636765 words, keeping 503189 word types\n",
      "2017-11-26 16:01:07,910 : INFO : PROGRESS: at sentence #3710000, processed 8660359 words, keeping 503730 word types\n",
      "2017-11-26 16:01:07,923 : INFO : PROGRESS: at sentence #3720000, processed 8683321 words, keeping 504788 word types\n",
      "2017-11-26 16:01:07,931 : INFO : PROGRESS: at sentence #3730000, processed 8707125 words, keeping 505582 word types\n",
      "2017-11-26 16:01:07,943 : INFO : PROGRESS: at sentence #3740000, processed 8730402 words, keeping 506174 word types\n"
     ]
    },
    {
     "name": "stderr",
     "output_type": "stream",
     "text": [
      "2017-11-26 16:01:07,950 : INFO : PROGRESS: at sentence #3750000, processed 8750790 words, keeping 507515 word types\n",
      "2017-11-26 16:01:07,963 : INFO : PROGRESS: at sentence #3760000, processed 8775209 words, keeping 508367 word types\n",
      "2017-11-26 16:01:07,971 : INFO : PROGRESS: at sentence #3770000, processed 8799673 words, keeping 509154 word types\n",
      "2017-11-26 16:01:07,983 : INFO : PROGRESS: at sentence #3780000, processed 8823270 words, keeping 509696 word types\n",
      "2017-11-26 16:01:07,994 : INFO : PROGRESS: at sentence #3790000, processed 8846895 words, keeping 510452 word types\n",
      "2017-11-26 16:01:08,006 : INFO : PROGRESS: at sentence #3800000, processed 8871121 words, keeping 511134 word types\n",
      "2017-11-26 16:01:08,019 : INFO : PROGRESS: at sentence #3810000, processed 8895464 words, keeping 512122 word types\n",
      "2017-11-26 16:01:08,029 : INFO : PROGRESS: at sentence #3820000, processed 8918899 words, keeping 513077 word types\n",
      "2017-11-26 16:01:08,042 : INFO : PROGRESS: at sentence #3830000, processed 8942562 words, keeping 513959 word types\n",
      "2017-11-26 16:01:08,052 : INFO : PROGRESS: at sentence #3840000, processed 8964544 words, keeping 514765 word types\n",
      "2017-11-26 16:01:08,063 : INFO : PROGRESS: at sentence #3850000, processed 8987701 words, keeping 515472 word types\n",
      "2017-11-26 16:01:08,078 : INFO : PROGRESS: at sentence #3860000, processed 9011657 words, keeping 516198 word types\n",
      "2017-11-26 16:01:08,088 : INFO : PROGRESS: at sentence #3870000, processed 9035815 words, keeping 516971 word types\n",
      "2017-11-26 16:01:08,098 : INFO : PROGRESS: at sentence #3880000, processed 9058386 words, keeping 517810 word types\n",
      "2017-11-26 16:01:08,111 : INFO : PROGRESS: at sentence #3890000, processed 9082344 words, keeping 518797 word types\n",
      "2017-11-26 16:01:08,121 : INFO : PROGRESS: at sentence #3900000, processed 9106210 words, keeping 519597 word types\n",
      "2017-11-26 16:01:08,135 : INFO : PROGRESS: at sentence #3910000, processed 9131002 words, keeping 520637 word types\n",
      "2017-11-26 16:01:08,150 : INFO : PROGRESS: at sentence #3920000, processed 9154122 words, keeping 521431 word types\n",
      "2017-11-26 16:01:08,161 : INFO : PROGRESS: at sentence #3930000, processed 9178638 words, keeping 522313 word types\n",
      "2017-11-26 16:01:08,171 : INFO : PROGRESS: at sentence #3940000, processed 9202862 words, keeping 523094 word types\n",
      "2017-11-26 16:01:08,181 : INFO : PROGRESS: at sentence #3950000, processed 9226930 words, keeping 523672 word types\n",
      "2017-11-26 16:01:08,191 : INFO : PROGRESS: at sentence #3960000, processed 9250176 words, keeping 524605 word types\n",
      "2017-11-26 16:01:08,203 : INFO : PROGRESS: at sentence #3970000, processed 9275019 words, keeping 525728 word types\n",
      "2017-11-26 16:01:08,216 : INFO : PROGRESS: at sentence #3980000, processed 9298607 words, keeping 526470 word types\n",
      "2017-11-26 16:01:08,229 : INFO : PROGRESS: at sentence #3990000, processed 9323192 words, keeping 527245 word types\n",
      "2017-11-26 16:01:08,240 : INFO : PROGRESS: at sentence #4000000, processed 9346626 words, keeping 528181 word types\n",
      "2017-11-26 16:01:08,250 : INFO : PROGRESS: at sentence #4010000, processed 9370124 words, keeping 528744 word types\n",
      "2017-11-26 16:01:08,262 : INFO : PROGRESS: at sentence #4020000, processed 9393171 words, keeping 529642 word types\n",
      "2017-11-26 16:01:08,273 : INFO : PROGRESS: at sentence #4030000, processed 9416770 words, keeping 530600 word types\n",
      "2017-11-26 16:01:08,285 : INFO : PROGRESS: at sentence #4040000, processed 9441061 words, keeping 531341 word types\n",
      "2017-11-26 16:01:08,298 : INFO : PROGRESS: at sentence #4050000, processed 9464267 words, keeping 532421 word types\n",
      "2017-11-26 16:01:08,309 : INFO : PROGRESS: at sentence #4060000, processed 9486743 words, keeping 533737 word types\n",
      "2017-11-26 16:01:08,319 : INFO : PROGRESS: at sentence #4070000, processed 9509917 words, keeping 534690 word types\n",
      "2017-11-26 16:01:08,332 : INFO : PROGRESS: at sentence #4080000, processed 9534379 words, keeping 535791 word types\n",
      "2017-11-26 16:01:08,344 : INFO : PROGRESS: at sentence #4090000, processed 9559080 words, keeping 536489 word types\n",
      "2017-11-26 16:01:08,358 : INFO : PROGRESS: at sentence #4100000, processed 9583641 words, keeping 537129 word types\n",
      "2017-11-26 16:01:08,371 : INFO : PROGRESS: at sentence #4110000, processed 9608040 words, keeping 537986 word types\n",
      "2017-11-26 16:01:08,381 : INFO : PROGRESS: at sentence #4120000, processed 9631045 words, keeping 538817 word types\n",
      "2017-11-26 16:01:08,394 : INFO : PROGRESS: at sentence #4130000, processed 9654609 words, keeping 539700 word types\n",
      "2017-11-26 16:01:08,404 : INFO : PROGRESS: at sentence #4140000, processed 9678067 words, keeping 540281 word types\n",
      "2017-11-26 16:01:08,417 : INFO : PROGRESS: at sentence #4150000, processed 9702890 words, keeping 541037 word types\n",
      "2017-11-26 16:01:08,427 : INFO : PROGRESS: at sentence #4160000, processed 9727711 words, keeping 541623 word types\n",
      "2017-11-26 16:01:08,438 : INFO : PROGRESS: at sentence #4170000, processed 9751839 words, keeping 542224 word types\n",
      "2017-11-26 16:01:08,448 : INFO : PROGRESS: at sentence #4180000, processed 9770377 words, keeping 542934 word types\n",
      "2017-11-26 16:01:08,460 : INFO : PROGRESS: at sentence #4190000, processed 9793173 words, keeping 543922 word types\n",
      "2017-11-26 16:01:08,470 : INFO : PROGRESS: at sentence #4200000, processed 9814058 words, keeping 544924 word types\n",
      "2017-11-26 16:01:08,480 : INFO : PROGRESS: at sentence #4210000, processed 9835539 words, keeping 545602 word types\n",
      "2017-11-26 16:01:08,489 : INFO : PROGRESS: at sentence #4220000, processed 9857912 words, keeping 546458 word types\n",
      "2017-11-26 16:01:08,500 : INFO : PROGRESS: at sentence #4230000, processed 9878275 words, keeping 547593 word types\n",
      "2017-11-26 16:01:08,513 : INFO : PROGRESS: at sentence #4240000, processed 9902197 words, keeping 548450 word types\n",
      "2017-11-26 16:01:08,525 : INFO : PROGRESS: at sentence #4250000, processed 9925974 words, keeping 549537 word types\n",
      "2017-11-26 16:01:08,533 : INFO : PROGRESS: at sentence #4260000, processed 9949443 words, keeping 550448 word types\n",
      "2017-11-26 16:01:08,546 : INFO : PROGRESS: at sentence #4270000, processed 9973293 words, keeping 551244 word types\n",
      "2017-11-26 16:01:08,556 : INFO : PROGRESS: at sentence #4280000, processed 9996394 words, keeping 551803 word types\n",
      "2017-11-26 16:01:08,568 : INFO : PROGRESS: at sentence #4290000, processed 10017797 words, keeping 552443 word types\n",
      "2017-11-26 16:01:08,581 : INFO : PROGRESS: at sentence #4300000, processed 10042314 words, keeping 553172 word types\n",
      "2017-11-26 16:01:08,589 : INFO : PROGRESS: at sentence #4310000, processed 10065355 words, keeping 553913 word types\n",
      "2017-11-26 16:01:08,601 : INFO : PROGRESS: at sentence #4320000, processed 10088415 words, keeping 554899 word types\n",
      "2017-11-26 16:01:08,612 : INFO : PROGRESS: at sentence #4330000, processed 10112329 words, keeping 555511 word types\n",
      "2017-11-26 16:01:08,622 : INFO : PROGRESS: at sentence #4340000, processed 10135414 words, keeping 556316 word types\n",
      "2017-11-26 16:01:08,632 : INFO : PROGRESS: at sentence #4350000, processed 10156685 words, keeping 557236 word types\n",
      "2017-11-26 16:01:08,644 : INFO : PROGRESS: at sentence #4360000, processed 10181315 words, keeping 558010 word types\n",
      "2017-11-26 16:01:08,655 : INFO : PROGRESS: at sentence #4370000, processed 10203735 words, keeping 558829 word types\n",
      "2017-11-26 16:01:08,667 : INFO : PROGRESS: at sentence #4380000, processed 10226342 words, keeping 559961 word types\n",
      "2017-11-26 16:01:08,680 : INFO : PROGRESS: at sentence #4390000, processed 10248511 words, keeping 560700 word types\n",
      "2017-11-26 16:01:08,691 : INFO : PROGRESS: at sentence #4400000, processed 10271896 words, keeping 561368 word types\n",
      "2017-11-26 16:01:08,703 : INFO : PROGRESS: at sentence #4410000, processed 10292132 words, keeping 562531 word types\n",
      "2017-11-26 16:01:08,714 : INFO : PROGRESS: at sentence #4420000, processed 10313519 words, keeping 563232 word types\n",
      "2017-11-26 16:01:08,724 : INFO : PROGRESS: at sentence #4430000, processed 10333915 words, keeping 563697 word types\n",
      "2017-11-26 16:01:08,736 : INFO : PROGRESS: at sentence #4440000, processed 10358503 words, keeping 564353 word types\n",
      "2017-11-26 16:01:08,750 : INFO : PROGRESS: at sentence #4450000, processed 10382736 words, keeping 565167 word types\n"
     ]
    },
    {
     "name": "stderr",
     "output_type": "stream",
     "text": [
      "2017-11-26 16:01:08,762 : INFO : PROGRESS: at sentence #4460000, processed 10406886 words, keeping 566279 word types\n",
      "2017-11-26 16:01:08,769 : INFO : PROGRESS: at sentence #4470000, processed 10427267 words, keeping 566938 word types\n",
      "2017-11-26 16:01:08,782 : INFO : PROGRESS: at sentence #4480000, processed 10451725 words, keeping 567647 word types\n",
      "2017-11-26 16:01:08,793 : INFO : PROGRESS: at sentence #4490000, processed 10473600 words, keeping 568690 word types\n",
      "2017-11-26 16:01:08,805 : INFO : PROGRESS: at sentence #4500000, processed 10498157 words, keeping 569565 word types\n",
      "2017-11-26 16:01:08,816 : INFO : PROGRESS: at sentence #4510000, processed 10520568 words, keeping 570288 word types\n",
      "2017-11-26 16:01:08,828 : INFO : PROGRESS: at sentence #4520000, processed 10545106 words, keeping 570909 word types\n",
      "2017-11-26 16:01:08,839 : INFO : PROGRESS: at sentence #4530000, processed 10568592 words, keeping 571789 word types\n",
      "2017-11-26 16:01:08,854 : INFO : PROGRESS: at sentence #4540000, processed 10591380 words, keeping 573395 word types\n",
      "2017-11-26 16:01:08,865 : INFO : PROGRESS: at sentence #4550000, processed 10611979 words, keeping 574304 word types\n",
      "2017-11-26 16:01:08,880 : INFO : PROGRESS: at sentence #4560000, processed 10635317 words, keeping 575232 word types\n",
      "2017-11-26 16:01:08,891 : INFO : PROGRESS: at sentence #4570000, processed 10658094 words, keeping 576105 word types\n",
      "2017-11-26 16:01:08,904 : INFO : PROGRESS: at sentence #4580000, processed 10681624 words, keeping 576867 word types\n",
      "2017-11-26 16:01:08,917 : INFO : PROGRESS: at sentence #4590000, processed 10705341 words, keeping 577655 word types\n",
      "2017-11-26 16:01:08,930 : INFO : PROGRESS: at sentence #4600000, processed 10729765 words, keeping 578225 word types\n",
      "2017-11-26 16:01:08,944 : INFO : PROGRESS: at sentence #4610000, processed 10755386 words, keeping 579583 word types\n",
      "2017-11-26 16:01:08,956 : INFO : PROGRESS: at sentence #4620000, processed 10779739 words, keeping 580605 word types\n",
      "2017-11-26 16:01:08,970 : INFO : PROGRESS: at sentence #4630000, processed 10804178 words, keeping 581150 word types\n",
      "2017-11-26 16:01:08,980 : INFO : PROGRESS: at sentence #4640000, processed 10827327 words, keeping 581820 word types\n",
      "2017-11-26 16:01:08,990 : INFO : PROGRESS: at sentence #4650000, processed 10849869 words, keeping 583080 word types\n",
      "2017-11-26 16:01:09,003 : INFO : PROGRESS: at sentence #4660000, processed 10873222 words, keeping 583742 word types\n",
      "2017-11-26 16:01:09,015 : INFO : PROGRESS: at sentence #4670000, processed 10897651 words, keeping 584403 word types\n",
      "2017-11-26 16:01:09,026 : INFO : PROGRESS: at sentence #4680000, processed 10917236 words, keeping 585304 word types\n",
      "2017-11-26 16:01:09,036 : INFO : PROGRESS: at sentence #4690000, processed 10939201 words, keeping 586478 word types\n",
      "2017-11-26 16:01:09,048 : INFO : PROGRESS: at sentence #4700000, processed 10961933 words, keeping 587293 word types\n",
      "2017-11-26 16:01:09,059 : INFO : PROGRESS: at sentence #4710000, processed 10984787 words, keeping 588162 word types\n",
      "2017-11-26 16:01:09,069 : INFO : PROGRESS: at sentence #4720000, processed 11006941 words, keeping 588899 word types\n",
      "2017-11-26 16:01:09,081 : INFO : PROGRESS: at sentence #4730000, processed 11030470 words, keeping 589906 word types\n",
      "2017-11-26 16:01:09,092 : INFO : PROGRESS: at sentence #4740000, processed 11053402 words, keeping 591080 word types\n",
      "2017-11-26 16:01:09,104 : INFO : PROGRESS: at sentence #4750000, processed 11075871 words, keeping 591839 word types\n",
      "2017-11-26 16:01:09,117 : INFO : PROGRESS: at sentence #4760000, processed 11098280 words, keeping 592520 word types\n",
      "2017-11-26 16:01:09,128 : INFO : PROGRESS: at sentence #4770000, processed 11121807 words, keeping 593265 word types\n",
      "2017-11-26 16:01:09,140 : INFO : PROGRESS: at sentence #4780000, processed 11143548 words, keeping 594000 word types\n",
      "2017-11-26 16:01:09,151 : INFO : PROGRESS: at sentence #4790000, processed 11166326 words, keeping 594601 word types\n",
      "2017-11-26 16:01:09,163 : INFO : PROGRESS: at sentence #4800000, processed 11188873 words, keeping 595466 word types\n",
      "2017-11-26 16:01:09,174 : INFO : PROGRESS: at sentence #4810000, processed 11212749 words, keeping 596322 word types\n",
      "2017-11-26 16:01:09,187 : INFO : PROGRESS: at sentence #4820000, processed 11235482 words, keeping 597308 word types\n",
      "2017-11-26 16:01:09,197 : INFO : PROGRESS: at sentence #4830000, processed 11256323 words, keeping 597915 word types\n",
      "2017-11-26 16:01:09,210 : INFO : PROGRESS: at sentence #4840000, processed 11277524 words, keeping 598848 word types\n",
      "2017-11-26 16:01:09,221 : INFO : PROGRESS: at sentence #4850000, processed 11299792 words, keeping 599784 word types\n",
      "2017-11-26 16:01:09,233 : INFO : PROGRESS: at sentence #4860000, processed 11320448 words, keeping 600608 word types\n",
      "2017-11-26 16:01:09,244 : INFO : PROGRESS: at sentence #4870000, processed 11344556 words, keeping 601239 word types\n",
      "2017-11-26 16:01:09,255 : INFO : PROGRESS: at sentence #4880000, processed 11368032 words, keeping 602069 word types\n",
      "2017-11-26 16:01:09,267 : INFO : PROGRESS: at sentence #4890000, processed 11390606 words, keeping 602853 word types\n",
      "2017-11-26 16:01:09,278 : INFO : PROGRESS: at sentence #4900000, processed 11414345 words, keeping 603524 word types\n",
      "2017-11-26 16:01:09,292 : INFO : PROGRESS: at sentence #4910000, processed 11437119 words, keeping 604096 word types\n",
      "2017-11-26 16:01:09,303 : INFO : PROGRESS: at sentence #4920000, processed 11460987 words, keeping 604770 word types\n",
      "2017-11-26 16:01:09,313 : INFO : PROGRESS: at sentence #4930000, processed 11486100 words, keeping 605463 word types\n",
      "2017-11-26 16:01:09,326 : INFO : PROGRESS: at sentence #4940000, processed 11508487 words, keeping 606717 word types\n",
      "2017-11-26 16:01:09,335 : INFO : PROGRESS: at sentence #4950000, processed 11532776 words, keeping 607881 word types\n",
      "2017-11-26 16:01:09,346 : INFO : PROGRESS: at sentence #4960000, processed 11553029 words, keeping 608560 word types\n",
      "2017-11-26 16:01:09,357 : INFO : PROGRESS: at sentence #4970000, processed 11574493 words, keeping 610057 word types\n",
      "2017-11-26 16:01:09,368 : INFO : PROGRESS: at sentence #4980000, processed 11597181 words, keeping 610760 word types\n",
      "2017-11-26 16:01:09,378 : INFO : PROGRESS: at sentence #4990000, processed 11620163 words, keeping 611557 word types\n",
      "2017-11-26 16:01:09,390 : INFO : PROGRESS: at sentence #5000000, processed 11640029 words, keeping 612678 word types\n",
      "2017-11-26 16:01:09,400 : INFO : PROGRESS: at sentence #5010000, processed 11661157 words, keeping 613236 word types\n",
      "2017-11-26 16:01:09,413 : INFO : PROGRESS: at sentence #5020000, processed 11681647 words, keeping 614112 word types\n",
      "2017-11-26 16:01:09,424 : INFO : PROGRESS: at sentence #5030000, processed 11702472 words, keeping 615171 word types\n",
      "2017-11-26 16:01:09,434 : INFO : PROGRESS: at sentence #5040000, processed 11725871 words, keeping 615836 word types\n",
      "2017-11-26 16:01:09,446 : INFO : PROGRESS: at sentence #5050000, processed 11749139 words, keeping 616471 word types\n",
      "2017-11-26 16:01:09,453 : INFO : PROGRESS: at sentence #5060000, processed 11769811 words, keeping 617505 word types\n",
      "2017-11-26 16:01:09,466 : INFO : PROGRESS: at sentence #5070000, processed 11790506 words, keeping 618193 word types\n",
      "2017-11-26 16:01:09,476 : INFO : PROGRESS: at sentence #5080000, processed 11811870 words, keeping 619142 word types\n",
      "2017-11-26 16:01:09,489 : INFO : PROGRESS: at sentence #5090000, processed 11836057 words, keeping 620019 word types\n",
      "2017-11-26 16:01:09,500 : INFO : PROGRESS: at sentence #5100000, processed 11857759 words, keeping 621034 word types\n",
      "2017-11-26 16:01:09,510 : INFO : PROGRESS: at sentence #5110000, processed 11880698 words, keeping 621851 word types\n",
      "2017-11-26 16:01:09,522 : INFO : PROGRESS: at sentence #5120000, processed 11902217 words, keeping 622854 word types\n",
      "2017-11-26 16:01:09,536 : INFO : PROGRESS: at sentence #5130000, processed 11925526 words, keeping 623799 word types\n",
      "2017-11-26 16:01:09,546 : INFO : PROGRESS: at sentence #5140000, processed 11949942 words, keeping 624430 word types\n",
      "2017-11-26 16:01:09,559 : INFO : PROGRESS: at sentence #5150000, processed 11973190 words, keeping 625069 word types\n",
      "2017-11-26 16:01:09,569 : INFO : PROGRESS: at sentence #5160000, processed 11996396 words, keeping 625642 word types\n"
     ]
    },
    {
     "name": "stderr",
     "output_type": "stream",
     "text": [
      "2017-11-26 16:01:09,579 : INFO : PROGRESS: at sentence #5170000, processed 12021508 words, keeping 626268 word types\n",
      "2017-11-26 16:01:09,591 : INFO : PROGRESS: at sentence #5180000, processed 12044293 words, keeping 626963 word types\n",
      "2017-11-26 16:01:09,601 : INFO : PROGRESS: at sentence #5190000, processed 12068314 words, keeping 627787 word types\n",
      "2017-11-26 16:01:09,611 : INFO : PROGRESS: at sentence #5200000, processed 12091385 words, keeping 628500 word types\n",
      "2017-11-26 16:01:09,625 : INFO : PROGRESS: at sentence #5210000, processed 12116366 words, keeping 629453 word types\n",
      "2017-11-26 16:01:09,638 : INFO : PROGRESS: at sentence #5220000, processed 12141046 words, keeping 630068 word types\n",
      "2017-11-26 16:01:09,651 : INFO : PROGRESS: at sentence #5230000, processed 12164279 words, keeping 631008 word types\n",
      "2017-11-26 16:01:09,661 : INFO : PROGRESS: at sentence #5240000, processed 12186599 words, keeping 631890 word types\n",
      "2017-11-26 16:01:09,674 : INFO : PROGRESS: at sentence #5250000, processed 12210540 words, keeping 632724 word types\n",
      "2017-11-26 16:01:09,684 : INFO : PROGRESS: at sentence #5260000, processed 12234633 words, keeping 633399 word types\n",
      "2017-11-26 16:01:09,697 : INFO : PROGRESS: at sentence #5270000, processed 12256276 words, keeping 634385 word types\n",
      "2017-11-26 16:01:09,709 : INFO : PROGRESS: at sentence #5280000, processed 12279610 words, keeping 635127 word types\n",
      "2017-11-26 16:01:09,720 : INFO : PROGRESS: at sentence #5290000, processed 12301516 words, keeping 636014 word types\n",
      "2017-11-26 16:01:09,734 : INFO : PROGRESS: at sentence #5300000, processed 12325294 words, keeping 636588 word types\n",
      "2017-11-26 16:01:09,746 : INFO : PROGRESS: at sentence #5310000, processed 12350301 words, keeping 637298 word types\n",
      "2017-11-26 16:01:09,759 : INFO : PROGRESS: at sentence #5320000, processed 12372305 words, keeping 638246 word types\n",
      "2017-11-26 16:01:09,772 : INFO : PROGRESS: at sentence #5330000, processed 12394793 words, keeping 639250 word types\n",
      "2017-11-26 16:01:09,785 : INFO : PROGRESS: at sentence #5340000, processed 12417917 words, keeping 640005 word types\n",
      "2017-11-26 16:01:09,796 : INFO : PROGRESS: at sentence #5350000, processed 12441357 words, keeping 640905 word types\n",
      "2017-11-26 16:01:09,808 : INFO : PROGRESS: at sentence #5360000, processed 12466340 words, keeping 641468 word types\n",
      "2017-11-26 16:01:09,819 : INFO : PROGRESS: at sentence #5370000, processed 12490639 words, keeping 642052 word types\n",
      "2017-11-26 16:01:09,831 : INFO : PROGRESS: at sentence #5380000, processed 12512361 words, keeping 643092 word types\n",
      "2017-11-26 16:01:09,842 : INFO : PROGRESS: at sentence #5390000, processed 12532256 words, keeping 644397 word types\n",
      "2017-11-26 16:01:09,851 : INFO : PROGRESS: at sentence #5400000, processed 12549726 words, keeping 646101 word types\n",
      "2017-11-26 16:01:09,861 : INFO : PROGRESS: at sentence #5410000, processed 12566370 words, keeping 647873 word types\n",
      "2017-11-26 16:01:09,875 : INFO : PROGRESS: at sentence #5420000, processed 12590172 words, keeping 648554 word types\n",
      "2017-11-26 16:01:09,884 : INFO : PROGRESS: at sentence #5430000, processed 12612260 words, keeping 649030 word types\n",
      "2017-11-26 16:01:09,897 : INFO : PROGRESS: at sentence #5440000, processed 12635734 words, keeping 649615 word types\n",
      "2017-11-26 16:01:09,907 : INFO : PROGRESS: at sentence #5450000, processed 12659709 words, keeping 650430 word types\n",
      "2017-11-26 16:01:09,920 : INFO : PROGRESS: at sentence #5460000, processed 12684055 words, keeping 651139 word types\n",
      "2017-11-26 16:01:09,931 : INFO : PROGRESS: at sentence #5470000, processed 12707857 words, keeping 651663 word types\n",
      "2017-11-26 16:01:09,943 : INFO : PROGRESS: at sentence #5480000, processed 12730997 words, keeping 652558 word types\n",
      "2017-11-26 16:01:09,954 : INFO : PROGRESS: at sentence #5490000, processed 12753014 words, keeping 653104 word types\n",
      "2017-11-26 16:01:09,964 : INFO : PROGRESS: at sentence #5500000, processed 12775206 words, keeping 654061 word types\n",
      "2017-11-26 16:01:09,976 : INFO : PROGRESS: at sentence #5510000, processed 12798585 words, keeping 654677 word types\n",
      "2017-11-26 16:01:09,989 : INFO : PROGRESS: at sentence #5520000, processed 12822624 words, keeping 655307 word types\n",
      "2017-11-26 16:01:10,000 : INFO : PROGRESS: at sentence #5530000, processed 12846190 words, keeping 656393 word types\n",
      "2017-11-26 16:01:10,013 : INFO : PROGRESS: at sentence #5540000, processed 12869495 words, keeping 657146 word types\n",
      "2017-11-26 16:01:10,022 : INFO : PROGRESS: at sentence #5550000, processed 12892723 words, keeping 657843 word types\n",
      "2017-11-26 16:01:10,036 : INFO : PROGRESS: at sentence #5560000, processed 12917321 words, keeping 658465 word types\n",
      "2017-11-26 16:01:10,048 : INFO : PROGRESS: at sentence #5570000, processed 12942537 words, keeping 658972 word types\n",
      "2017-11-26 16:01:10,059 : INFO : PROGRESS: at sentence #5580000, processed 12965694 words, keeping 659605 word types\n",
      "2017-11-26 16:01:10,069 : INFO : PROGRESS: at sentence #5590000, processed 12985435 words, keeping 661089 word types\n",
      "2017-11-26 16:01:10,081 : INFO : PROGRESS: at sentence #5600000, processed 13011670 words, keeping 661613 word types\n",
      "2017-11-26 16:01:10,092 : INFO : PROGRESS: at sentence #5610000, processed 13034647 words, keeping 662753 word types\n",
      "2017-11-26 16:01:10,101 : INFO : PROGRESS: at sentence #5620000, processed 13058650 words, keeping 663602 word types\n",
      "2017-11-26 16:01:10,115 : INFO : PROGRESS: at sentence #5630000, processed 13080763 words, keeping 664498 word types\n",
      "2017-11-26 16:01:10,125 : INFO : PROGRESS: at sentence #5640000, processed 13104621 words, keeping 665222 word types\n",
      "2017-11-26 16:01:10,138 : INFO : PROGRESS: at sentence #5650000, processed 13128294 words, keeping 665950 word types\n",
      "2017-11-26 16:01:10,148 : INFO : PROGRESS: at sentence #5660000, processed 13151579 words, keeping 666667 word types\n",
      "2017-11-26 16:01:10,160 : INFO : PROGRESS: at sentence #5670000, processed 13174435 words, keeping 667384 word types\n",
      "2017-11-26 16:01:10,173 : INFO : PROGRESS: at sentence #5680000, processed 13195184 words, keeping 668126 word types\n",
      "2017-11-26 16:01:10,186 : INFO : PROGRESS: at sentence #5690000, processed 13218115 words, keeping 668783 word types\n",
      "2017-11-26 16:01:10,197 : INFO : PROGRESS: at sentence #5700000, processed 13241207 words, keeping 669382 word types\n",
      "2017-11-26 16:01:10,207 : INFO : PROGRESS: at sentence #5710000, processed 13262064 words, keeping 670168 word types\n",
      "2017-11-26 16:01:10,220 : INFO : PROGRESS: at sentence #5720000, processed 13284680 words, keeping 670897 word types\n",
      "2017-11-26 16:01:10,230 : INFO : PROGRESS: at sentence #5730000, processed 13305729 words, keeping 671742 word types\n",
      "2017-11-26 16:01:10,243 : INFO : PROGRESS: at sentence #5740000, processed 13329203 words, keeping 672428 word types\n",
      "2017-11-26 16:01:10,255 : INFO : PROGRESS: at sentence #5750000, processed 13352768 words, keeping 672944 word types\n",
      "2017-11-26 16:01:10,263 : INFO : PROGRESS: at sentence #5760000, processed 13366977 words, keeping 673394 word types\n",
      "2017-11-26 16:01:10,273 : INFO : PROGRESS: at sentence #5770000, processed 13391280 words, keeping 674006 word types\n",
      "2017-11-26 16:01:10,285 : INFO : PROGRESS: at sentence #5780000, processed 13413980 words, keeping 674689 word types\n",
      "2017-11-26 16:01:10,299 : INFO : PROGRESS: at sentence #5790000, processed 13438440 words, keeping 675476 word types\n",
      "2017-11-26 16:01:10,309 : INFO : PROGRESS: at sentence #5800000, processed 13461863 words, keeping 676248 word types\n",
      "2017-11-26 16:01:10,319 : INFO : PROGRESS: at sentence #5810000, processed 13484159 words, keeping 676914 word types\n",
      "2017-11-26 16:01:10,328 : INFO : PROGRESS: at sentence #5820000, processed 13506197 words, keeping 677618 word types\n",
      "2017-11-26 16:01:10,339 : INFO : PROGRESS: at sentence #5830000, processed 13526239 words, keeping 678436 word types\n",
      "2017-11-26 16:01:10,349 : INFO : PROGRESS: at sentence #5840000, processed 13549997 words, keeping 679174 word types\n",
      "2017-11-26 16:01:10,364 : INFO : PROGRESS: at sentence #5850000, processed 13572503 words, keeping 680120 word types\n",
      "2017-11-26 16:01:10,375 : INFO : PROGRESS: at sentence #5860000, processed 13596443 words, keeping 680591 word types\n",
      "2017-11-26 16:01:10,387 : INFO : PROGRESS: at sentence #5870000, processed 13618860 words, keeping 681120 word types\n"
     ]
    },
    {
     "name": "stderr",
     "output_type": "stream",
     "text": [
      "2017-11-26 16:01:10,400 : INFO : PROGRESS: at sentence #5880000, processed 13642422 words, keeping 681731 word types\n",
      "2017-11-26 16:01:10,411 : INFO : PROGRESS: at sentence #5890000, processed 13666037 words, keeping 682398 word types\n",
      "2017-11-26 16:01:10,424 : INFO : PROGRESS: at sentence #5900000, processed 13688438 words, keeping 683491 word types\n",
      "2017-11-26 16:01:10,434 : INFO : PROGRESS: at sentence #5910000, processed 13710567 words, keeping 684377 word types\n",
      "2017-11-26 16:01:10,447 : INFO : PROGRESS: at sentence #5920000, processed 13734425 words, keeping 685270 word types\n",
      "2017-11-26 16:01:10,460 : INFO : PROGRESS: at sentence #5930000, processed 13756852 words, keeping 685991 word types\n",
      "2017-11-26 16:01:10,470 : INFO : PROGRESS: at sentence #5940000, processed 13778098 words, keeping 687117 word types\n",
      "2017-11-26 16:01:10,482 : INFO : PROGRESS: at sentence #5950000, processed 13798463 words, keeping 688019 word types\n",
      "2017-11-26 16:01:10,493 : INFO : PROGRESS: at sentence #5960000, processed 13821209 words, keeping 688504 word types\n",
      "2017-11-26 16:01:10,505 : INFO : PROGRESS: at sentence #5970000, processed 13845491 words, keeping 689249 word types\n",
      "2017-11-26 16:01:10,517 : INFO : PROGRESS: at sentence #5980000, processed 13867903 words, keeping 689952 word types\n",
      "2017-11-26 16:01:10,529 : INFO : PROGRESS: at sentence #5990000, processed 13890268 words, keeping 690920 word types\n",
      "2017-11-26 16:01:10,539 : INFO : PROGRESS: at sentence #6000000, processed 13913684 words, keeping 691783 word types\n",
      "2017-11-26 16:01:10,552 : INFO : PROGRESS: at sentence #6010000, processed 13935820 words, keeping 692439 word types\n",
      "2017-11-26 16:01:10,562 : INFO : PROGRESS: at sentence #6020000, processed 13958519 words, keeping 693077 word types\n",
      "2017-11-26 16:01:10,573 : INFO : PROGRESS: at sentence #6030000, processed 13983523 words, keeping 693568 word types\n",
      "2017-11-26 16:01:10,585 : INFO : PROGRESS: at sentence #6040000, processed 14007367 words, keeping 694216 word types\n",
      "2017-11-26 16:01:10,595 : INFO : PROGRESS: at sentence #6050000, processed 14030850 words, keeping 694876 word types\n",
      "2017-11-26 16:01:10,608 : INFO : PROGRESS: at sentence #6060000, processed 14052818 words, keeping 695416 word types\n",
      "2017-11-26 16:01:10,618 : INFO : PROGRESS: at sentence #6070000, processed 14075663 words, keeping 696031 word types\n",
      "2017-11-26 16:01:10,630 : INFO : PROGRESS: at sentence #6080000, processed 14099685 words, keeping 696685 word types\n",
      "2017-11-26 16:01:10,641 : INFO : PROGRESS: at sentence #6090000, processed 14123112 words, keeping 697406 word types\n",
      "2017-11-26 16:01:10,651 : INFO : PROGRESS: at sentence #6100000, processed 14146571 words, keeping 698282 word types\n",
      "2017-11-26 16:01:10,706 : INFO : PROGRESS: at sentence #6110000, processed 14169056 words, keeping 699160 word types\n",
      "2017-11-26 16:01:10,716 : INFO : PROGRESS: at sentence #6120000, processed 14191269 words, keeping 699984 word types\n",
      "2017-11-26 16:01:10,726 : INFO : PROGRESS: at sentence #6130000, processed 14215124 words, keeping 700737 word types\n",
      "2017-11-26 16:01:10,737 : INFO : PROGRESS: at sentence #6140000, processed 14238738 words, keeping 701432 word types\n",
      "2017-11-26 16:01:10,750 : INFO : PROGRESS: at sentence #6150000, processed 14262881 words, keeping 702072 word types\n",
      "2017-11-26 16:01:10,763 : INFO : PROGRESS: at sentence #6160000, processed 14286300 words, keeping 702733 word types\n",
      "2017-11-26 16:01:10,776 : INFO : PROGRESS: at sentence #6170000, processed 14311914 words, keeping 703461 word types\n",
      "2017-11-26 16:01:10,786 : INFO : PROGRESS: at sentence #6180000, processed 14334990 words, keeping 704165 word types\n",
      "2017-11-26 16:01:10,798 : INFO : PROGRESS: at sentence #6190000, processed 14358349 words, keeping 704752 word types\n",
      "2017-11-26 16:01:10,811 : INFO : PROGRESS: at sentence #6200000, processed 14382224 words, keeping 705460 word types\n",
      "2017-11-26 16:01:10,821 : INFO : PROGRESS: at sentence #6210000, processed 14405079 words, keeping 706033 word types\n",
      "2017-11-26 16:01:10,831 : INFO : PROGRESS: at sentence #6220000, processed 14427606 words, keeping 707054 word types\n",
      "2017-11-26 16:01:10,842 : INFO : PROGRESS: at sentence #6230000, processed 14449571 words, keeping 707689 word types\n",
      "2017-11-26 16:01:10,851 : INFO : PROGRESS: at sentence #6240000, processed 14470949 words, keeping 708274 word types\n",
      "2017-11-26 16:01:10,865 : INFO : PROGRESS: at sentence #6250000, processed 14496042 words, keeping 708918 word types\n",
      "2017-11-26 16:01:10,875 : INFO : PROGRESS: at sentence #6260000, processed 14519528 words, keeping 709525 word types\n",
      "2017-11-26 16:01:10,887 : INFO : PROGRESS: at sentence #6270000, processed 14541312 words, keeping 710450 word types\n",
      "2017-11-26 16:01:10,897 : INFO : PROGRESS: at sentence #6280000, processed 14565468 words, keeping 711262 word types\n",
      "2017-11-26 16:01:10,908 : INFO : PROGRESS: at sentence #6290000, processed 14586043 words, keeping 712035 word types\n",
      "2017-11-26 16:01:10,920 : INFO : PROGRESS: at sentence #6300000, processed 14607831 words, keeping 712830 word types\n",
      "2017-11-26 16:01:10,930 : INFO : PROGRESS: at sentence #6310000, processed 14630889 words, keeping 713552 word types\n",
      "2017-11-26 16:01:10,943 : INFO : PROGRESS: at sentence #6320000, processed 14651957 words, keeping 714163 word types\n",
      "2017-11-26 16:01:10,950 : INFO : PROGRESS: at sentence #6330000, processed 14674802 words, keeping 714920 word types\n",
      "2017-11-26 16:01:10,963 : INFO : PROGRESS: at sentence #6340000, processed 14696028 words, keeping 715792 word types\n",
      "2017-11-26 16:01:10,973 : INFO : PROGRESS: at sentence #6350000, processed 14718657 words, keeping 716565 word types\n",
      "2017-11-26 16:01:10,986 : INFO : PROGRESS: at sentence #6360000, processed 14741025 words, keeping 717343 word types\n",
      "2017-11-26 16:01:10,996 : INFO : PROGRESS: at sentence #6370000, processed 14763919 words, keeping 717778 word types\n",
      "2017-11-26 16:01:11,007 : INFO : PROGRESS: at sentence #6380000, processed 14785827 words, keeping 718540 word types\n",
      "2017-11-26 16:01:11,019 : INFO : PROGRESS: at sentence #6390000, processed 14809789 words, keeping 719323 word types\n",
      "2017-11-26 16:01:11,029 : INFO : PROGRESS: at sentence #6400000, processed 14831406 words, keeping 720091 word types\n",
      "2017-11-26 16:01:11,043 : INFO : PROGRESS: at sentence #6410000, processed 14853825 words, keeping 720751 word types\n",
      "2017-11-26 16:01:11,052 : INFO : PROGRESS: at sentence #6420000, processed 14877687 words, keeping 721358 word types\n",
      "2017-11-26 16:01:11,065 : INFO : PROGRESS: at sentence #6430000, processed 14899642 words, keeping 722400 word types\n",
      "2017-11-26 16:01:11,076 : INFO : PROGRESS: at sentence #6440000, processed 14922003 words, keeping 723181 word types\n",
      "2017-11-26 16:01:11,088 : INFO : PROGRESS: at sentence #6450000, processed 14944695 words, keeping 723912 word types\n",
      "2017-11-26 16:01:11,101 : INFO : PROGRESS: at sentence #6460000, processed 14967988 words, keeping 724524 word types\n",
      "2017-11-26 16:01:11,112 : INFO : PROGRESS: at sentence #6470000, processed 14991535 words, keeping 724998 word types\n",
      "2017-11-26 16:01:11,127 : INFO : PROGRESS: at sentence #6480000, processed 15014387 words, keeping 725585 word types\n",
      "2017-11-26 16:01:11,138 : INFO : PROGRESS: at sentence #6490000, processed 15038656 words, keeping 726143 word types\n",
      "2017-11-26 16:01:11,148 : INFO : PROGRESS: at sentence #6500000, processed 15062670 words, keeping 726644 word types\n",
      "2017-11-26 16:01:11,161 : INFO : PROGRESS: at sentence #6510000, processed 15087509 words, keeping 727077 word types\n",
      "2017-11-26 16:01:11,171 : INFO : PROGRESS: at sentence #6520000, processed 15109646 words, keeping 727885 word types\n",
      "2017-11-26 16:01:11,186 : INFO : PROGRESS: at sentence #6530000, processed 15133878 words, keeping 728453 word types\n",
      "2017-11-26 16:01:11,196 : INFO : PROGRESS: at sentence #6540000, processed 15158100 words, keeping 729155 word types\n",
      "2017-11-26 16:01:11,207 : INFO : PROGRESS: at sentence #6550000, processed 15179731 words, keeping 729758 word types\n",
      "2017-11-26 16:01:11,217 : INFO : PROGRESS: at sentence #6560000, processed 15202266 words, keeping 730592 word types\n",
      "2017-11-26 16:01:11,229 : INFO : PROGRESS: at sentence #6570000, processed 15224457 words, keeping 731311 word types\n",
      "2017-11-26 16:01:11,239 : INFO : PROGRESS: at sentence #6580000, processed 15245928 words, keeping 731960 word types\n"
     ]
    },
    {
     "name": "stderr",
     "output_type": "stream",
     "text": [
      "2017-11-26 16:01:11,253 : INFO : PROGRESS: at sentence #6590000, processed 15270541 words, keeping 732477 word types\n",
      "2017-11-26 16:01:11,267 : INFO : PROGRESS: at sentence #6600000, processed 15294518 words, keeping 733149 word types\n",
      "2017-11-26 16:01:11,278 : INFO : PROGRESS: at sentence #6610000, processed 15317398 words, keeping 734095 word types\n",
      "2017-11-26 16:01:11,292 : INFO : PROGRESS: at sentence #6620000, processed 15341817 words, keeping 734667 word types\n",
      "2017-11-26 16:01:11,302 : INFO : PROGRESS: at sentence #6630000, processed 15365344 words, keeping 735339 word types\n",
      "2017-11-26 16:01:11,313 : INFO : PROGRESS: at sentence #6640000, processed 15388500 words, keeping 735982 word types\n",
      "2017-11-26 16:01:11,325 : INFO : PROGRESS: at sentence #6650000, processed 15411765 words, keeping 736726 word types\n",
      "2017-11-26 16:01:11,338 : INFO : PROGRESS: at sentence #6660000, processed 15435845 words, keeping 737354 word types\n",
      "2017-11-26 16:01:11,349 : INFO : PROGRESS: at sentence #6670000, processed 15458282 words, keeping 738156 word types\n",
      "2017-11-26 16:01:11,362 : INFO : PROGRESS: at sentence #6680000, processed 15482032 words, keeping 738697 word types\n",
      "2017-11-26 16:01:11,375 : INFO : PROGRESS: at sentence #6690000, processed 15505524 words, keeping 739485 word types\n",
      "2017-11-26 16:01:11,384 : INFO : PROGRESS: at sentence #6700000, processed 15528092 words, keeping 740510 word types\n",
      "2017-11-26 16:01:11,397 : INFO : PROGRESS: at sentence #6710000, processed 15548448 words, keeping 741239 word types\n",
      "2017-11-26 16:01:11,410 : INFO : PROGRESS: at sentence #6720000, processed 15571897 words, keeping 741840 word types\n",
      "2017-11-26 16:01:11,421 : INFO : PROGRESS: at sentence #6730000, processed 15596470 words, keeping 742459 word types\n",
      "2017-11-26 16:01:11,433 : INFO : PROGRESS: at sentence #6740000, processed 15620259 words, keeping 743096 word types\n",
      "2017-11-26 16:01:11,444 : INFO : PROGRESS: at sentence #6750000, processed 15644961 words, keeping 743662 word types\n",
      "2017-11-26 16:01:11,456 : INFO : PROGRESS: at sentence #6760000, processed 15666980 words, keeping 744428 word types\n",
      "2017-11-26 16:01:11,467 : INFO : PROGRESS: at sentence #6770000, processed 15689811 words, keeping 745112 word types\n",
      "2017-11-26 16:01:11,477 : INFO : PROGRESS: at sentence #6780000, processed 15713016 words, keeping 745679 word types\n",
      "2017-11-26 16:01:11,490 : INFO : PROGRESS: at sentence #6790000, processed 15735293 words, keeping 746327 word types\n",
      "2017-11-26 16:01:11,503 : INFO : PROGRESS: at sentence #6800000, processed 15760508 words, keeping 746973 word types\n",
      "2017-11-26 16:01:11,516 : INFO : PROGRESS: at sentence #6810000, processed 15783394 words, keeping 747812 word types\n",
      "2017-11-26 16:01:11,528 : INFO : PROGRESS: at sentence #6820000, processed 15804905 words, keeping 748246 word types\n",
      "2017-11-26 16:01:11,538 : INFO : PROGRESS: at sentence #6830000, processed 15826273 words, keeping 748982 word types\n",
      "2017-11-26 16:01:11,551 : INFO : PROGRESS: at sentence #6840000, processed 15849401 words, keeping 749515 word types\n",
      "2017-11-26 16:01:11,565 : INFO : PROGRESS: at sentence #6850000, processed 15872294 words, keeping 750002 word types\n",
      "2017-11-26 16:01:11,578 : INFO : PROGRESS: at sentence #6860000, processed 15895982 words, keeping 750705 word types\n",
      "2017-11-26 16:01:11,588 : INFO : PROGRESS: at sentence #6870000, processed 15918569 words, keeping 751234 word types\n",
      "2017-11-26 16:01:11,598 : INFO : PROGRESS: at sentence #6880000, processed 15938210 words, keeping 751786 word types\n",
      "2017-11-26 16:01:11,608 : INFO : PROGRESS: at sentence #6890000, processed 15960406 words, keeping 752282 word types\n",
      "2017-11-26 16:01:11,621 : INFO : PROGRESS: at sentence #6900000, processed 15983142 words, keeping 752939 word types\n",
      "2017-11-26 16:01:11,632 : INFO : PROGRESS: at sentence #6910000, processed 16004325 words, keeping 753633 word types\n",
      "2017-11-26 16:01:11,644 : INFO : PROGRESS: at sentence #6920000, processed 16026756 words, keeping 754453 word types\n",
      "2017-11-26 16:01:11,654 : INFO : PROGRESS: at sentence #6930000, processed 16049840 words, keeping 754973 word types\n",
      "2017-11-26 16:01:11,664 : INFO : PROGRESS: at sentence #6940000, processed 16070282 words, keeping 755284 word types\n",
      "2017-11-26 16:01:11,674 : INFO : PROGRESS: at sentence #6950000, processed 16091316 words, keeping 755592 word types\n",
      "2017-11-26 16:01:11,684 : INFO : PROGRESS: at sentence #6960000, processed 16112827 words, keeping 756252 word types\n",
      "2017-11-26 16:01:11,694 : INFO : PROGRESS: at sentence #6970000, processed 16132680 words, keeping 756659 word types\n",
      "2017-11-26 16:01:11,706 : INFO : PROGRESS: at sentence #6980000, processed 16153996 words, keeping 757203 word types\n",
      "2017-11-26 16:01:11,719 : INFO : PROGRESS: at sentence #6990000, processed 16177692 words, keeping 757780 word types\n",
      "2017-11-26 16:01:11,730 : INFO : PROGRESS: at sentence #7000000, processed 16202040 words, keeping 758297 word types\n",
      "2017-11-26 16:01:11,743 : INFO : PROGRESS: at sentence #7010000, processed 16223792 words, keeping 758811 word types\n",
      "2017-11-26 16:01:11,755 : INFO : PROGRESS: at sentence #7020000, processed 16245851 words, keeping 759515 word types\n",
      "2017-11-26 16:01:11,766 : INFO : PROGRESS: at sentence #7030000, processed 16268919 words, keeping 760172 word types\n",
      "2017-11-26 16:01:11,776 : INFO : PROGRESS: at sentence #7040000, processed 16290635 words, keeping 760575 word types\n",
      "2017-11-26 16:01:11,786 : INFO : PROGRESS: at sentence #7050000, processed 16310616 words, keeping 761053 word types\n",
      "2017-11-26 16:01:11,796 : INFO : PROGRESS: at sentence #7060000, processed 16332409 words, keeping 761770 word types\n",
      "2017-11-26 16:01:11,808 : INFO : PROGRESS: at sentence #7070000, processed 16355398 words, keeping 762304 word types\n",
      "2017-11-26 16:01:11,818 : INFO : PROGRESS: at sentence #7080000, processed 16378372 words, keeping 762997 word types\n",
      "2017-11-26 16:01:11,831 : INFO : PROGRESS: at sentence #7090000, processed 16400450 words, keeping 763602 word types\n",
      "2017-11-26 16:01:11,841 : INFO : PROGRESS: at sentence #7100000, processed 16423054 words, keeping 764106 word types\n",
      "2017-11-26 16:01:11,852 : INFO : PROGRESS: at sentence #7110000, processed 16446520 words, keeping 764693 word types\n",
      "2017-11-26 16:01:11,864 : INFO : PROGRESS: at sentence #7120000, processed 16469354 words, keeping 765177 word types\n",
      "2017-11-26 16:01:11,875 : INFO : PROGRESS: at sentence #7130000, processed 16491570 words, keeping 765667 word types\n",
      "2017-11-26 16:01:11,890 : INFO : PROGRESS: at sentence #7140000, processed 16514256 words, keeping 766356 word types\n",
      "2017-11-26 16:01:11,900 : INFO : PROGRESS: at sentence #7150000, processed 16538876 words, keeping 766874 word types\n",
      "2017-11-26 16:01:11,911 : INFO : PROGRESS: at sentence #7160000, processed 16561213 words, keeping 767571 word types\n",
      "2017-11-26 16:01:11,920 : INFO : PROGRESS: at sentence #7170000, processed 16582184 words, keeping 768597 word types\n",
      "2017-11-26 16:01:11,933 : INFO : PROGRESS: at sentence #7180000, processed 16601312 words, keeping 769446 word types\n",
      "2017-11-26 16:01:11,944 : INFO : PROGRESS: at sentence #7190000, processed 16625141 words, keeping 770271 word types\n",
      "2017-11-26 16:01:11,954 : INFO : PROGRESS: at sentence #7200000, processed 16649434 words, keeping 770847 word types\n",
      "2017-11-26 16:01:11,967 : INFO : PROGRESS: at sentence #7210000, processed 16673091 words, keeping 771548 word types\n",
      "2017-11-26 16:01:11,977 : INFO : PROGRESS: at sentence #7220000, processed 16697246 words, keeping 772053 word types\n",
      "2017-11-26 16:01:11,989 : INFO : PROGRESS: at sentence #7230000, processed 16720501 words, keeping 772510 word types\n",
      "2017-11-26 16:01:11,999 : INFO : PROGRESS: at sentence #7240000, processed 16744129 words, keeping 773139 word types\n",
      "2017-11-26 16:01:12,013 : INFO : PROGRESS: at sentence #7250000, processed 16767201 words, keeping 773915 word types\n",
      "2017-11-26 16:01:12,023 : INFO : PROGRESS: at sentence #7260000, processed 16789509 words, keeping 774474 word types\n",
      "2017-11-26 16:01:12,035 : INFO : PROGRESS: at sentence #7270000, processed 16811196 words, keeping 774944 word types\n",
      "2017-11-26 16:01:12,046 : INFO : PROGRESS: at sentence #7280000, processed 16833948 words, keeping 775378 word types\n",
      "2017-11-26 16:01:12,058 : INFO : PROGRESS: at sentence #7290000, processed 16855666 words, keeping 776013 word types\n"
     ]
    },
    {
     "name": "stderr",
     "output_type": "stream",
     "text": [
      "2017-11-26 16:01:12,069 : INFO : PROGRESS: at sentence #7300000, processed 16879436 words, keeping 776677 word types\n",
      "2017-11-26 16:01:12,081 : INFO : PROGRESS: at sentence #7310000, processed 16901933 words, keeping 777409 word types\n",
      "2017-11-26 16:01:12,092 : INFO : PROGRESS: at sentence #7320000, processed 16924195 words, keeping 777914 word types\n",
      "2017-11-26 16:01:12,101 : INFO : PROGRESS: at sentence #7330000, processed 16947443 words, keeping 778483 word types\n",
      "2017-11-26 16:01:12,115 : INFO : PROGRESS: at sentence #7340000, processed 16972194 words, keeping 778972 word types\n",
      "2017-11-26 16:01:12,128 : INFO : PROGRESS: at sentence #7350000, processed 16995087 words, keeping 779439 word types\n",
      "2017-11-26 16:01:12,141 : INFO : PROGRESS: at sentence #7360000, processed 17016364 words, keeping 779995 word types\n",
      "2017-11-26 16:01:12,153 : INFO : PROGRESS: at sentence #7370000, processed 17039561 words, keeping 780730 word types\n",
      "2017-11-26 16:01:12,165 : INFO : PROGRESS: at sentence #7380000, processed 17063240 words, keeping 781422 word types\n",
      "2017-11-26 16:01:12,176 : INFO : PROGRESS: at sentence #7390000, processed 17086457 words, keeping 781936 word types\n",
      "2017-11-26 16:01:12,187 : INFO : PROGRESS: at sentence #7400000, processed 17110071 words, keeping 782410 word types\n",
      "2017-11-26 16:01:12,200 : INFO : PROGRESS: at sentence #7410000, processed 17131269 words, keeping 782894 word types\n",
      "2017-11-26 16:01:12,211 : INFO : PROGRESS: at sentence #7420000, processed 17153779 words, keeping 783561 word types\n",
      "2017-11-26 16:01:12,223 : INFO : PROGRESS: at sentence #7430000, processed 17177582 words, keeping 784033 word types\n",
      "2017-11-26 16:01:12,234 : INFO : PROGRESS: at sentence #7440000, processed 17201074 words, keeping 784765 word types\n",
      "2017-11-26 16:01:12,246 : INFO : PROGRESS: at sentence #7450000, processed 17224758 words, keeping 785327 word types\n",
      "2017-11-26 16:01:12,256 : INFO : PROGRESS: at sentence #7460000, processed 17247175 words, keeping 785945 word types\n",
      "2017-11-26 16:01:12,269 : INFO : PROGRESS: at sentence #7470000, processed 17268230 words, keeping 786564 word types\n",
      "2017-11-26 16:01:12,279 : INFO : PROGRESS: at sentence #7480000, processed 17291120 words, keeping 787174 word types\n",
      "2017-11-26 16:01:12,292 : INFO : PROGRESS: at sentence #7490000, processed 17314535 words, keeping 787577 word types\n",
      "2017-11-26 16:01:12,302 : INFO : PROGRESS: at sentence #7500000, processed 17336635 words, keeping 788279 word types\n",
      "2017-11-26 16:01:12,312 : INFO : PROGRESS: at sentence #7510000, processed 17359428 words, keeping 788866 word types\n",
      "2017-11-26 16:01:12,325 : INFO : PROGRESS: at sentence #7520000, processed 17383633 words, keeping 789496 word types\n",
      "2017-11-26 16:01:12,335 : INFO : PROGRESS: at sentence #7530000, processed 17406274 words, keeping 790176 word types\n",
      "2017-11-26 16:01:12,346 : INFO : PROGRESS: at sentence #7540000, processed 17429119 words, keeping 790771 word types\n",
      "2017-11-26 16:01:12,359 : INFO : PROGRESS: at sentence #7550000, processed 17451488 words, keeping 791407 word types\n",
      "2017-11-26 16:01:12,371 : INFO : PROGRESS: at sentence #7560000, processed 17473199 words, keeping 792242 word types\n",
      "2017-11-26 16:01:12,381 : INFO : PROGRESS: at sentence #7570000, processed 17496517 words, keeping 792860 word types\n",
      "2017-11-26 16:01:12,395 : INFO : PROGRESS: at sentence #7580000, processed 17520666 words, keeping 793373 word types\n",
      "2017-11-26 16:01:12,407 : INFO : PROGRESS: at sentence #7590000, processed 17543008 words, keeping 794095 word types\n",
      "2017-11-26 16:01:12,417 : INFO : PROGRESS: at sentence #7600000, processed 17565146 words, keeping 794645 word types\n",
      "2017-11-26 16:01:12,428 : INFO : PROGRESS: at sentence #7610000, processed 17585658 words, keeping 795156 word types\n",
      "2017-11-26 16:01:12,440 : INFO : PROGRESS: at sentence #7620000, processed 17608985 words, keeping 795708 word types\n",
      "2017-11-26 16:01:12,453 : INFO : PROGRESS: at sentence #7630000, processed 17632451 words, keeping 796217 word types\n",
      "2017-11-26 16:01:12,464 : INFO : PROGRESS: at sentence #7640000, processed 17654606 words, keeping 796893 word types\n",
      "2017-11-26 16:01:12,476 : INFO : PROGRESS: at sentence #7650000, processed 17677536 words, keeping 797630 word types\n",
      "2017-11-26 16:01:12,490 : INFO : PROGRESS: at sentence #7660000, processed 17700273 words, keeping 798306 word types\n",
      "2017-11-26 16:01:12,503 : INFO : PROGRESS: at sentence #7670000, processed 17722022 words, keeping 799103 word types\n",
      "2017-11-26 16:01:12,515 : INFO : PROGRESS: at sentence #7680000, processed 17744218 words, keeping 799673 word types\n",
      "2017-11-26 16:01:12,526 : INFO : PROGRESS: at sentence #7690000, processed 17766687 words, keeping 800163 word types\n",
      "2017-11-26 16:01:12,538 : INFO : PROGRESS: at sentence #7700000, processed 17788337 words, keeping 800779 word types\n",
      "2017-11-26 16:01:12,556 : INFO : PROGRESS: at sentence #7710000, processed 17810726 words, keeping 801605 word types\n",
      "2017-11-26 16:01:12,569 : INFO : PROGRESS: at sentence #7720000, processed 17830340 words, keeping 802373 word types\n",
      "2017-11-26 16:01:12,585 : INFO : PROGRESS: at sentence #7730000, processed 17854411 words, keeping 803005 word types\n",
      "2017-11-26 16:01:12,596 : INFO : PROGRESS: at sentence #7740000, processed 17877466 words, keeping 803641 word types\n",
      "2017-11-26 16:01:12,609 : INFO : PROGRESS: at sentence #7750000, processed 17900375 words, keeping 804194 word types\n",
      "2017-11-26 16:01:12,621 : INFO : PROGRESS: at sentence #7760000, processed 17924339 words, keeping 804570 word types\n",
      "2017-11-26 16:01:12,631 : INFO : PROGRESS: at sentence #7770000, processed 17946575 words, keeping 805167 word types\n",
      "2017-11-26 16:01:12,644 : INFO : PROGRESS: at sentence #7780000, processed 17966177 words, keeping 805802 word types\n",
      "2017-11-26 16:01:12,657 : INFO : PROGRESS: at sentence #7790000, processed 17990020 words, keeping 806373 word types\n",
      "2017-11-26 16:01:12,665 : INFO : PROGRESS: at sentence #7800000, processed 18012691 words, keeping 806685 word types\n",
      "2017-11-26 16:01:12,680 : INFO : PROGRESS: at sentence #7810000, processed 18037418 words, keeping 807197 word types\n",
      "2017-11-26 16:01:12,691 : INFO : PROGRESS: at sentence #7820000, processed 18060739 words, keeping 807792 word types\n",
      "2017-11-26 16:01:12,703 : INFO : PROGRESS: at sentence #7830000, processed 18083812 words, keeping 808321 word types\n",
      "2017-11-26 16:01:12,713 : INFO : PROGRESS: at sentence #7840000, processed 18107005 words, keeping 808673 word types\n",
      "2017-11-26 16:01:12,724 : INFO : PROGRESS: at sentence #7850000, processed 18128019 words, keeping 809350 word types\n",
      "2017-11-26 16:01:12,736 : INFO : PROGRESS: at sentence #7860000, processed 18150773 words, keeping 809840 word types\n",
      "2017-11-26 16:01:12,746 : INFO : PROGRESS: at sentence #7870000, processed 18173340 words, keeping 810188 word types\n",
      "2017-11-26 16:01:12,759 : INFO : PROGRESS: at sentence #7880000, processed 18198578 words, keeping 810796 word types\n",
      "2017-11-26 16:01:12,767 : INFO : PROGRESS: at sentence #7890000, processed 18221745 words, keeping 811238 word types\n",
      "2017-11-26 16:01:12,779 : INFO : PROGRESS: at sentence #7900000, processed 18240756 words, keeping 812201 word types\n",
      "2017-11-26 16:01:12,790 : INFO : PROGRESS: at sentence #7910000, processed 18263808 words, keeping 812598 word types\n",
      "2017-11-26 16:01:12,802 : INFO : PROGRESS: at sentence #7920000, processed 18286930 words, keeping 813100 word types\n",
      "2017-11-26 16:01:12,815 : INFO : PROGRESS: at sentence #7930000, processed 18310564 words, keeping 813696 word types\n",
      "2017-11-26 16:01:12,825 : INFO : PROGRESS: at sentence #7940000, processed 18334115 words, keeping 814425 word types\n",
      "2017-11-26 16:01:12,836 : INFO : PROGRESS: at sentence #7950000, processed 18356449 words, keeping 814874 word types\n",
      "2017-11-26 16:01:12,846 : INFO : PROGRESS: at sentence #7960000, processed 18378682 words, keeping 815535 word types\n",
      "2017-11-26 16:01:12,858 : INFO : PROGRESS: at sentence #7970000, processed 18400750 words, keeping 816056 word types\n",
      "2017-11-26 16:01:12,868 : INFO : PROGRESS: at sentence #7980000, processed 18423333 words, keeping 816889 word types\n",
      "2017-11-26 16:01:12,881 : INFO : PROGRESS: at sentence #7990000, processed 18450459 words, keeping 817274 word types\n",
      "2017-11-26 16:01:12,894 : INFO : PROGRESS: at sentence #8000000, processed 18473422 words, keeping 817885 word types\n"
     ]
    },
    {
     "name": "stderr",
     "output_type": "stream",
     "text": [
      "2017-11-26 16:01:12,904 : INFO : PROGRESS: at sentence #8010000, processed 18494245 words, keeping 818760 word types\n",
      "2017-11-26 16:01:12,917 : INFO : PROGRESS: at sentence #8020000, processed 18518676 words, keeping 819476 word types\n",
      "2017-11-26 16:01:12,927 : INFO : PROGRESS: at sentence #8030000, processed 18542455 words, keeping 819923 word types\n",
      "2017-11-26 16:01:12,940 : INFO : PROGRESS: at sentence #8040000, processed 18564918 words, keeping 820310 word types\n",
      "2017-11-26 16:01:12,951 : INFO : PROGRESS: at sentence #8050000, processed 18587374 words, keeping 820718 word types\n",
      "2017-11-26 16:01:12,964 : INFO : PROGRESS: at sentence #8060000, processed 18611013 words, keeping 821191 word types\n",
      "2017-11-26 16:01:12,977 : INFO : PROGRESS: at sentence #8070000, processed 18634786 words, keeping 821652 word types\n",
      "2017-11-26 16:01:12,989 : INFO : PROGRESS: at sentence #8080000, processed 18658922 words, keeping 821968 word types\n",
      "2017-11-26 16:01:12,999 : INFO : PROGRESS: at sentence #8090000, processed 18681719 words, keeping 822385 word types\n",
      "2017-11-26 16:01:13,010 : INFO : PROGRESS: at sentence #8100000, processed 18703843 words, keeping 823039 word types\n",
      "2017-11-26 16:01:13,023 : INFO : PROGRESS: at sentence #8110000, processed 18726035 words, keeping 823500 word types\n",
      "2017-11-26 16:01:13,036 : INFO : PROGRESS: at sentence #8120000, processed 18750732 words, keeping 824004 word types\n",
      "2017-11-26 16:01:13,049 : INFO : PROGRESS: at sentence #8130000, processed 18774698 words, keeping 824622 word types\n",
      "2017-11-26 16:01:13,061 : INFO : PROGRESS: at sentence #8140000, processed 18799109 words, keeping 825142 word types\n",
      "2017-11-26 16:01:13,072 : INFO : PROGRESS: at sentence #8150000, processed 18820579 words, keeping 825697 word types\n",
      "2017-11-26 16:01:13,084 : INFO : PROGRESS: at sentence #8160000, processed 18843567 words, keeping 826425 word types\n",
      "2017-11-26 16:01:13,095 : INFO : PROGRESS: at sentence #8170000, processed 18867741 words, keeping 827134 word types\n",
      "2017-11-26 16:01:13,105 : INFO : PROGRESS: at sentence #8180000, processed 18889445 words, keeping 827800 word types\n",
      "2017-11-26 16:01:13,118 : INFO : PROGRESS: at sentence #8190000, processed 18910473 words, keeping 828451 word types\n",
      "2017-11-26 16:01:13,130 : INFO : PROGRESS: at sentence #8200000, processed 18930399 words, keeping 828962 word types\n",
      "2017-11-26 16:01:13,141 : INFO : PROGRESS: at sentence #8210000, processed 18953335 words, keeping 829516 word types\n",
      "2017-11-26 16:01:13,153 : INFO : PROGRESS: at sentence #8220000, processed 18975028 words, keeping 830170 word types\n",
      "2017-11-26 16:01:13,164 : INFO : PROGRESS: at sentence #8230000, processed 18998788 words, keeping 830706 word types\n",
      "2017-11-26 16:01:13,177 : INFO : PROGRESS: at sentence #8240000, processed 19022738 words, keeping 831393 word types\n",
      "2017-11-26 16:01:13,187 : INFO : PROGRESS: at sentence #8250000, processed 19043403 words, keeping 832374 word types\n",
      "2017-11-26 16:01:13,200 : INFO : PROGRESS: at sentence #8260000, processed 19064545 words, keeping 833196 word types\n",
      "2017-11-26 16:01:13,210 : INFO : PROGRESS: at sentence #8270000, processed 19086502 words, keeping 833889 word types\n",
      "2017-11-26 16:01:13,220 : INFO : PROGRESS: at sentence #8280000, processed 19107657 words, keeping 834202 word types\n",
      "2017-11-26 16:01:13,233 : INFO : PROGRESS: at sentence #8290000, processed 19129426 words, keeping 834826 word types\n",
      "2017-11-26 16:01:13,246 : INFO : PROGRESS: at sentence #8300000, processed 19151606 words, keeping 835368 word types\n",
      "2017-11-26 16:01:13,256 : INFO : PROGRESS: at sentence #8310000, processed 19169877 words, keeping 836321 word types\n",
      "2017-11-26 16:01:13,267 : INFO : PROGRESS: at sentence #8320000, processed 19192962 words, keeping 837002 word types\n",
      "2017-11-26 16:01:13,279 : INFO : PROGRESS: at sentence #8330000, processed 19215475 words, keeping 837703 word types\n",
      "2017-11-26 16:01:13,292 : INFO : PROGRESS: at sentence #8340000, processed 19239443 words, keeping 838118 word types\n",
      "2017-11-26 16:01:13,303 : INFO : PROGRESS: at sentence #8350000, processed 19262373 words, keeping 838666 word types\n",
      "2017-11-26 16:01:13,316 : INFO : PROGRESS: at sentence #8360000, processed 19285862 words, keeping 839408 word types\n",
      "2017-11-26 16:01:13,329 : INFO : PROGRESS: at sentence #8370000, processed 19306845 words, keeping 840108 word types\n",
      "2017-11-26 16:01:13,339 : INFO : PROGRESS: at sentence #8380000, processed 19329092 words, keeping 840603 word types\n",
      "2017-11-26 16:01:13,351 : INFO : PROGRESS: at sentence #8390000, processed 19352923 words, keeping 841168 word types\n",
      "2017-11-26 16:01:13,364 : INFO : PROGRESS: at sentence #8400000, processed 19375736 words, keeping 841706 word types\n",
      "2017-11-26 16:01:13,375 : INFO : PROGRESS: at sentence #8410000, processed 19398843 words, keeping 842210 word types\n",
      "2017-11-26 16:01:13,388 : INFO : PROGRESS: at sentence #8420000, processed 19421170 words, keeping 842747 word types\n",
      "2017-11-26 16:01:13,400 : INFO : PROGRESS: at sentence #8430000, processed 19445347 words, keeping 843173 word types\n",
      "2017-11-26 16:01:13,413 : INFO : PROGRESS: at sentence #8440000, processed 19468168 words, keeping 843714 word types\n",
      "2017-11-26 16:01:13,424 : INFO : PROGRESS: at sentence #8450000, processed 19491670 words, keeping 844302 word types\n",
      "2017-11-26 16:01:13,434 : INFO : PROGRESS: at sentence #8460000, processed 19514575 words, keeping 845004 word types\n",
      "2017-11-26 16:01:13,447 : INFO : PROGRESS: at sentence #8470000, processed 19539162 words, keeping 845680 word types\n",
      "2017-11-26 16:01:13,460 : INFO : PROGRESS: at sentence #8480000, processed 19562957 words, keeping 846539 word types\n",
      "2017-11-26 16:01:13,471 : INFO : PROGRESS: at sentence #8490000, processed 19586136 words, keeping 847167 word types\n",
      "2017-11-26 16:01:13,483 : INFO : PROGRESS: at sentence #8500000, processed 19608416 words, keeping 847934 word types\n",
      "2017-11-26 16:01:13,494 : INFO : PROGRESS: at sentence #8510000, processed 19632383 words, keeping 848403 word types\n",
      "2017-11-26 16:01:13,505 : INFO : PROGRESS: at sentence #8520000, processed 19654219 words, keeping 849234 word types\n",
      "2017-11-26 16:01:13,513 : INFO : PROGRESS: at sentence #8530000, processed 19675156 words, keeping 849831 word types\n",
      "2017-11-26 16:01:13,523 : INFO : PROGRESS: at sentence #8540000, processed 19695673 words, keeping 850261 word types\n",
      "2017-11-26 16:01:13,536 : INFO : PROGRESS: at sentence #8550000, processed 19720258 words, keeping 850943 word types\n",
      "2017-11-26 16:01:13,546 : INFO : PROGRESS: at sentence #8560000, processed 19742997 words, keeping 851638 word types\n",
      "2017-11-26 16:01:13,556 : INFO : PROGRESS: at sentence #8570000, processed 19764959 words, keeping 852071 word types\n",
      "2017-11-26 16:01:13,568 : INFO : PROGRESS: at sentence #8580000, processed 19787491 words, keeping 852526 word types\n",
      "2017-11-26 16:01:13,578 : INFO : PROGRESS: at sentence #8590000, processed 19810600 words, keeping 852860 word types\n",
      "2017-11-26 16:01:13,589 : INFO : PROGRESS: at sentence #8600000, processed 19833781 words, keeping 853472 word types\n",
      "2017-11-26 16:01:13,598 : INFO : PROGRESS: at sentence #8610000, processed 19856207 words, keeping 854103 word types\n",
      "2017-11-26 16:01:13,611 : INFO : PROGRESS: at sentence #8620000, processed 19879276 words, keeping 854606 word types\n",
      "2017-11-26 16:01:13,621 : INFO : PROGRESS: at sentence #8630000, processed 19901661 words, keeping 855190 word types\n",
      "2017-11-26 16:01:13,635 : INFO : PROGRESS: at sentence #8640000, processed 19925672 words, keeping 855864 word types\n",
      "2017-11-26 16:01:13,648 : INFO : PROGRESS: at sentence #8650000, processed 19950174 words, keeping 856575 word types\n",
      "2017-11-26 16:01:13,658 : INFO : PROGRESS: at sentence #8660000, processed 19971512 words, keeping 857063 word types\n",
      "2017-11-26 16:01:13,667 : INFO : PROGRESS: at sentence #8670000, processed 19989249 words, keeping 857650 word types\n",
      "2017-11-26 16:01:13,680 : INFO : PROGRESS: at sentence #8680000, processed 20011385 words, keeping 858494 word types\n",
      "2017-11-26 16:01:13,690 : INFO : PROGRESS: at sentence #8690000, processed 20031463 words, keeping 858864 word types\n",
      "2017-11-26 16:01:13,703 : INFO : PROGRESS: at sentence #8700000, processed 20055050 words, keeping 859429 word types\n",
      "2017-11-26 16:01:13,717 : INFO : PROGRESS: at sentence #8710000, processed 20078700 words, keeping 860046 word types\n"
     ]
    },
    {
     "name": "stderr",
     "output_type": "stream",
     "text": [
      "2017-11-26 16:01:13,730 : INFO : PROGRESS: at sentence #8720000, processed 20099875 words, keeping 860830 word types\n",
      "2017-11-26 16:01:13,743 : INFO : PROGRESS: at sentence #8730000, processed 20124991 words, keeping 861319 word types\n",
      "2017-11-26 16:01:13,753 : INFO : PROGRESS: at sentence #8740000, processed 20146972 words, keeping 861855 word types\n",
      "2017-11-26 16:01:13,763 : INFO : PROGRESS: at sentence #8750000, processed 20169076 words, keeping 862424 word types\n",
      "2017-11-26 16:01:13,776 : INFO : PROGRESS: at sentence #8760000, processed 20192510 words, keeping 862996 word types\n",
      "2017-11-26 16:01:13,788 : INFO : PROGRESS: at sentence #8770000, processed 20213814 words, keeping 863642 word types\n",
      "2017-11-26 16:01:13,799 : INFO : PROGRESS: at sentence #8780000, processed 20236558 words, keeping 864254 word types\n",
      "2017-11-26 16:01:13,812 : INFO : PROGRESS: at sentence #8790000, processed 20260216 words, keeping 865299 word types\n",
      "2017-11-26 16:01:13,826 : INFO : PROGRESS: at sentence #8800000, processed 20283019 words, keeping 866127 word types\n",
      "2017-11-26 16:01:13,836 : INFO : PROGRESS: at sentence #8810000, processed 20304557 words, keeping 866685 word types\n",
      "2017-11-26 16:01:13,851 : INFO : PROGRESS: at sentence #8820000, processed 20326725 words, keeping 867309 word types\n",
      "2017-11-26 16:01:13,865 : INFO : PROGRESS: at sentence #8830000, processed 20352347 words, keeping 867894 word types\n",
      "2017-11-26 16:01:13,877 : INFO : PROGRESS: at sentence #8840000, processed 20376145 words, keeping 868533 word types\n",
      "2017-11-26 16:01:13,887 : INFO : PROGRESS: at sentence #8850000, processed 20398110 words, keeping 869045 word types\n",
      "2017-11-26 16:01:13,898 : INFO : PROGRESS: at sentence #8860000, processed 20418301 words, keeping 869911 word types\n",
      "2017-11-26 16:01:13,911 : INFO : PROGRESS: at sentence #8870000, processed 20441710 words, keeping 870490 word types\n",
      "2017-11-26 16:01:13,923 : INFO : PROGRESS: at sentence #8880000, processed 20463383 words, keeping 871330 word types\n",
      "2017-11-26 16:01:13,930 : INFO : PROGRESS: at sentence #8890000, processed 20482547 words, keeping 871590 word types\n",
      "2017-11-26 16:01:13,941 : INFO : PROGRESS: at sentence #8900000, processed 20503978 words, keeping 872229 word types\n",
      "2017-11-26 16:01:13,953 : INFO : PROGRESS: at sentence #8910000, processed 20525335 words, keeping 872876 word types\n",
      "2017-11-26 16:01:13,967 : INFO : PROGRESS: at sentence #8920000, processed 20548924 words, keeping 873544 word types\n",
      "2017-11-26 16:01:13,980 : INFO : PROGRESS: at sentence #8930000, processed 20572268 words, keeping 874328 word types\n",
      "2017-11-26 16:01:13,990 : INFO : PROGRESS: at sentence #8940000, processed 20594634 words, keeping 875051 word types\n",
      "2017-11-26 16:01:14,003 : INFO : PROGRESS: at sentence #8950000, processed 20617883 words, keeping 875646 word types\n",
      "2017-11-26 16:01:14,015 : INFO : PROGRESS: at sentence #8960000, processed 20640809 words, keeping 876332 word types\n",
      "2017-11-26 16:01:14,026 : INFO : PROGRESS: at sentence #8970000, processed 20665501 words, keeping 876908 word types\n",
      "2017-11-26 16:01:14,039 : INFO : PROGRESS: at sentence #8980000, processed 20689774 words, keeping 877494 word types\n",
      "2017-11-26 16:01:14,049 : INFO : PROGRESS: at sentence #8990000, processed 20713330 words, keeping 877949 word types\n",
      "2017-11-26 16:01:14,062 : INFO : PROGRESS: at sentence #9000000, processed 20736393 words, keeping 878404 word types\n",
      "2017-11-26 16:01:14,072 : INFO : PROGRESS: at sentence #9010000, processed 20758011 words, keeping 878960 word types\n",
      "2017-11-26 16:01:14,084 : INFO : PROGRESS: at sentence #9020000, processed 20781598 words, keeping 879543 word types\n",
      "2017-11-26 16:01:14,096 : INFO : PROGRESS: at sentence #9030000, processed 20805054 words, keeping 880008 word types\n",
      "2017-11-26 16:01:14,107 : INFO : PROGRESS: at sentence #9040000, processed 20825932 words, keeping 880846 word types\n",
      "2017-11-26 16:01:14,119 : INFO : PROGRESS: at sentence #9050000, processed 20845956 words, keeping 881669 word types\n",
      "2017-11-26 16:01:14,131 : INFO : PROGRESS: at sentence #9060000, processed 20870348 words, keeping 882326 word types\n",
      "2017-11-26 16:01:14,141 : INFO : PROGRESS: at sentence #9070000, processed 20891991 words, keeping 883114 word types\n",
      "2017-11-26 16:01:14,154 : INFO : PROGRESS: at sentence #9080000, processed 20914863 words, keeping 883744 word types\n",
      "2017-11-26 16:01:14,164 : INFO : PROGRESS: at sentence #9090000, processed 20937036 words, keeping 884306 word types\n",
      "2017-11-26 16:01:14,174 : INFO : PROGRESS: at sentence #9100000, processed 20958128 words, keeping 885095 word types\n",
      "2017-11-26 16:01:14,187 : INFO : PROGRESS: at sentence #9110000, processed 20977967 words, keeping 886161 word types\n",
      "2017-11-26 16:01:14,196 : INFO : PROGRESS: at sentence #9120000, processed 21000321 words, keeping 886774 word types\n",
      "2017-11-26 16:01:14,209 : INFO : PROGRESS: at sentence #9130000, processed 21022580 words, keeping 887392 word types\n",
      "2017-11-26 16:01:14,219 : INFO : PROGRESS: at sentence #9140000, processed 21044556 words, keeping 888090 word types\n",
      "2017-11-26 16:01:14,232 : INFO : PROGRESS: at sentence #9150000, processed 21066818 words, keeping 888655 word types\n",
      "2017-11-26 16:01:14,243 : INFO : PROGRESS: at sentence #9160000, processed 21090830 words, keeping 889184 word types\n",
      "2017-11-26 16:01:14,253 : INFO : PROGRESS: at sentence #9170000, processed 21112473 words, keeping 889730 word types\n",
      "2017-11-26 16:01:14,263 : INFO : PROGRESS: at sentence #9180000, processed 21134963 words, keeping 890319 word types\n",
      "2017-11-26 16:01:14,275 : INFO : PROGRESS: at sentence #9190000, processed 21156973 words, keeping 890842 word types\n",
      "2017-11-26 16:01:14,286 : INFO : PROGRESS: at sentence #9200000, processed 21178905 words, keeping 891332 word types\n",
      "2017-11-26 16:01:14,296 : INFO : PROGRESS: at sentence #9210000, processed 21198937 words, keeping 891880 word types\n",
      "2017-11-26 16:01:14,308 : INFO : PROGRESS: at sentence #9220000, processed 21218630 words, keeping 892267 word types\n",
      "2017-11-26 16:01:14,315 : INFO : PROGRESS: at sentence #9230000, processed 21241038 words, keeping 892685 word types\n",
      "2017-11-26 16:01:14,328 : INFO : PROGRESS: at sentence #9240000, processed 21262267 words, keeping 893373 word types\n",
      "2017-11-26 16:01:14,345 : INFO : PROGRESS: at sentence #9250000, processed 21284959 words, keeping 893949 word types\n",
      "2017-11-26 16:01:14,355 : INFO : PROGRESS: at sentence #9260000, processed 21307449 words, keeping 894299 word types\n",
      "2017-11-26 16:01:14,365 : INFO : PROGRESS: at sentence #9270000, processed 21329095 words, keeping 894772 word types\n",
      "2017-11-26 16:01:14,378 : INFO : PROGRESS: at sentence #9280000, processed 21353066 words, keeping 895232 word types\n",
      "2017-11-26 16:01:14,388 : INFO : PROGRESS: at sentence #9290000, processed 21377154 words, keeping 895668 word types\n",
      "2017-11-26 16:01:14,398 : INFO : PROGRESS: at sentence #9300000, processed 21398546 words, keeping 897185 word types\n",
      "2017-11-26 16:01:14,410 : INFO : PROGRESS: at sentence #9310000, processed 21421795 words, keeping 898099 word types\n",
      "2017-11-26 16:01:14,421 : INFO : PROGRESS: at sentence #9320000, processed 21444787 words, keeping 898572 word types\n",
      "2017-11-26 16:01:14,434 : INFO : PROGRESS: at sentence #9330000, processed 21466057 words, keeping 899132 word types\n",
      "2017-11-26 16:01:14,444 : INFO : PROGRESS: at sentence #9340000, processed 21486618 words, keeping 899833 word types\n",
      "2017-11-26 16:01:14,457 : INFO : PROGRESS: at sentence #9350000, processed 21508459 words, keeping 900506 word types\n",
      "2017-11-26 16:01:14,467 : INFO : PROGRESS: at sentence #9360000, processed 21530876 words, keeping 901033 word types\n",
      "2017-11-26 16:01:14,480 : INFO : PROGRESS: at sentence #9370000, processed 21554086 words, keeping 901581 word types\n",
      "2017-11-26 16:01:14,490 : INFO : PROGRESS: at sentence #9380000, processed 21575871 words, keeping 902357 word types\n",
      "2017-11-26 16:01:14,503 : INFO : PROGRESS: at sentence #9390000, processed 21599252 words, keeping 903159 word types\n",
      "2017-11-26 16:01:14,515 : INFO : PROGRESS: at sentence #9400000, processed 21622292 words, keeping 903725 word types\n",
      "2017-11-26 16:01:14,526 : INFO : PROGRESS: at sentence #9410000, processed 21643707 words, keeping 904435 word types\n",
      "2017-11-26 16:01:14,538 : INFO : PROGRESS: at sentence #9420000, processed 21665742 words, keeping 904982 word types\n"
     ]
    },
    {
     "name": "stderr",
     "output_type": "stream",
     "text": [
      "2017-11-26 16:01:14,549 : INFO : PROGRESS: at sentence #9430000, processed 21687897 words, keeping 905490 word types\n",
      "2017-11-26 16:01:14,561 : INFO : PROGRESS: at sentence #9440000, processed 21710607 words, keeping 906143 word types\n",
      "2017-11-26 16:01:14,569 : INFO : PROGRESS: at sentence #9450000, processed 21734213 words, keeping 906829 word types\n",
      "2017-11-26 16:01:14,582 : INFO : PROGRESS: at sentence #9460000, processed 21755420 words, keeping 907581 word types\n",
      "2017-11-26 16:01:14,592 : INFO : PROGRESS: at sentence #9470000, processed 21779352 words, keeping 908040 word types\n",
      "2017-11-26 16:01:14,604 : INFO : PROGRESS: at sentence #9480000, processed 21800687 words, keeping 908537 word types\n",
      "2017-11-26 16:01:14,615 : INFO : PROGRESS: at sentence #9490000, processed 21822090 words, keeping 909093 word types\n",
      "2017-11-26 16:01:14,625 : INFO : PROGRESS: at sentence #9500000, processed 21842812 words, keeping 909827 word types\n",
      "2017-11-26 16:01:14,637 : INFO : PROGRESS: at sentence #9510000, processed 21864747 words, keeping 910592 word types\n",
      "2017-11-26 16:01:14,648 : INFO : PROGRESS: at sentence #9520000, processed 21887102 words, keeping 911086 word types\n",
      "2017-11-26 16:01:14,660 : INFO : PROGRESS: at sentence #9530000, processed 21908944 words, keeping 911705 word types\n",
      "2017-11-26 16:01:14,665 : INFO : collected 912218 word types from a corpus of 21922842 raw words and 9536429 sentences\n",
      "2017-11-26 16:01:14,667 : INFO : Loading a fresh vocabulary\n",
      "2017-11-26 16:01:15,354 : INFO : min_count=10 retains 141760 unique words (15% of original 912218, drops 770458)\n",
      "2017-11-26 16:01:15,355 : INFO : min_count=10 leaves 20335891 word corpus (92% of original 21922842, drops 1586951)\n",
      "2017-11-26 16:01:15,681 : INFO : deleting the raw counts dictionary of 912218 items\n",
      "2017-11-26 16:01:15,714 : INFO : sample=0.003 downsamples 0 most-common words\n",
      "2017-11-26 16:01:15,716 : INFO : downsampling leaves estimated 20335891 word corpus (100.0% of prior 20335891)\n",
      "2017-11-26 16:01:15,717 : INFO : estimated required memory for 141760 words and 300 dimensions: 411104000 bytes\n",
      "2017-11-26 16:01:16,165 : INFO : resetting layer weights\n",
      "2017-11-26 16:01:17,861 : INFO : training model with 4 workers on 141760 vocabulary and 300 features, using sg=0 hs=0 sample=0.003 negative=5 window=2\n",
      "2017-11-26 16:01:18,877 : INFO : PROGRESS: at 0.66% examples, 691855 words/s, in_qsize 0, out_qsize 0\n",
      "2017-11-26 16:01:19,895 : INFO : PROGRESS: at 1.34% examples, 695705 words/s, in_qsize 0, out_qsize 0\n",
      "2017-11-26 16:01:20,904 : INFO : PROGRESS: at 2.03% examples, 697166 words/s, in_qsize 0, out_qsize 0\n",
      "2017-11-26 16:01:21,915 : INFO : PROGRESS: at 2.69% examples, 695831 words/s, in_qsize 0, out_qsize 0\n",
      "2017-11-26 16:01:22,921 : INFO : PROGRESS: at 3.39% examples, 694298 words/s, in_qsize 0, out_qsize 0\n",
      "2017-11-26 16:01:23,927 : INFO : PROGRESS: at 4.06% examples, 695510 words/s, in_qsize 0, out_qsize 0\n",
      "2017-11-26 16:01:24,936 : INFO : PROGRESS: at 4.74% examples, 693449 words/s, in_qsize 0, out_qsize 0\n",
      "2017-11-26 16:01:25,944 : INFO : PROGRESS: at 5.43% examples, 695538 words/s, in_qsize 0, out_qsize 0\n",
      "2017-11-26 16:01:26,957 : INFO : PROGRESS: at 6.11% examples, 696091 words/s, in_qsize 0, out_qsize 0\n",
      "2017-11-26 16:01:27,964 : INFO : PROGRESS: at 6.78% examples, 695703 words/s, in_qsize 0, out_qsize 0\n",
      "2017-11-26 16:01:28,973 : INFO : PROGRESS: at 7.46% examples, 697229 words/s, in_qsize 0, out_qsize 0\n",
      "2017-11-26 16:01:29,977 : INFO : PROGRESS: at 8.15% examples, 697746 words/s, in_qsize 0, out_qsize 0\n",
      "2017-11-26 16:01:30,986 : INFO : PROGRESS: at 8.81% examples, 697178 words/s, in_qsize 0, out_qsize 0\n",
      "2017-11-26 16:01:31,986 : INFO : PROGRESS: at 9.50% examples, 696913 words/s, in_qsize 0, out_qsize 0\n",
      "2017-11-26 16:01:32,987 : INFO : PROGRESS: at 10.18% examples, 695817 words/s, in_qsize 0, out_qsize 0\n",
      "2017-11-26 16:01:33,997 : INFO : PROGRESS: at 10.88% examples, 695550 words/s, in_qsize 0, out_qsize 0\n",
      "2017-11-26 16:01:35,003 : INFO : PROGRESS: at 11.57% examples, 694966 words/s, in_qsize 0, out_qsize 0\n",
      "2017-11-26 16:01:36,006 : INFO : PROGRESS: at 12.26% examples, 694133 words/s, in_qsize 0, out_qsize 0\n",
      "2017-11-26 16:01:37,016 : INFO : PROGRESS: at 12.95% examples, 694183 words/s, in_qsize 0, out_qsize 0\n",
      "2017-11-26 16:01:38,032 : INFO : PROGRESS: at 13.64% examples, 694137 words/s, in_qsize 0, out_qsize 0\n",
      "2017-11-26 16:01:39,039 : INFO : PROGRESS: at 14.33% examples, 694355 words/s, in_qsize 0, out_qsize 0\n",
      "2017-11-26 16:01:40,042 : INFO : PROGRESS: at 15.04% examples, 694408 words/s, in_qsize 0, out_qsize 0\n",
      "2017-11-26 16:01:41,049 : INFO : PROGRESS: at 15.73% examples, 694354 words/s, in_qsize 0, out_qsize 0\n",
      "2017-11-26 16:01:42,053 : INFO : PROGRESS: at 16.42% examples, 693913 words/s, in_qsize 0, out_qsize 0\n",
      "2017-11-26 16:01:43,053 : INFO : PROGRESS: at 17.08% examples, 693423 words/s, in_qsize 0, out_qsize 0\n",
      "2017-11-26 16:01:44,063 : INFO : PROGRESS: at 17.77% examples, 692735 words/s, in_qsize 0, out_qsize 0\n",
      "2017-11-26 16:01:45,069 : INFO : PROGRESS: at 18.47% examples, 692633 words/s, in_qsize 0, out_qsize 0\n",
      "2017-11-26 16:01:46,072 : INFO : PROGRESS: at 19.17% examples, 692334 words/s, in_qsize 0, out_qsize 0\n",
      "2017-11-26 16:01:47,073 : INFO : PROGRESS: at 19.86% examples, 691672 words/s, in_qsize 0, out_qsize 0\n",
      "2017-11-26 16:01:48,082 : INFO : PROGRESS: at 20.52% examples, 691303 words/s, in_qsize 0, out_qsize 0\n",
      "2017-11-26 16:01:49,082 : INFO : PROGRESS: at 21.18% examples, 691422 words/s, in_qsize 0, out_qsize 0\n",
      "2017-11-26 16:01:50,084 : INFO : PROGRESS: at 21.85% examples, 691389 words/s, in_qsize 0, out_qsize 0\n",
      "2017-11-26 16:01:51,085 : INFO : PROGRESS: at 22.50% examples, 690963 words/s, in_qsize 0, out_qsize 0\n",
      "2017-11-26 16:01:52,091 : INFO : PROGRESS: at 23.18% examples, 690647 words/s, in_qsize 0, out_qsize 0\n",
      "2017-11-26 16:01:53,104 : INFO : PROGRESS: at 23.84% examples, 690325 words/s, in_qsize 0, out_qsize 0\n",
      "2017-11-26 16:01:54,107 : INFO : PROGRESS: at 24.52% examples, 690094 words/s, in_qsize 0, out_qsize 0\n",
      "2017-11-26 16:01:55,111 : INFO : PROGRESS: at 25.17% examples, 689728 words/s, in_qsize 0, out_qsize 0\n",
      "2017-11-26 16:01:56,115 : INFO : PROGRESS: at 25.83% examples, 689681 words/s, in_qsize 0, out_qsize 0\n",
      "2017-11-26 16:01:57,127 : INFO : PROGRESS: at 26.52% examples, 689686 words/s, in_qsize 0, out_qsize 0\n",
      "2017-11-26 16:01:58,135 : INFO : PROGRESS: at 27.18% examples, 689746 words/s, in_qsize 0, out_qsize 0\n",
      "2017-11-26 16:01:59,140 : INFO : PROGRESS: at 27.84% examples, 689681 words/s, in_qsize 0, out_qsize 0\n",
      "2017-11-26 16:02:00,150 : INFO : PROGRESS: at 28.49% examples, 689481 words/s, in_qsize 0, out_qsize 0\n",
      "2017-11-26 16:02:01,151 : INFO : PROGRESS: at 29.15% examples, 688913 words/s, in_qsize 0, out_qsize 0\n",
      "2017-11-26 16:02:02,157 : INFO : PROGRESS: at 29.82% examples, 688690 words/s, in_qsize 0, out_qsize 0\n",
      "2017-11-26 16:02:03,161 : INFO : PROGRESS: at 30.49% examples, 688030 words/s, in_qsize 0, out_qsize 0\n",
      "2017-11-26 16:02:04,168 : INFO : PROGRESS: at 31.17% examples, 687814 words/s, in_qsize 0, out_qsize 0\n",
      "2017-11-26 16:02:05,176 : INFO : PROGRESS: at 31.85% examples, 687498 words/s, in_qsize 0, out_qsize 0\n",
      "2017-11-26 16:02:06,187 : INFO : PROGRESS: at 32.52% examples, 686871 words/s, in_qsize 0, out_qsize 0\n",
      "2017-11-26 16:02:07,190 : INFO : PROGRESS: at 33.19% examples, 686809 words/s, in_qsize 0, out_qsize 0\n",
      "2017-11-26 16:02:08,190 : INFO : PROGRESS: at 33.86% examples, 686575 words/s, in_qsize 0, out_qsize 0\n",
      "2017-11-26 16:02:09,198 : INFO : PROGRESS: at 34.54% examples, 686444 words/s, in_qsize 0, out_qsize 0\n",
      "2017-11-26 16:02:10,203 : INFO : PROGRESS: at 35.21% examples, 686073 words/s, in_qsize 0, out_qsize 0\n",
      "2017-11-26 16:02:11,226 : INFO : PROGRESS: at 35.89% examples, 685820 words/s, in_qsize 0, out_qsize 0\n",
      "2017-11-26 16:02:12,237 : INFO : PROGRESS: at 36.57% examples, 685528 words/s, in_qsize 0, out_qsize 0\n",
      "2017-11-26 16:02:13,256 : INFO : PROGRESS: at 37.25% examples, 685359 words/s, in_qsize 0, out_qsize 0\n",
      "2017-11-26 16:02:14,260 : INFO : PROGRESS: at 37.92% examples, 685105 words/s, in_qsize 0, out_qsize 0\n",
      "2017-11-26 16:02:15,262 : INFO : PROGRESS: at 38.61% examples, 685045 words/s, in_qsize 0, out_qsize 0\n",
      "2017-11-26 16:02:16,275 : INFO : PROGRESS: at 39.30% examples, 684647 words/s, in_qsize 0, out_qsize 0\n"
     ]
    },
    {
     "name": "stderr",
     "output_type": "stream",
     "text": [
      "2017-11-26 16:02:17,282 : INFO : PROGRESS: at 39.99% examples, 684335 words/s, in_qsize 0, out_qsize 0\n",
      "2017-11-26 16:02:18,286 : INFO : PROGRESS: at 40.64% examples, 684407 words/s, in_qsize 0, out_qsize 0\n",
      "2017-11-26 16:02:19,296 : INFO : PROGRESS: at 41.30% examples, 684288 words/s, in_qsize 0, out_qsize 0\n",
      "2017-11-26 16:02:20,302 : INFO : PROGRESS: at 41.96% examples, 684305 words/s, in_qsize 0, out_qsize 0\n",
      "2017-11-26 16:02:21,315 : INFO : PROGRESS: at 42.61% examples, 683945 words/s, in_qsize 0, out_qsize 0\n",
      "2017-11-26 16:02:22,316 : INFO : PROGRESS: at 43.27% examples, 683614 words/s, in_qsize 0, out_qsize 0\n",
      "2017-11-26 16:02:23,326 : INFO : PROGRESS: at 43.92% examples, 683477 words/s, in_qsize 0, out_qsize 0\n",
      "2017-11-26 16:02:24,335 : INFO : PROGRESS: at 44.59% examples, 683402 words/s, in_qsize 0, out_qsize 0\n",
      "2017-11-26 16:02:25,338 : INFO : PROGRESS: at 45.26% examples, 683440 words/s, in_qsize 0, out_qsize 0\n",
      "2017-11-26 16:02:26,351 : INFO : PROGRESS: at 45.92% examples, 683414 words/s, in_qsize 0, out_qsize 0\n",
      "2017-11-26 16:02:27,365 : INFO : PROGRESS: at 46.59% examples, 683345 words/s, in_qsize 0, out_qsize 0\n",
      "2017-11-26 16:02:28,368 : INFO : PROGRESS: at 47.24% examples, 683294 words/s, in_qsize 0, out_qsize 0\n",
      "2017-11-26 16:02:29,384 : INFO : PROGRESS: at 47.89% examples, 683081 words/s, in_qsize 0, out_qsize 0\n",
      "2017-11-26 16:02:30,391 : INFO : PROGRESS: at 48.54% examples, 683052 words/s, in_qsize 0, out_qsize 0\n",
      "2017-11-26 16:02:31,392 : INFO : PROGRESS: at 49.20% examples, 682833 words/s, in_qsize 0, out_qsize 0\n",
      "2017-11-26 16:02:32,407 : INFO : PROGRESS: at 49.85% examples, 682454 words/s, in_qsize 0, out_qsize 0\n",
      "2017-11-26 16:02:33,411 : INFO : PROGRESS: at 50.54% examples, 682376 words/s, in_qsize 0, out_qsize 0\n",
      "2017-11-26 16:02:34,420 : INFO : PROGRESS: at 51.20% examples, 682073 words/s, in_qsize 0, out_qsize 0\n",
      "2017-11-26 16:02:35,427 : INFO : PROGRESS: at 51.88% examples, 681967 words/s, in_qsize 0, out_qsize 0\n",
      "2017-11-26 16:02:36,430 : INFO : PROGRESS: at 52.55% examples, 681714 words/s, in_qsize 0, out_qsize 0\n",
      "2017-11-26 16:02:37,440 : INFO : PROGRESS: at 53.21% examples, 681564 words/s, in_qsize 0, out_qsize 0\n",
      "2017-11-26 16:02:38,454 : INFO : PROGRESS: at 53.89% examples, 681478 words/s, in_qsize 0, out_qsize 0\n",
      "2017-11-26 16:02:39,463 : INFO : PROGRESS: at 54.55% examples, 681248 words/s, in_qsize 0, out_qsize 0\n",
      "2017-11-26 16:02:40,467 : INFO : PROGRESS: at 55.23% examples, 681169 words/s, in_qsize 0, out_qsize 0\n",
      "2017-11-26 16:02:41,482 : INFO : PROGRESS: at 55.89% examples, 680927 words/s, in_qsize 0, out_qsize 0\n",
      "2017-11-26 16:02:42,493 : INFO : PROGRESS: at 56.58% examples, 680904 words/s, in_qsize 0, out_qsize 0\n",
      "2017-11-26 16:02:43,509 : INFO : PROGRESS: at 57.26% examples, 680872 words/s, in_qsize 0, out_qsize 0\n",
      "2017-11-26 16:02:44,509 : INFO : PROGRESS: at 57.92% examples, 680584 words/s, in_qsize 0, out_qsize 0\n",
      "2017-11-26 16:02:45,523 : INFO : PROGRESS: at 58.60% examples, 680394 words/s, in_qsize 0, out_qsize 0\n",
      "2017-11-26 16:02:46,525 : INFO : PROGRESS: at 59.27% examples, 680151 words/s, in_qsize 0, out_qsize 0\n",
      "2017-11-26 16:02:47,528 : INFO : PROGRESS: at 59.97% examples, 680050 words/s, in_qsize 0, out_qsize 0\n",
      "2017-11-26 16:02:48,545 : INFO : PROGRESS: at 60.63% examples, 680126 words/s, in_qsize 0, out_qsize 0\n",
      "2017-11-26 16:02:49,555 : INFO : PROGRESS: at 61.23% examples, 679491 words/s, in_qsize 0, out_qsize 0\n",
      "2017-11-26 16:02:50,559 : INFO : PROGRESS: at 61.85% examples, 679180 words/s, in_qsize 0, out_qsize 0\n",
      "2017-11-26 16:02:51,568 : INFO : PROGRESS: at 62.47% examples, 678626 words/s, in_qsize 0, out_qsize 0\n",
      "2017-11-26 16:02:52,569 : INFO : PROGRESS: at 63.12% examples, 678372 words/s, in_qsize 0, out_qsize 0\n",
      "2017-11-26 16:02:53,576 : INFO : PROGRESS: at 63.77% examples, 678307 words/s, in_qsize 0, out_qsize 0\n",
      "2017-11-26 16:02:54,588 : INFO : PROGRESS: at 64.44% examples, 678319 words/s, in_qsize 0, out_qsize 0\n",
      "2017-11-26 16:02:55,596 : INFO : PROGRESS: at 65.11% examples, 678359 words/s, in_qsize 0, out_qsize 0\n",
      "2017-11-26 16:02:56,598 : INFO : PROGRESS: at 65.75% examples, 678258 words/s, in_qsize 0, out_qsize 0\n",
      "2017-11-26 16:02:57,604 : INFO : PROGRESS: at 66.40% examples, 678154 words/s, in_qsize 0, out_qsize 0\n",
      "2017-11-26 16:02:58,612 : INFO : PROGRESS: at 67.05% examples, 678098 words/s, in_qsize 0, out_qsize 0\n",
      "2017-11-26 16:02:59,627 : INFO : PROGRESS: at 67.71% examples, 678124 words/s, in_qsize 0, out_qsize 0\n",
      "2017-11-26 16:03:00,628 : INFO : PROGRESS: at 68.35% examples, 678033 words/s, in_qsize 0, out_qsize 0\n",
      "2017-11-26 16:03:01,637 : INFO : PROGRESS: at 69.00% examples, 677870 words/s, in_qsize 0, out_qsize 0\n",
      "2017-11-26 16:03:02,638 : INFO : PROGRESS: at 69.66% examples, 677737 words/s, in_qsize 0, out_qsize 0\n",
      "2017-11-26 16:03:03,650 : INFO : PROGRESS: at 70.32% examples, 677545 words/s, in_qsize 0, out_qsize 0\n",
      "2017-11-26 16:03:04,651 : INFO : PROGRESS: at 70.99% examples, 677376 words/s, in_qsize 0, out_qsize 0\n",
      "2017-11-26 16:03:05,657 : INFO : PROGRESS: at 71.66% examples, 677265 words/s, in_qsize 0, out_qsize 0\n",
      "2017-11-26 16:03:06,661 : INFO : PROGRESS: at 72.32% examples, 677147 words/s, in_qsize 0, out_qsize 0\n",
      "2017-11-26 16:03:07,664 : INFO : PROGRESS: at 72.98% examples, 677006 words/s, in_qsize 0, out_qsize 0\n",
      "2017-11-26 16:03:08,668 : INFO : PROGRESS: at 73.64% examples, 676881 words/s, in_qsize 0, out_qsize 0\n",
      "2017-11-26 16:03:09,678 : INFO : PROGRESS: at 74.30% examples, 676817 words/s, in_qsize 0, out_qsize 0\n",
      "2017-11-26 16:03:10,684 : INFO : PROGRESS: at 74.97% examples, 676652 words/s, in_qsize 0, out_qsize 0\n",
      "2017-11-26 16:03:11,694 : INFO : PROGRESS: at 75.63% examples, 676522 words/s, in_qsize 0, out_qsize 0\n",
      "2017-11-26 16:03:12,694 : INFO : PROGRESS: at 76.29% examples, 676354 words/s, in_qsize 0, out_qsize 0\n",
      "2017-11-26 16:03:13,704 : INFO : PROGRESS: at 76.96% examples, 676341 words/s, in_qsize 0, out_qsize 0\n",
      "2017-11-26 16:03:14,717 : INFO : PROGRESS: at 77.63% examples, 676174 words/s, in_qsize 0, out_qsize 0\n",
      "2017-11-26 16:03:15,733 : INFO : PROGRESS: at 78.29% examples, 675932 words/s, in_qsize 0, out_qsize 0\n",
      "2017-11-26 16:03:16,734 : INFO : PROGRESS: at 78.93% examples, 675570 words/s, in_qsize 0, out_qsize 0\n",
      "2017-11-26 16:03:17,740 : INFO : PROGRESS: at 79.61% examples, 675420 words/s, in_qsize 0, out_qsize 0\n",
      "2017-11-26 16:03:18,740 : INFO : PROGRESS: at 80.27% examples, 675309 words/s, in_qsize 0, out_qsize 0\n",
      "2017-11-26 16:03:19,747 : INFO : PROGRESS: at 80.91% examples, 675292 words/s, in_qsize 0, out_qsize 0\n",
      "2017-11-26 16:03:20,750 : INFO : PROGRESS: at 81.55% examples, 675192 words/s, in_qsize 0, out_qsize 0\n",
      "2017-11-26 16:03:21,759 : INFO : PROGRESS: at 82.18% examples, 675018 words/s, in_qsize 0, out_qsize 0\n",
      "2017-11-26 16:03:22,763 : INFO : PROGRESS: at 82.83% examples, 674945 words/s, in_qsize 0, out_qsize 0\n",
      "2017-11-26 16:03:23,785 : INFO : PROGRESS: at 83.50% examples, 674819 words/s, in_qsize 0, out_qsize 0\n",
      "2017-11-26 16:03:24,798 : INFO : PROGRESS: at 84.15% examples, 674793 words/s, in_qsize 0, out_qsize 0\n",
      "2017-11-26 16:03:25,811 : INFO : PROGRESS: at 84.82% examples, 674738 words/s, in_qsize 0, out_qsize 0\n",
      "2017-11-26 16:03:26,812 : INFO : PROGRESS: at 85.47% examples, 674756 words/s, in_qsize 0, out_qsize 0\n",
      "2017-11-26 16:03:27,813 : INFO : PROGRESS: at 86.13% examples, 674807 words/s, in_qsize 0, out_qsize 0\n",
      "2017-11-26 16:03:28,818 : INFO : PROGRESS: at 86.77% examples, 674749 words/s, in_qsize 0, out_qsize 0\n",
      "2017-11-26 16:03:29,821 : INFO : PROGRESS: at 87.41% examples, 674709 words/s, in_qsize 0, out_qsize 0\n",
      "2017-11-26 16:03:30,834 : INFO : PROGRESS: at 88.07% examples, 674675 words/s, in_qsize 0, out_qsize 0\n",
      "2017-11-26 16:03:31,854 : INFO : PROGRESS: at 88.72% examples, 674668 words/s, in_qsize 0, out_qsize 0\n",
      "2017-11-26 16:03:32,865 : INFO : PROGRESS: at 89.39% examples, 674619 words/s, in_qsize 0, out_qsize 0\n",
      "2017-11-26 16:03:33,878 : INFO : PROGRESS: at 90.06% examples, 674541 words/s, in_qsize 0, out_qsize 0\n",
      "2017-11-26 16:03:34,878 : INFO : PROGRESS: at 90.71% examples, 674297 words/s, in_qsize 0, out_qsize 0\n",
      "2017-11-26 16:03:35,891 : INFO : PROGRESS: at 91.38% examples, 674197 words/s, in_qsize 0, out_qsize 0\n",
      "2017-11-26 16:03:36,903 : INFO : PROGRESS: at 92.05% examples, 674150 words/s, in_qsize 0, out_qsize 0\n"
     ]
    },
    {
     "name": "stderr",
     "output_type": "stream",
     "text": [
      "2017-11-26 16:03:37,908 : INFO : PROGRESS: at 92.71% examples, 674059 words/s, in_qsize 0, out_qsize 0\n",
      "2017-11-26 16:03:38,920 : INFO : PROGRESS: at 93.38% examples, 674008 words/s, in_qsize 0, out_qsize 0\n",
      "2017-11-26 16:03:39,937 : INFO : PROGRESS: at 94.04% examples, 673940 words/s, in_qsize 0, out_qsize 0\n",
      "2017-11-26 16:03:40,951 : INFO : PROGRESS: at 94.71% examples, 673844 words/s, in_qsize 0, out_qsize 0\n",
      "2017-11-26 16:03:41,957 : INFO : PROGRESS: at 95.37% examples, 673720 words/s, in_qsize 0, out_qsize 0\n",
      "2017-11-26 16:03:42,963 : INFO : PROGRESS: at 96.03% examples, 673659 words/s, in_qsize 0, out_qsize 0\n",
      "2017-11-26 16:03:43,976 : INFO : PROGRESS: at 96.70% examples, 673574 words/s, in_qsize 0, out_qsize 0\n",
      "2017-11-26 16:03:44,977 : INFO : PROGRESS: at 97.35% examples, 673468 words/s, in_qsize 0, out_qsize 0\n",
      "2017-11-26 16:03:45,980 : INFO : PROGRESS: at 98.03% examples, 673480 words/s, in_qsize 0, out_qsize 0\n",
      "2017-11-26 16:03:46,986 : INFO : PROGRESS: at 98.71% examples, 673431 words/s, in_qsize 0, out_qsize 0\n",
      "2017-11-26 16:03:48,007 : INFO : PROGRESS: at 99.40% examples, 673324 words/s, in_qsize 0, out_qsize 0\n",
      "2017-11-26 16:03:48,848 : INFO : worker thread finished; awaiting finish of 3 more threads\n",
      "2017-11-26 16:03:48,861 : INFO : worker thread finished; awaiting finish of 2 more threads\n",
      "2017-11-26 16:03:48,868 : INFO : worker thread finished; awaiting finish of 1 more threads\n",
      "2017-11-26 16:03:48,871 : INFO : worker thread finished; awaiting finish of 0 more threads\n",
      "2017-11-26 16:03:48,872 : INFO : training on 109614210 raw words (101679455 effective words) took 151.0s, 673340 effective words/s\n",
      "2017-11-26 16:03:48,874 : INFO : saving Word2Vec object under 300features-2window-40mincount, separately None\n",
      "2017-11-26 16:03:48,875 : INFO : not storing attribute syn0norm\n",
      "2017-11-26 16:03:48,878 : INFO : storing np array 'syn0' to 300features-2window-40mincount.wv.syn0.npy\n",
      "2017-11-26 16:03:49,187 : INFO : storing np array 'syn1neg' to 300features-2window-40mincount.syn1neg.npy\n",
      "2017-11-26 16:03:49,503 : INFO : not storing attribute cum_table\n",
      "2017-11-26 16:03:50,687 : INFO : saved 300features-2window-40mincount\n"
     ]
    }
   ],
   "source": [
    "model=train_model(sentences,2,'300features-2window-40mincount')"
   ]
  },
  {
   "cell_type": "code",
   "execution_count": 104,
   "metadata": {},
   "outputs": [
    {
     "data": {
      "text/plain": [
       "141760"
      ]
     },
     "execution_count": 104,
     "metadata": {},
     "output_type": "execute_result"
    }
   ],
   "source": [
    "len(model.wv.vocab)"
   ]
  },
  {
   "cell_type": "code",
   "execution_count": 107,
   "metadata": {},
   "outputs": [
    {
     "name": "stdout",
     "output_type": "stream",
     "text": [
      "左江\n"
     ]
    }
   ],
   "source": [
    "print model.wv.vocab.keys()[3]"
   ]
  },
  {
   "cell_type": "code",
   "execution_count": 1,
   "metadata": {},
   "outputs": [
    {
     "ename": "NameError",
     "evalue": "name 'model' is not defined",
     "output_type": "error",
     "traceback": [
      "\u001b[1;31m---------------------------------------------------------------------------\u001b[0m",
      "\u001b[1;31mNameError\u001b[0m                                 Traceback (most recent call last)",
      "\u001b[1;32m<ipython-input-1-e1e24179c78c>\u001b[0m in \u001b[0;36m<module>\u001b[1;34m()\u001b[0m\n\u001b[1;32m----> 1\u001b[1;33m \u001b[1;32mfor\u001b[0m \u001b[0mword\u001b[0m\u001b[1;33m,\u001b[0m\u001b[0msim\u001b[0m \u001b[1;32min\u001b[0m \u001b[0mmodel\u001b[0m\u001b[1;33m.\u001b[0m\u001b[0mmost_similar\u001b[0m\u001b[1;33m(\u001b[0m\u001b[1;34m'刘晓波'\u001b[0m\u001b[1;33m)\u001b[0m\u001b[1;33m:\u001b[0m \u001b[1;31m#天安门，毛泽东，江泽民，习近平，中国，中华民国，劳动教养，警察，刘晓波\u001b[0m\u001b[1;33m\u001b[0m\u001b[0m\n\u001b[0m\u001b[0;32m      2\u001b[0m     \u001b[1;32mprint\u001b[0m \u001b[1;34m'%s,%f'\u001b[0m \u001b[1;33m%\u001b[0m \u001b[1;33m(\u001b[0m\u001b[0mword\u001b[0m\u001b[1;33m,\u001b[0m\u001b[0msim\u001b[0m\u001b[1;33m)\u001b[0m\u001b[1;33m\u001b[0m\u001b[0m\n",
      "\u001b[1;31mNameError\u001b[0m: name 'model' is not defined"
     ]
    }
   ],
   "source": [
    "for word,sim in model.most_similar('毛泽东'): #天安门，毛泽东，江泽民，习近平，中国，中华民国，劳动教养，警察\n",
    "    print '%s,%f' % (word,sim)"
   ]
  },
  {
   "cell_type": "code",
   "execution_count": 114,
   "metadata": {},
   "outputs": [
    {
     "name": "stdout",
     "output_type": "stream",
     "text": [
      "台湾地区\n"
     ]
    }
   ],
   "source": [
    "print model.doesnt_match(\"中国 台湾地区 中华民国 中华人民共和国 我国\".split())"
   ]
  },
  {
   "cell_type": "code",
   "execution_count": 122,
   "metadata": {},
   "outputs": [
    {
     "name": "stdout",
     "output_type": "stream",
     "text": [
      "中华民国\n"
     ]
    }
   ],
   "source": [
    "print model.wv.most_similar(positive=['中华人民共和国', '台湾'], negative=['朝鲜'])[0][0]"
   ]
  },
  {
   "cell_type": "code",
   "execution_count": 82,
   "metadata": {},
   "outputs": [
    {
     "name": "stdout",
     "output_type": "stream",
     "text": [
      "0.424517981622\n",
      "0.385108087966\n"
     ]
    }
   ],
   "source": [
    "print model.wv.similarity('king','duke')\n",
    "print model.wv.similarity('king','queen')"
   ]
  },
  {
   "cell_type": "code",
   "execution_count": 155,
   "metadata": {},
   "outputs": [
    {
     "data": {
      "text/plain": [
       "18337"
      ]
     },
     "execution_count": 155,
     "metadata": {},
     "output_type": "execute_result"
    }
   ],
   "source": [
    "model.wv.vocab['阿基米德'].index"
   ]
  },
  {
   "cell_type": "code",
   "execution_count": null,
   "metadata": {},
   "outputs": [],
   "source": [
    "model.wv.syn0[model.wv.vocab['中国'].index]"
   ]
  },
  {
   "cell_type": "code",
   "execution_count": 46,
   "metadata": {
    "collapsed": true
   },
   "outputs": [
    {
     "name": "stderr",
     "output_type": "stream",
     "text": [
      "2017-11-20 12:15:27,973 : INFO : scoring sentences with 4 workers on 8306 vocabulary and 1000 features, using sg=0 hs=0 sample=0.003 and negative=5\n"
     ]
    },
    {
     "ename": "RuntimeError",
     "evalue": "We have currently only implemented score for the hierarchical softmax scheme, so you need to have run word2vec with hs=1 and negative=0 for this to work.",
     "output_type": "error",
     "traceback": [
      "\u001b[1;31m---------------------------------------------------------------------------\u001b[0m",
      "\u001b[1;31mRuntimeError\u001b[0m                              Traceback (most recent call last)",
      "\u001b[1;32m<ipython-input-46-056725adb780>\u001b[0m in \u001b[0;36m<module>\u001b[1;34m()\u001b[0m\n\u001b[1;32m----> 1\u001b[1;33m \u001b[0mmodel\u001b[0m\u001b[1;33m.\u001b[0m\u001b[0mscore\u001b[0m\u001b[1;33m(\u001b[0m\u001b[1;33m[\u001b[0m\u001b[1;34m\"I don't like this movie\"\u001b[0m\u001b[1;33m.\u001b[0m\u001b[0msplit\u001b[0m\u001b[1;33m(\u001b[0m\u001b[1;33m)\u001b[0m\u001b[1;33m]\u001b[0m\u001b[1;33m)\u001b[0m\u001b[1;33m\u001b[0m\u001b[0m\n\u001b[0m",
      "\u001b[1;32mc:\\python27\\lib\\site-packages\\gensim\\models\\word2vec.pyc\u001b[0m in \u001b[0;36mscore\u001b[1;34m(self, sentences, total_sentences, chunksize, queue_factor, report_delay)\u001b[0m\n\u001b[0;32m   1136\u001b[0m         \u001b[1;32mif\u001b[0m \u001b[1;32mnot\u001b[0m \u001b[0mself\u001b[0m\u001b[1;33m.\u001b[0m\u001b[0mhs\u001b[0m\u001b[1;33m:\u001b[0m\u001b[1;33m\u001b[0m\u001b[0m\n\u001b[0;32m   1137\u001b[0m             raise RuntimeError(\n\u001b[1;32m-> 1138\u001b[1;33m                 \u001b[1;34m\"We have currently only implemented score for the hierarchical softmax scheme, \"\u001b[0m\u001b[1;33m\u001b[0m\u001b[0m\n\u001b[0m\u001b[0;32m   1139\u001b[0m                 \u001b[1;34m\"so you need to have run word2vec with hs=1 and negative=0 for this to work.\"\u001b[0m\u001b[1;33m\u001b[0m\u001b[0m\n\u001b[0;32m   1140\u001b[0m             )\n",
      "\u001b[1;31mRuntimeError\u001b[0m: We have currently only implemented score for the hierarchical softmax scheme, so you need to have run word2vec with hs=1 and negative=0 for this to work."
     ]
    }
   ],
   "source": [
    "model.score([\"I don't like this movie\".split()])"
   ]
  },
  {
   "cell_type": "markdown",
   "metadata": {},
   "source": [
    "# Online Training: add data and update model"
   ]
  },
  {
   "cell_type": "code",
   "execution_count": 54,
   "metadata": {},
   "outputs": [],
   "source": [
    "train_2=pd.read_csv(\"unlabeledTrainData.tsv\", header=0, \\\n",
    "                    delimiter=\"\\t\", quoting=3)"
   ]
  },
  {
   "cell_type": "code",
   "execution_count": null,
   "metadata": {
    "scrolled": true
   },
   "outputs": [],
   "source": [
    "sentences=divide_sentences(train_2,tokenizer)"
   ]
  },
  {
   "cell_type": "markdown",
   "metadata": {},
   "source": [
    "# Word to Phrases"
   ]
  },
  {
   "cell_type": "code",
   "execution_count": null,
   "metadata": {},
   "outputs": [],
   "source": [
    "import gensim\n",
    "phrases_2 = gensim.models.Phrases(sentences)"
   ]
  },
  {
   "cell_type": "code",
   "execution_count": null,
   "metadata": {},
   "outputs": [],
   "source": [
    "test = list(phrases_2[sentences[0:2]])\n",
    "print test"
   ]
  },
  {
   "cell_type": "code",
   "execution_count": null,
   "metadata": {},
   "outputs": [],
   "source": [
    "phrases_3= gensim.models.Phrases(phrases_2[sentences])"
   ]
  },
  {
   "cell_type": "code",
   "execution_count": null,
   "metadata": {},
   "outputs": [],
   "source": [
    "test2=list(phrases_3[test])\n",
    "print test2"
   ]
  },
  {
   "cell_type": "markdown",
   "metadata": {},
   "source": [
    "# Doc2Vec"
   ]
  },
  {
   "cell_type": "code",
   "execution_count": 4,
   "metadata": {},
   "outputs": [],
   "source": [
    "laojiao = open(\"laojiao_tokenized.txt\", \"r\").readlines()"
   ]
  },
  {
   "cell_type": "code",
   "execution_count": 140,
   "metadata": {},
   "outputs": [
    {
     "data": {
      "text/plain": [
       "(141760L, 300L)"
      ]
     },
     "execution_count": 140,
     "metadata": {},
     "output_type": "execute_result"
    }
   ],
   "source": [
    "model.wv.syn0norm.shape"
   ]
  },
  {
   "cell_type": "code",
   "execution_count": 157,
   "metadata": {},
   "outputs": [
    {
     "data": {
      "text/plain": [
       "numpy.ndarray"
      ]
     },
     "execution_count": 157,
     "metadata": {},
     "output_type": "execute_result"
    }
   ],
   "source": [
    "type(model.wv.syn0norm)"
   ]
  },
  {
   "cell_type": "code",
   "execution_count": 158,
   "metadata": {},
   "outputs": [],
   "source": [
    "word2vec_weight=pd.DataFrame(model.wv.syn0norm)"
   ]
  },
  {
   "cell_type": "code",
   "execution_count": 183,
   "metadata": {},
   "outputs": [
    {
     "data": {
      "text/plain": [
       "12863"
      ]
     },
     "execution_count": 183,
     "metadata": {},
     "output_type": "execute_result"
    }
   ],
   "source": [
    "len(laojiao)"
   ]
  },
  {
   "cell_type": "code",
   "execution_count": 257,
   "metadata": {},
   "outputs": [
    {
     "name": "stdout",
     "output_type": "stream",
     "text": [
      "民告 村官 营口 81 老人 劳教 家属 检察院 劳教 司法厅 均告 这是 政府 行为 管不了 看押 老人 警察 你门 收押 80 多岁 老人 违法 警察 收押 老人 违法 办法 市里 领导 命令 我门 收押 领导 有事 负责 龚文祥 变态 辣椒 营口 冤案 美帝 香丽奈 \n",
      "\n"
     ]
    }
   ],
   "source": [
    "print laojiao[i]"
   ]
  },
  {
   "cell_type": "code",
   "execution_count": 292,
   "metadata": {},
   "outputs": [
    {
     "name": "stdout",
     "output_type": "stream",
     "text": [
      "警察\n"
     ]
    }
   ],
   "source": [
    "print model.wv.index2word[1079]"
   ]
  },
  {
   "cell_type": "code",
   "execution_count": 274,
   "metadata": {
    "scrolled": true
   },
   "outputs": [
    {
     "data": {
      "text/plain": [
       "46        0.02\n",
       "324       0.02\n",
       "364       0.02\n",
       "511       0.05\n",
       "582       0.02\n",
       "1079      0.05\n",
       "1150      0.02\n",
       "2756      0.02\n",
       "4125      0.09\n",
       "6286      0.02\n",
       "9811      0.05\n",
       "11149     0.02\n",
       "19598     0.05\n",
       "22159     0.02\n",
       "24967     0.02\n",
       "30810     0.02\n",
       "31384     0.02\n",
       "34611     0.02\n",
       "51896     0.05\n",
       "52220     0.07\n",
       "86746     0.02\n",
       "108570    0.02\n",
       "111974    0.02\n",
       "119090    0.02\n",
       "dtype: float64"
      ]
     },
     "execution_count": 274,
     "metadata": {},
     "output_type": "execute_result"
    }
   ],
   "source": [
    "case_vec[case_vec>0]"
   ]
  },
  {
   "cell_type": "code",
   "execution_count": 195,
   "metadata": {
    "scrolled": true
   },
   "outputs": [
    {
     "name": "stdout",
     "output_type": "stream",
     "text": [
      "0 Lines Have Been Vectorized\n",
      "100 Lines Have Been Vectorized\n",
      "200 Lines Have Been Vectorized\n",
      "300 Lines Have Been Vectorized\n",
      "400 Lines Have Been Vectorized\n",
      "500 Lines Have Been Vectorized\n",
      "600 Lines Have Been Vectorized\n",
      "700 Lines Have Been Vectorized\n",
      "800 Lines Have Been Vectorized\n",
      "900 Lines Have Been Vectorized\n",
      "1000 Lines Have Been Vectorized\n",
      "1100 Lines Have Been Vectorized\n",
      "1200 Lines Have Been Vectorized\n",
      "1300 Lines Have Been Vectorized\n",
      "1400 Lines Have Been Vectorized\n",
      "1500 Lines Have Been Vectorized\n",
      "1600 Lines Have Been Vectorized\n",
      "1700 Lines Have Been Vectorized\n",
      "1800 Lines Have Been Vectorized\n",
      "1900 Lines Have Been Vectorized\n",
      "2000 Lines Have Been Vectorized\n",
      "2100 Lines Have Been Vectorized\n",
      "2200 Lines Have Been Vectorized\n",
      "2300 Lines Have Been Vectorized\n",
      "2400 Lines Have Been Vectorized\n",
      "2500 Lines Have Been Vectorized\n",
      "2600 Lines Have Been Vectorized\n",
      "2700 Lines Have Been Vectorized\n",
      "2800 Lines Have Been Vectorized\n",
      "2900 Lines Have Been Vectorized\n",
      "3000 Lines Have Been Vectorized\n",
      "3100 Lines Have Been Vectorized\n",
      "3200 Lines Have Been Vectorized\n",
      "3300 Lines Have Been Vectorized\n",
      "3400 Lines Have Been Vectorized\n",
      "3500 Lines Have Been Vectorized\n",
      "3600 Lines Have Been Vectorized\n",
      "3700 Lines Have Been Vectorized\n",
      "3800 Lines Have Been Vectorized\n",
      "3900 Lines Have Been Vectorized\n",
      "4000 Lines Have Been Vectorized\n",
      "4100 Lines Have Been Vectorized\n",
      "4200 Lines Have Been Vectorized\n",
      "4300 Lines Have Been Vectorized\n",
      "4400 Lines Have Been Vectorized\n",
      "4500 Lines Have Been Vectorized\n",
      "4600 Lines Have Been Vectorized\n",
      "4700 Lines Have Been Vectorized\n",
      "4800 Lines Have Been Vectorized\n",
      "4900 Lines Have Been Vectorized\n",
      "5000 Lines Have Been Vectorized\n",
      "5100 Lines Have Been Vectorized\n",
      "5200 Lines Have Been Vectorized\n",
      "5300 Lines Have Been Vectorized\n",
      "5400 Lines Have Been Vectorized\n",
      "5500 Lines Have Been Vectorized\n",
      "5600 Lines Have Been Vectorized\n",
      "5700 Lines Have Been Vectorized\n",
      "5800 Lines Have Been Vectorized\n",
      "5900 Lines Have Been Vectorized\n",
      "6000 Lines Have Been Vectorized\n",
      "6100 Lines Have Been Vectorized\n",
      "6200 Lines Have Been Vectorized\n",
      "6300 Lines Have Been Vectorized\n",
      "6400 Lines Have Been Vectorized\n",
      "6500 Lines Have Been Vectorized\n",
      "6600 Lines Have Been Vectorized\n",
      "6700 Lines Have Been Vectorized\n",
      "6800 Lines Have Been Vectorized\n",
      "6900 Lines Have Been Vectorized\n",
      "7000 Lines Have Been Vectorized\n",
      "7100 Lines Have Been Vectorized\n",
      "7200 Lines Have Been Vectorized\n",
      "7300 Lines Have Been Vectorized\n",
      "7400 Lines Have Been Vectorized\n",
      "7500 Lines Have Been Vectorized\n",
      "7600 Lines Have Been Vectorized\n",
      "7700 Lines Have Been Vectorized\n",
      "7800 Lines Have Been Vectorized\n",
      "7900 Lines Have Been Vectorized\n",
      "8000 Lines Have Been Vectorized\n",
      "8100 Lines Have Been Vectorized\n",
      "8200 Lines Have Been Vectorized\n",
      "8300 Lines Have Been Vectorized\n",
      "8400 Lines Have Been Vectorized\n",
      "8500 Lines Have Been Vectorized\n",
      "8600 Lines Have Been Vectorized\n",
      "8700 Lines Have Been Vectorized\n",
      "8800 Lines Have Been Vectorized\n",
      "8900 Lines Have Been Vectorized\n",
      "9000 Lines Have Been Vectorized\n",
      "9100 Lines Have Been Vectorized\n",
      "9200 Lines Have Been Vectorized\n",
      "9300 Lines Have Been Vectorized\n",
      "9400 Lines Have Been Vectorized\n",
      "9500 Lines Have Been Vectorized\n",
      "9600 Lines Have Been Vectorized\n",
      "9700 Lines Have Been Vectorized\n",
      "9800 Lines Have Been Vectorized\n",
      "9900 Lines Have Been Vectorized\n",
      "10000 Lines Have Been Vectorized\n",
      "10100 Lines Have Been Vectorized\n",
      "10200 Lines Have Been Vectorized\n",
      "10300 Lines Have Been Vectorized\n",
      "10400 Lines Have Been Vectorized\n",
      "10500 Lines Have Been Vectorized\n",
      "10600 Lines Have Been Vectorized\n",
      "10700 Lines Have Been Vectorized\n",
      "10800 Lines Have Been Vectorized\n",
      "10900 Lines Have Been Vectorized\n",
      "11000 Lines Have Been Vectorized\n",
      "11100 Lines Have Been Vectorized\n",
      "11200 Lines Have Been Vectorized\n",
      "11300 Lines Have Been Vectorized\n",
      "11400 Lines Have Been Vectorized\n",
      "11500 Lines Have Been Vectorized\n",
      "11600 Lines Have Been Vectorized\n",
      "11700 Lines Have Been Vectorized\n",
      "11800 Lines Have Been Vectorized\n",
      "11900 Lines Have Been Vectorized\n",
      "12000 Lines Have Been Vectorized\n",
      "12100 Lines Have Been Vectorized\n",
      "12200 Lines Have Been Vectorized\n",
      "12300 Lines Have Been Vectorized\n",
      "12400 Lines Have Been Vectorized\n",
      "12500 Lines Have Been Vectorized\n",
      "12600 Lines Have Been Vectorized\n",
      "12700 Lines Have Been Vectorized\n",
      "12800 Lines Have Been Vectorized\n"
     ]
    }
   ],
   "source": [
    "num=len(model.wv.vocab.keys())\n",
    "laojiao_vec=[]\n",
    "for i in range(len(laojiao)):\n",
    "    case_vec=[0]*num\n",
    "    line=laojiao[i].strip()\n",
    "    words=line.split()\n",
    "    length=len(words)\n",
    "    for word in set(words):\n",
    "        tf=words.count(word) #absolute word freq\n",
    "        tf=round(float(tf)/length,2) #relative word freq\n",
    "        if word in model.wv.vocab.keys():\n",
    "            case_vec[model.wv.vocab[word].index]=tf\n",
    "    case_vec=pd.Series(case_vec)\n",
    "    output_vec=case_vec.dot(word2vec_weight).tolist()\n",
    "    output_vec=[round(j,2) for j in output_vec]\n",
    "    laojiao_vec.append(output_vec)\n",
    "    if i % 100 ==0:\n",
    "        print \"%d Lines Have Been Vectorized\" % i"
   ]
  },
  {
   "cell_type": "markdown",
   "metadata": {},
   "source": [
    "## PCA (features reduction)"
   ]
  },
  {
   "cell_type": "code",
   "execution_count": 218,
   "metadata": {},
   "outputs": [
    {
     "data": {
      "text/plain": [
       "PCA(copy=True, iterated_power='auto', n_components=28, random_state=None,\n",
       "  svd_solver='auto', tol=0.0, whiten=False)"
      ]
     },
     "execution_count": 218,
     "metadata": {},
     "output_type": "execute_result"
    }
   ],
   "source": [
    "from sklearn.decomposition import PCA\n",
    "pca = PCA(n_components=28)\n",
    "pca.fit(laojiao_vec)"
   ]
  },
  {
   "cell_type": "code",
   "execution_count": 219,
   "metadata": {},
   "outputs": [
    {
     "data": {
      "text/plain": [
       "0.80162898595889465"
      ]
     },
     "execution_count": 219,
     "metadata": {},
     "output_type": "execute_result"
    }
   ],
   "source": [
    "pca.explained_variance_ratio_.sum()"
   ]
  },
  {
   "cell_type": "code",
   "execution_count": 220,
   "metadata": {},
   "outputs": [],
   "source": [
    "laojiao_svd=pca.transform(laojiao_vec)"
   ]
  },
  {
   "cell_type": "code",
   "execution_count": 343,
   "metadata": {},
   "outputs": [],
   "source": [
    "from sklearn.metrics.pairwise import cosine_similarity as sim\n",
    "pairwise_similarity=sim(laojiao_vec)"
   ]
  },
  {
   "cell_type": "code",
   "execution_count": 319,
   "metadata": {},
   "outputs": [
    {
     "data": {
      "text/plain": [
       "(12863L, 12863L)"
      ]
     },
     "execution_count": 319,
     "metadata": {},
     "output_type": "execute_result"
    }
   ],
   "source": [
    "pairwise_similarity.shape"
   ]
  },
  {
   "cell_type": "code",
   "execution_count": 241,
   "metadata": {},
   "outputs": [
    {
     "data": {
      "text/plain": [
       "11802"
      ]
     },
     "execution_count": 241,
     "metadata": {},
     "output_type": "execute_result"
    }
   ],
   "source": [
    "n=2\n",
    "pairwise_similarity[n][n+1:].argmax()"
   ]
  },
  {
   "cell_type": "code",
   "execution_count": 276,
   "metadata": {},
   "outputs": [
    {
     "data": {
      "text/plain": [
       "array([ 1.        ,  0.79025758,  0.83835771, ...,  0.680137  ,\n",
       "        0.72587258,  0.89072133])"
      ]
     },
     "execution_count": 276,
     "metadata": {},
     "output_type": "execute_result"
    }
   ],
   "source": [
    "pairwise_similarity[0]"
   ]
  },
  {
   "cell_type": "code",
   "execution_count": 251,
   "metadata": {},
   "outputs": [],
   "source": [
    "for word in laojiao[n]:\n",
    "    if word in model.wv.vocab.keys():\n",
    "        print word"
   ]
  },
  {
   "cell_type": "code",
   "execution_count": 280,
   "metadata": {},
   "outputs": [
    {
     "name": "stdout",
     "output_type": "stream",
     "text": [
      "记者 重庆晨报 多位 人士处 获悉 重庆 希尔顿 股东 涉黑 案发后 重庆晨报 记者 因为 天涯 论坛 发布 不当 言论 有关 部门 处以 劳教 另有 两名 记者 因在 QQ 群内 讨论 不当 内容 警方 传讯 竟有 此事 \n",
      "\n"
     ]
    }
   ],
   "source": [
    "print laojiao[2]"
   ]
  },
  {
   "cell_type": "code",
   "execution_count": 5,
   "metadata": {},
   "outputs": [
    {
     "name": "stdout",
     "output_type": "stream",
     "text": [
      "不如 当初 直接 李庄 劳教 重庆 到底 怎么 为了 李庄 法律 王冉 认识 李庄 即便 认识 甚至 一定 喜欢 信任 李庄 这个 案件 中有 更加 喜欢 信任 一方 极致 一点 本案 过程 结局 可能 影响 很多 这个 国家 走向 法治 社会 进程 \n",
      "\n"
     ]
    },
    {
     "ename": "NameError",
     "evalue": "name 'pairwise_similarity' is not defined",
     "output_type": "error",
     "traceback": [
      "\u001b[1;31m---------------------------------------------------------------------------\u001b[0m",
      "\u001b[1;31mNameError\u001b[0m                                 Traceback (most recent call last)",
      "\u001b[1;32m<ipython-input-5-85493bede7c7>\u001b[0m in \u001b[0;36m<module>\u001b[1;34m()\u001b[0m\n\u001b[0;32m      1\u001b[0m \u001b[0mn\u001b[0m\u001b[1;33m=\u001b[0m\u001b[1;36m22\u001b[0m\u001b[1;33m\u001b[0m\u001b[0m\n\u001b[0;32m      2\u001b[0m \u001b[1;32mprint\u001b[0m \u001b[0mlaojiao\u001b[0m\u001b[1;33m[\u001b[0m\u001b[0mn\u001b[0m\u001b[1;33m]\u001b[0m\u001b[1;33m\u001b[0m\u001b[0m\n\u001b[1;32m----> 3\u001b[1;33m \u001b[1;32mprint\u001b[0m \u001b[0mlaojiao\u001b[0m\u001b[1;33m[\u001b[0m\u001b[0mpairwise_similarity\u001b[0m\u001b[1;33m[\u001b[0m\u001b[0mn\u001b[0m\u001b[1;33m]\u001b[0m\u001b[1;33m.\u001b[0m\u001b[0margsort\u001b[0m\u001b[1;33m(\u001b[0m\u001b[1;33m)\u001b[0m\u001b[1;33m[\u001b[0m\u001b[1;33m-\u001b[0m\u001b[1;36m2\u001b[0m\u001b[1;33m]\u001b[0m\u001b[1;33m]\u001b[0m\u001b[1;33m\u001b[0m\u001b[0m\n\u001b[0m",
      "\u001b[1;31mNameError\u001b[0m: name 'pairwise_similarity' is not defined"
     ]
    }
   ],
   "source": [
    "n=22\n",
    "print laojiao[n]\n",
    "print laojiao[pairwise_similarity[n].argsort()[-2]]"
   ]
  }
 ],
 "metadata": {
  "kernelspec": {
   "display_name": "Python 2",
   "language": "python",
   "name": "python2"
  },
  "language_info": {
   "codemirror_mode": {
    "name": "ipython",
    "version": 2
   },
   "file_extension": ".py",
   "mimetype": "text/x-python",
   "name": "python",
   "nbconvert_exporter": "python",
   "pygments_lexer": "ipython2",
   "version": "2.7.13"
  }
 },
 "nbformat": 4,
 "nbformat_minor": 2
}
